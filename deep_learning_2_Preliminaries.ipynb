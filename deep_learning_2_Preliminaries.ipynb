{
  "nbformat": 4,
  "nbformat_minor": 0,
  "metadata": {
    "colab": {
      "provenance": [],
      "mount_file_id": "1_Lzx_dhcwYPkjIvOKb4yiabqz_wwx4UK",
      "authorship_tag": "ABX9TyPZk+j8a/iFPAMqXhSo+vUx",
      "include_colab_link": true
    },
    "kernelspec": {
      "name": "python3",
      "display_name": "Python 3"
    },
    "language_info": {
      "name": "python"
    }
  },
  "cells": [
    {
      "cell_type": "markdown",
      "metadata": {
        "id": "view-in-github",
        "colab_type": "text"
      },
      "source": [
        "<a href=\"https://colab.research.google.com/github/surapitttha/Deep-Learning-/blob/main/deep_learning_2_Preliminaries.ipynb\" target=\"_parent\"><img src=\"https://colab.research.google.com/assets/colab-badge.svg\" alt=\"Open In Colab\"/></a>"
      ]
    },
    {
      "cell_type": "markdown",
      "source": [
        "\n",
        "ในการเตรียมพร้อมสำหรับการเรียนรู้เชิงลึก คุณจะต้องมีทักษะการเอาชีวิตรอดบางประการ ได้แก่:\n",
        "\n",
        "(i) เทคนิคสำหรับการจัดเก็บและจัดการข้อมูล\n",
        "(ii) ไลบรารีสำหรับการนำเข้าและประมวลผลข้อมูลจากแหล่งต่างๆ\n",
        "(iii) ความรู้เกี่ยวกับการดำเนินการพีชคณิตเชิงเส้นพื้นฐานที่เราใช้กับองค์ประกอบข้อมูลมิติสูง\n",
        "(iv) แคลคูลัสเพียงพอที่จะกำหนดทิศทางในการปรับพารามิเตอร์แต่ละตัวเพื่อลดฟังก์ชันการสูญเสีย\n",
        "(v) ความสามารถในการคำนวณอนุพันธ์โดยอัตโนมัติเพื่อให้คุณลืมแคลคูลัสที่คุณเพิ่งเรียนรู้ไปได้มาก\n",
        "(vi) ความเข้าใจพื้นฐานเกี่ยวกับความน่าจะเป็น ซึ่งเป็นภาษาหลักของเราสำหรับการใช้เหตุผลภายใต้ความไม่แน่นอน\n",
        "(vii) ความสามารถในการค้นหาคำตอบในเอกสารอย่างเป็นทางการเมื่อคุณติดขัด\n",
        "\n",
        "โดยสรุป บทนี้จะให้คำแนะนำเบื้องต้นอย่างรวดเร็วเกี่ยวกับพื้นฐานที่คุณจำเป็นต้องรู้เพื่อติดตามเนื้อหาทางเทคนิคส่วนใหญ่ในหนังสือเล่มนี้\n",
        "\n",
        "**สรุป**\n",
        "\n",
        "ในการเตรียมพร้อมสำหรับการเรียนรู้เชิงลึก คุณจะต้องมีพื้นฐานในด้านต่อไปนี้:\n",
        "\n",
        "* เทคนิคการจัดเก็บและจัดการข้อมูล\n",
        "* ไลบรารีสำหรับการนำเข้าและประมวลผลข้อมูลจากแหล่งต่างๆ\n",
        "* พีชคณิตเชิงเส้นพื้นฐาน\n",
        "* แคลคูลัสพื้นฐาน\n",
        "* การคำนวณอนุพันธ์โดยอัตโนมัติ\n",
        "* ความน่าจะเป็น\n",
        "* ความสามารถในการค้นหาคำตอบในเอกสารอย่างเป็นทางการ\n",
        "\n",
        "บทนี้จะให้คำแนะนำเบื้องต้นเกี่ยวกับพื้นฐานเหล่านี้ เพื่อให้คุณสามารถติดตามเนื้อหาทางเทคนิคส่วนใหญ่ในหนังสือเล่มนี้ได้"
      ],
      "metadata": {
        "id": "sckQs3T-36Uz"
      }
    },
    {
      "cell_type": "code",
      "execution_count": null,
      "metadata": {
        "id": "wLsV8mz_3WwS"
      },
      "outputs": [],
      "source": []
    },
    {
      "cell_type": "markdown",
      "source": [
        "#2.1 Data Manipulation\n"
      ],
      "metadata": {
        "id": "upog4DdB4ClV"
      }
    },
    {
      "cell_type": "markdown",
      "source": [
        "2.1.1 Getting Started"
      ],
      "metadata": {
        "id": "SeVpU2O_4Pq9"
      }
    },
    {
      "cell_type": "markdown",
      "source": [
        "To start, we import the PyTorch library. Note that the package name is torch.\n"
      ],
      "metadata": {
        "id": "HosTmKC-4REN"
      }
    },
    {
      "cell_type": "code",
      "source": [
        "import torch"
      ],
      "metadata": {
        "id": "sdmoDl0o4FKU"
      },
      "execution_count": null,
      "outputs": []
    },
    {
      "cell_type": "markdown",
      "source": [
        "**การแปลและเรียบเรียง**\n",
        "\n",
        "Tensor เป็นอาร์เรย์ของค่าตัวเลขที่มีมิติได้หลายมิติ ในกรณีหนึ่งมิติ นั่นคือ เมื่อมีเพียงแกนเดียว เราจะเรียก tensor ว่าเวกเตอร์ ด้วยแกนสองแกน Tensor จะเรียกว่าเมทริกซ์ ด้วยแกนมากกว่า 2 แกน เราจะลบชื่อเฉพาะออกและเรียกวัตถุนี้ว่าเทนเซอร์อันดับ k\n",
        "\n",
        "PyTorch มีฟังก์ชันมากมายสำหรับสร้างเทนเซอร์ใหม่ที่เติมค่าไว้ล่วงหน้า ตัวอย่างเช่น ด้วยการเรียกใช้ arange(n) เราสามารถสร้างเวกเตอร์ของค่าที่มีระยะห่างเท่ากัน โดยเริ่มต้นที่ 0 (รวม) และสิ้นสุดที่ n (ไม่รวม) โดยค่าเริ่มต้น ขนาดของช่วงคือ 1 เว้นแต่จะระบุไว้เป็นอย่างอื่น เทนเซอร์ใหม่จะถูกจัดเก็บในหน่วยความจำหลักและกำหนดสำหรับการคำนวณบน CPU\n",
        "\n",
        "**สรุป**\n",
        "\n",
        "Tensor เป็นอาร์เรย์ของค่าตัวเลขที่มีมิติได้หลายมิติ ใน PyTorch มีฟังก์ชันมากมายสำหรับสร้างเทนเซอร์ใหม่ที่เติมค่าไว้ล่วงหน้า เทนเซอร์ใหม่จะถูกจัดเก็บในหน่วยความจำหลักและกำหนดสำหรับการคำนวณบน CPU\n",
        "\n",
        "**คำศัพท์:**\n",
        "\n",
        "* Tensor: เทนเซอร์\n",
        "* Array: อาร์เรย์\n",
        "* Dimension: มิติ\n",
        "* Vector: เวกเตอร์\n",
        "* Matrix: เมทริกซ์\n",
        "* Order: อันดับ\n",
        "* Main memory: หน่วยความจำหลัก\n",
        "* CPU-based computation: การคำนวณบน CPU\n",
        "\n",
        "หวังว่าคำตอบนี้จะเป็นประโยชน์นะครับ"
      ],
      "metadata": {
        "id": "pJLcBXOO4qeY"
      }
    },
    {
      "cell_type": "code",
      "source": [
        "x = torch.arange(12, dtype=torch.float32)\n",
        "x"
      ],
      "metadata": {
        "colab": {
          "base_uri": "https://localhost:8080/"
        },
        "id": "61In7iVy4W6e",
        "outputId": "952cfba2-50bb-41ec-d7b6-31d948c11002"
      },
      "execution_count": null,
      "outputs": [
        {
          "output_type": "execute_result",
          "data": {
            "text/plain": [
              "tensor([ 0.,  1.,  2.,  3.,  4.,  5.,  6.,  7.,  8.,  9., 10., 11.])"
            ]
          },
          "metadata": {},
          "execution_count": 2
        }
      ]
    },
    {
      "cell_type": "markdown",
      "source": [
        "ค่าแต่ละค่าในเทนเซอร์เรียกว่าองค์ประกอบของเทนเซอร์ เทนเซอร์ x มี 12 องค์ประกอบ\n",
        "\n",
        "เราสามารถตรวจสอบจำนวนองค์ประกอบทั้งหมดในเทนเซอร์ผ่านเมธอด numel ของเทนเซอร์ดังกล่าว"
      ],
      "metadata": {
        "id": "xWOgMD9D4vTr"
      }
    },
    {
      "cell_type": "code",
      "source": [
        "x.numel()"
      ],
      "metadata": {
        "colab": {
          "base_uri": "https://localhost:8080/"
        },
        "id": "XuA4d2-U48xE",
        "outputId": "128afb9f-d739-466e-b46e-8dc47b1fab4f"
      },
      "execution_count": null,
      "outputs": [
        {
          "output_type": "execute_result",
          "data": {
            "text/plain": [
              "12"
            ]
          },
          "metadata": {},
          "execution_count": 3
        }
      ]
    },
    {
      "cell_type": "markdown",
      "source": [
        "เราสามารถเข้าถึงรูปร่างของเทนเซอร์ (ความยาวตามแต่ละแกน) โดยการตรวจสอบแอตทริบิวต์ shape ของเทนเซอร์นั้น เนื่องจากเรากำลังจัดการกับเวกเตอร์ที่นี่ รูปร่างจึงมีเพียงองค์ประกอบเดียวและเหมือนกับขนาด"
      ],
      "metadata": {
        "id": "1_h9okNc5GD7"
      }
    },
    {
      "cell_type": "code",
      "source": [
        "x.shape"
      ],
      "metadata": {
        "colab": {
          "base_uri": "https://localhost:8080/"
        },
        "id": "apOrzTnP5AGs",
        "outputId": "1cbbe8d3-b877-4c65-fdf7-46f07a09ecc1"
      },
      "execution_count": null,
      "outputs": [
        {
          "output_type": "execute_result",
          "data": {
            "text/plain": [
              "torch.Size([12])"
            ]
          },
          "metadata": {},
          "execution_count": 4
        }
      ]
    },
    {
      "cell_type": "markdown",
      "source": [
        "\n",
        "การแปลภาษา\n",
        "\n",
        "เราสามารถเปลี่ยนรูปร่างของเทนเซอร์ได้โดยไม่เปลี่ยนแปลงขนาดหรือค่าของเทนเซอร์นั้น โดยการเรียกใช้ reshape ตัวอย่างเช่น เราสามารถแปลงเวกเตอร์ x ที่มีรูปร่าง (12,) เป็นเมทริกซ์ X ที่มีรูปร่าง (3, 4) ได้ เทนเซอร์ใหม่นี้จะเก็บองค์ประกอบทั้งหมดไว้ แต่จัดเรียงใหม่เป็นเมทริกซ์ โปรดสังเกตว่าองค์ประกอบของเวกเตอร์ของเราจะถูกวางเรียงทีละแถว ดังนั้น x[3] == X[0, 3]"
      ],
      "metadata": {
        "id": "AFRuMQ335hNa"
      }
    },
    {
      "cell_type": "code",
      "source": [
        "x.reshape(3,4)"
      ],
      "metadata": {
        "colab": {
          "base_uri": "https://localhost:8080/"
        },
        "id": "ppBei-SH5Lga",
        "outputId": "8fe8a938-29b7-4a73-da0a-dd6d7cf13386"
      },
      "execution_count": null,
      "outputs": [
        {
          "output_type": "execute_result",
          "data": {
            "text/plain": [
              "tensor([[ 0.,  1.,  2.,  3.],\n",
              "        [ 4.,  5.,  6.,  7.],\n",
              "        [ 8.,  9., 10., 11.]])"
            ]
          },
          "metadata": {},
          "execution_count": 5
        }
      ]
    },
    {
      "cell_type": "markdown",
      "source": [
        "โปรดสังเกตว่าการระบุทุกองค์ประกอบของรูปร่างเพื่อ reshape เป็นสิ่งที่ไม่จำเป็น เนื่องจากเรารู้ขนาดของเทนเซอร์ของเราอยู่แล้ว เราสามารถคำนวณองค์ประกอบหนึ่งของรูปร่างได้โดยกำหนดส่วนที่เหลือ ตัวอย่างเช่น กำหนดเทนเซอร์ที่มีขนาด n และรูปร่างเป้าหมาย (h, w) เรารู้ว่า w = n/h เพื่ออนุมานองค์ประกอบหนึ่งของรูปร่างโดยอัตโนมัติ เราสามารถใส่ -1 สำหรับองค์ประกอบของรูปร่างที่ควรอนุมานโดยอัตโนมัติ ในกรณีของเรา แทนที่จะเรียก x.reshape(3, 4) เราอาจเรียก x.reshape(-1, 4) หรือ x.reshape(3, -1) ได้เทียบเท่ากัน\n",
        "\n",
        "ผู้ปฏิบัติงานมักต้องทำงานกับเทนเซอร์ที่เริ่มต้นเพื่อให้มีค่า 0 หรือ 1 ทั้งหมด เราสามารถสร้างเทนเซอร์ที่มีองค์ประกอบทั้งหมดตั้งเป็น 0 และรูปร่างของ (2, 3, 4) ได้ผ่านฟังก์ชัน zeros"
      ],
      "metadata": {
        "id": "HuVb1NeD5gVi"
      }
    },
    {
      "cell_type": "code",
      "source": [
        "x.reshape(4,-1)"
      ],
      "metadata": {
        "colab": {
          "base_uri": "https://localhost:8080/"
        },
        "id": "o2mGTzZp6Cwo",
        "outputId": "524d3ddc-7ea6-43ec-d5a6-44d7618f91a5"
      },
      "execution_count": null,
      "outputs": [
        {
          "output_type": "execute_result",
          "data": {
            "text/plain": [
              "tensor([[ 0.,  1.,  2.],\n",
              "        [ 3.,  4.,  5.],\n",
              "        [ 6.,  7.,  8.],\n",
              "        [ 9., 10., 11.]])"
            ]
          },
          "metadata": {},
          "execution_count": 8
        }
      ]
    },
    {
      "cell_type": "code",
      "source": [
        "x.reshape(2,-1)"
      ],
      "metadata": {
        "colab": {
          "base_uri": "https://localhost:8080/"
        },
        "id": "PRJZjHdx6J6W",
        "outputId": "4e701222-82d8-46e2-c739-fa58222bd6a2"
      },
      "execution_count": null,
      "outputs": [
        {
          "output_type": "execute_result",
          "data": {
            "text/plain": [
              "tensor([[ 0.,  1.,  2.,  3.,  4.,  5.],\n",
              "        [ 6.,  7.,  8.,  9., 10., 11.]])"
            ]
          },
          "metadata": {},
          "execution_count": 9
        }
      ]
    },
    {
      "cell_type": "code",
      "source": [
        "torch.zeros(2,3,4)"
      ],
      "metadata": {
        "colab": {
          "base_uri": "https://localhost:8080/"
        },
        "id": "eEsJf2Ec5YY2",
        "outputId": "90e015af-ba93-4978-c451-bdb14d8adfb0"
      },
      "execution_count": null,
      "outputs": [
        {
          "output_type": "execute_result",
          "data": {
            "text/plain": [
              "tensor([[[0., 0., 0., 0.],\n",
              "         [0., 0., 0., 0.],\n",
              "         [0., 0., 0., 0.]],\n",
              "\n",
              "        [[0., 0., 0., 0.],\n",
              "         [0., 0., 0., 0.],\n",
              "         [0., 0., 0., 0.]]])"
            ]
          },
          "metadata": {},
          "execution_count": 6
        }
      ]
    },
    {
      "cell_type": "code",
      "source": [],
      "metadata": {
        "id": "V_98Vc1B6VJL"
      },
      "execution_count": null,
      "outputs": []
    },
    {
      "cell_type": "code",
      "source": [
        "torch.zeros(2,3,4).shape"
      ],
      "metadata": {
        "colab": {
          "base_uri": "https://localhost:8080/"
        },
        "id": "LeDzrCQ15ye2",
        "outputId": "63a7cd28-950d-4784-9be1-48a4e733c70a"
      },
      "execution_count": null,
      "outputs": [
        {
          "output_type": "execute_result",
          "data": {
            "text/plain": [
              "torch.Size([2, 3, 4])"
            ]
          },
          "metadata": {},
          "execution_count": 7
        }
      ]
    },
    {
      "cell_type": "markdown",
      "source": [
        "ในทำนองเดียวกัน เราสามารถสร้างเทนเซอร์ที่มีค่า 1 ทั้งหมดได้โดยการเรียกใช้ ones"
      ],
      "metadata": {
        "id": "-mIS2JPc6Z0F"
      }
    },
    {
      "cell_type": "code",
      "source": [
        "torch.ones((2,3,4))"
      ],
      "metadata": {
        "colab": {
          "base_uri": "https://localhost:8080/"
        },
        "id": "V_8pzP-L6WFz",
        "outputId": "877166df-ee13-4fb5-adc5-fb7c8ddd9404"
      },
      "execution_count": null,
      "outputs": [
        {
          "output_type": "execute_result",
          "data": {
            "text/plain": [
              "tensor([[[1., 1., 1., 1.],\n",
              "         [1., 1., 1., 1.],\n",
              "         [1., 1., 1., 1.]],\n",
              "\n",
              "        [[1., 1., 1., 1.],\n",
              "         [1., 1., 1., 1.],\n",
              "         [1., 1., 1., 1.]]])"
            ]
          },
          "metadata": {},
          "execution_count": 10
        }
      ]
    },
    {
      "cell_type": "markdown",
      "source": [
        "เรามักต้องการสุ่มตัวอย่างแต่ละองค์ประกอบแบบสุ่ม (และไม่ขึ้นต่อกัน) จากฟังก์ชันการแจกแจงความน่าจะเป็นที่กำหนด ตัวอย่างเช่น พารามิเตอร์ของเครือข่ายประสาทมักเริ่มต้นแบบสุ่ม สนิปเป็ตต่อไปนี้สร้างเทนเซอร์ที่มีองค์ประกอบที่วาดจากฟังก์ชันการแจกแจงแบบเกาส์มาตรฐาน (ปกติ) โดยมีค่าเฉลี่ย 0 และส่วนเบี่ยงเบนมาตรฐาน 1"
      ],
      "metadata": {
        "id": "R_mKeU0-6j1J"
      }
    },
    {
      "cell_type": "code",
      "source": [
        "import torch\n",
        "\n",
        "# Create a tensor of elements drawn from a standard Gaussian distribution\n",
        "X = torch.randn((2, 3, 4))\n",
        "\n",
        "# Print the tensor\n",
        "print(X)\n"
      ],
      "metadata": {
        "colab": {
          "base_uri": "https://localhost:8080/"
        },
        "id": "AyTGgCh36Y7t",
        "outputId": "316e0ee7-feb5-4deb-84d0-f7e39d7fc600"
      },
      "execution_count": null,
      "outputs": [
        {
          "output_type": "stream",
          "name": "stdout",
          "text": [
            "tensor([[[ 7.9948e-01, -5.8139e-01, -2.6846e-01,  6.2386e-01],\n",
            "         [-5.6546e-01,  1.7168e+00,  6.3314e-01,  1.1047e+00],\n",
            "         [ 1.1252e-03, -1.2404e+00,  1.0591e+00,  2.8100e-01]],\n",
            "\n",
            "        [[ 7.8367e-01,  2.8471e-01, -1.9310e+00,  3.3191e-01],\n",
            "         [-1.7737e-01,  1.2246e+00, -1.7026e-01, -5.4285e-01],\n",
            "         [ 1.5949e+00,  4.5789e-01,  5.9535e-01,  1.5532e-02]]])\n"
          ]
        }
      ]
    },
    {
      "cell_type": "markdown",
      "source": [
        "**คำศัพท์:**\n",
        "\n",
        "* Random sample: การสุ่มตัวอย่าง\n",
        "* Independently: ไม่ขึ้นต่อกัน\n",
        "* Probability distribution: ฟังก์ชันการแจกแจงความน่าจะเป็น\n",
        "* Neural network parameters: พารามิเตอร์ของเครือข่ายประสาท\n",
        "* Standard Gaussian distribution: ฟังก์ชันการแจกแจงแบบเกาส์มาตรฐาน (ปกติ)\n",
        "* Mean: ค่าเฉลี่ย\n",
        "* Standard deviation: ส่วนเบี่ยงเบนมาตรฐาน\n"
      ],
      "metadata": {
        "id": "lF1rwA9D7Bof"
      }
    },
    {
      "cell_type": "markdown",
      "source": [
        "ช่ครับ ในที่สุด เราก็สามารถสร้างเทนเซอร์ได้โดยการให้ค่าที่แน่นอนสำหรับแต่ละองค์ประกอบโดยการให้รายการ (อาจซ้อนกันได้) ของ Python list(s) ที่มีค่าตัวเลข ในที่นี้ เราสร้างเมทริกซ์ที่มีรายการของรายการ โดยที่รายการนอกสุดสอดคล้องกับแกน 0 และรายการด้านในสอดคล้องกับแกน 1"
      ],
      "metadata": {
        "id": "HaBBPWv-7Syp"
      }
    },
    {
      "cell_type": "code",
      "source": [
        "import torch\n",
        "\n",
        "# Create a matrix with a list of lists\n",
        "X = torch.tensor([[1, 2, 3], [4, 5, 6]])\n",
        "Y = torch.tensor([[2, 1, 4, 3], [1, 2, 3, 4], [4, 3, 2, 1]])\n",
        "\n",
        "# Print the tensor\n",
        "print(X)\n",
        "print(Y)\n"
      ],
      "metadata": {
        "colab": {
          "base_uri": "https://localhost:8080/"
        },
        "id": "z6sr39Bn65Df",
        "outputId": "0e4e1d4f-50d6-413c-dbe9-d1967c2a60b4"
      },
      "execution_count": null,
      "outputs": [
        {
          "output_type": "stream",
          "name": "stdout",
          "text": [
            "tensor([[1, 2, 3],\n",
            "        [4, 5, 6]])\n",
            "tensor([[2, 1, 4, 3],\n",
            "        [1, 2, 3, 4],\n",
            "        [4, 3, 2, 1]])\n"
          ]
        }
      ]
    },
    {
      "cell_type": "code",
      "source": [
        "X.shape"
      ],
      "metadata": {
        "colab": {
          "base_uri": "https://localhost:8080/"
        },
        "id": "UaUd05M37WNE",
        "outputId": "4ede8071-20c8-4d45-a7c8-1306164a25fd"
      },
      "execution_count": null,
      "outputs": [
        {
          "output_type": "execute_result",
          "data": {
            "text/plain": [
              "torch.Size([2, 3])"
            ]
          },
          "metadata": {},
          "execution_count": 14
        }
      ]
    },
    {
      "cell_type": "code",
      "source": [
        "Y.shape"
      ],
      "metadata": {
        "colab": {
          "base_uri": "https://localhost:8080/"
        },
        "id": "uVmnuYDE7g10",
        "outputId": "29b83584-6168-435a-ce96-f838db19d7cf"
      },
      "execution_count": null,
      "outputs": [
        {
          "output_type": "execute_result",
          "data": {
            "text/plain": [
              "torch.Size([3, 4])"
            ]
          },
          "metadata": {},
          "execution_count": 15
        }
      ]
    },
    {
      "cell_type": "code",
      "source": [],
      "metadata": {
        "id": "lfRC-gQI7igR"
      },
      "execution_count": null,
      "outputs": []
    },
    {
      "cell_type": "markdown",
      "source": [
        "2.1.2 Indexing and Slicing"
      ],
      "metadata": {
        "id": "RYZdyOPC7sMA"
      }
    },
    {
      "cell_type": "markdown",
      "source": [
        "ถูกแล้วครับ ดังเช่น Python lists เราสามารถเข้าถึงองค์ประกอบของเทนเซอร์ได้โดยการทำดัชนี (เริ่มต้นที่ 0) เพื่อเข้าถึงองค์ประกอบโดยอิงตามตำแหน่งขององค์ประกอบนั้นเมื่อเทียบกับส่วนท้ายของรายการ เราสามารถใช้การทำดัชนีแบบลบได้ ในที่สุด เราสามารถเข้าถึงช่วงทั้งหมดของดัชนีผ่านการตัดแบ่ง (เช่น X[start:stop]) โดยค่าที่ส่งกลับจะรวมดัชนีแรก (start) แต่ไม่รวมดัชนีสุดท้าย (stop) ในที่สุด เมื่อระบุดัชนีหรือการตัดแบ่งเพียงอันเดียวสำหรับเทนเซอร์อันดับ k จะถูกนำไปใช้ตามแกน 0 ดังนั้น ในโค้ดต่อไปนี้ [-1] จะเลือกแถวสุดท้าย และ [1:3] จะเลือกแถวที่สองและสาม"
      ],
      "metadata": {
        "id": "3wxHzUBi75aC"
      }
    },
    {
      "cell_type": "markdown",
      "source": [],
      "metadata": {
        "id": "V9QE8YHz8KJ7"
      }
    },
    {
      "cell_type": "code",
      "source": [
        "X = torch.arange(12, dtype=torch.float32)\n",
        "X = X.reshape(3,4)"
      ],
      "metadata": {
        "id": "nG6CiFaF8RqY"
      },
      "execution_count": null,
      "outputs": []
    },
    {
      "cell_type": "code",
      "source": [],
      "metadata": {
        "id": "6RC2EPYm8sos"
      },
      "execution_count": null,
      "outputs": []
    },
    {
      "cell_type": "code",
      "source": [
        "X[-1], X[1:3]"
      ],
      "metadata": {
        "colab": {
          "base_uri": "https://localhost:8080/"
        },
        "id": "729owkKZ8KjC",
        "outputId": "38ab424b-aed7-4cee-b88f-20f6d924e1a1"
      },
      "execution_count": null,
      "outputs": [
        {
          "output_type": "execute_result",
          "data": {
            "text/plain": [
              "(tensor([ 8.,  9., 10., 11.]),\n",
              " tensor([[ 4.,  5.,  6.,  7.],\n",
              "         [ 8.,  9., 10., 11.]]))"
            ]
          },
          "metadata": {},
          "execution_count": 28
        }
      ]
    },
    {
      "cell_type": "code",
      "source": [
        "import torch\n",
        "\n",
        "# Create a matrix\n",
        "X = torch.tensor([[1, 2, 3], [4, 5, 6]])\n",
        "\n",
        "# Access the last row using negative indexing\n",
        "last_row = X[-1]\n",
        "\n",
        "# Print the last row\n",
        "print(last_row)\n",
        "\n",
        "# Access the second and third rows using slicing\n",
        "second_and_third_rows = X[1:3]\n",
        "\n",
        "# Print the second and third rows\n",
        "print(second_and_third_rows)"
      ],
      "metadata": {
        "colab": {
          "base_uri": "https://localhost:8080/"
        },
        "id": "vIqFgxNe7s7m",
        "outputId": "d77b7b3d-ace4-450e-923a-766c6987cf09"
      },
      "execution_count": null,
      "outputs": [
        {
          "output_type": "stream",
          "name": "stdout",
          "text": [
            "tensor([4, 5, 6])\n",
            "tensor([[4, 5, 6]])\n"
          ]
        }
      ]
    },
    {
      "cell_type": "code",
      "source": [
        "X[1][2]"
      ],
      "metadata": {
        "colab": {
          "base_uri": "https://localhost:8080/"
        },
        "id": "LLJKcity78va",
        "outputId": "825ac382-f42c-40b3-8364-50124c2dce56"
      },
      "execution_count": null,
      "outputs": [
        {
          "output_type": "execute_result",
          "data": {
            "text/plain": [
              "tensor(6)"
            ]
          },
          "metadata": {},
          "execution_count": 19
        }
      ]
    },
    {
      "cell_type": "code",
      "source": [
        "X[1,2]"
      ],
      "metadata": {
        "colab": {
          "base_uri": "https://localhost:8080/"
        },
        "id": "K37oyI8M88iI",
        "outputId": "3dfa137f-4a1f-43c7-9dcc-edf071a279be"
      },
      "execution_count": null,
      "outputs": [
        {
          "output_type": "execute_result",
          "data": {
            "text/plain": [
              "tensor(6.)"
            ]
          },
          "metadata": {},
          "execution_count": 29
        }
      ]
    },
    {
      "cell_type": "markdown",
      "source": [
        "ใช่ครับ นอกเหนือจากการอ่านองค์ประกอบของเมทริกซ์แล้ว เรายังสามารถเขียนองค์ประกอบของเมทริกซ์ได้โดยการระบุดัชนี"
      ],
      "metadata": {
        "id": "S7Gp41gm9HfK"
      }
    },
    {
      "cell_type": "code",
      "source": [
        "X[1, 2] = 17"
      ],
      "metadata": {
        "id": "eCgG8zj88EzS"
      },
      "execution_count": null,
      "outputs": []
    },
    {
      "cell_type": "code",
      "source": [
        "X"
      ],
      "metadata": {
        "colab": {
          "base_uri": "https://localhost:8080/"
        },
        "id": "r7bNjMcD9KqO",
        "outputId": "d5b9c8fa-71cd-455c-d358-9176550b1386"
      },
      "execution_count": null,
      "outputs": [
        {
          "output_type": "execute_result",
          "data": {
            "text/plain": [
              "tensor([[ 0.,  1.,  2.,  3.],\n",
              "        [ 4.,  5., 17.,  7.],\n",
              "        [ 8.,  9., 10., 11.]])"
            ]
          },
          "metadata": {},
          "execution_count": 31
        }
      ]
    },
    {
      "cell_type": "code",
      "source": [
        "#หรือ\n",
        "import torch\n",
        "\n",
        "# Create a matrix\n",
        "X = torch.tensor([[1, 2, 3], [4, 5, 6]])\n",
        "\n",
        "# Set the element at (1, 2) to 10\n",
        "X[1, 2] = 10\n",
        "\n",
        "# Print the matrix\n",
        "print(X)"
      ],
      "metadata": {
        "colab": {
          "base_uri": "https://localhost:8080/"
        },
        "id": "5e7pRDiR9L_c",
        "outputId": "77be36c5-56f7-4ad0-ade1-38bce3312dc9"
      },
      "execution_count": null,
      "outputs": [
        {
          "output_type": "stream",
          "name": "stdout",
          "text": [
            "tensor([[ 1,  2,  3],\n",
            "        [ 4,  5, 10]])\n"
          ]
        }
      ]
    },
    {
      "cell_type": "markdown",
      "source": [
        "เราสามารถใช้การทำดัชนีและการตัดแบ่งเพื่อกำหนดช่วงขององค์ประกอบให้กับค่าใหม่ได้ ตัวอย่างเช่น โค้ดต่อไปนี้จะตั้งค่าองค์ประกอบทั้งหมดในแถวที่สองให้เป็น 7:"
      ],
      "metadata": {
        "id": "aY5nKp6t9Y8m"
      }
    },
    {
      "cell_type": "code",
      "source": [
        "import torch\n",
        "\n",
        "# Create a matrix\n",
        "X = torch.tensor([[1, 2, 3], [4, 5, 6]])\n",
        "\n",
        "# Set all the elements in the second row to 7\n",
        "X[1, :] = 7\n",
        "\n",
        "# Print the matrix\n",
        "print(X)\n"
      ],
      "metadata": {
        "colab": {
          "base_uri": "https://localhost:8080/"
        },
        "id": "D_zhbqu49T9e",
        "outputId": "3ed03be3-8b51-41ec-895b-e61fd7310749"
      },
      "execution_count": null,
      "outputs": [
        {
          "output_type": "stream",
          "name": "stdout",
          "text": [
            "tensor([[1, 2, 3],\n",
            "        [7, 7, 7]])\n"
          ]
        }
      ]
    },
    {
      "cell_type": "code",
      "source": [
        "R = torch.arange(50,dtype=torch.float).reshape(5,10)\n",
        "R"
      ],
      "metadata": {
        "colab": {
          "base_uri": "https://localhost:8080/"
        },
        "id": "J4prEbUG9gGF",
        "outputId": "740f44d0-c6f4-4b3a-cad8-eeac2849509d"
      },
      "execution_count": null,
      "outputs": [
        {
          "output_type": "execute_result",
          "data": {
            "text/plain": [
              "tensor([[ 0.,  1.,  2.,  3.,  4.,  5.,  6.,  7.,  8.,  9.],\n",
              "        [10., 11., 12., 13., 14., 15., 16., 17., 18., 19.],\n",
              "        [20., 21., 22., 23., 24., 25., 26., 27., 28., 29.],\n",
              "        [30., 31., 32., 33., 34., 35., 36., 37., 38., 39.],\n",
              "        [40., 41., 42., 43., 44., 45., 46., 47., 48., 49.]])"
            ]
          },
          "metadata": {},
          "execution_count": 39
        }
      ]
    },
    {
      "cell_type": "code",
      "source": [
        "R[0,:] = 111\n",
        "R[2,:] = 33\n",
        "R"
      ],
      "metadata": {
        "colab": {
          "base_uri": "https://localhost:8080/"
        },
        "id": "Hj4XlBGM9e8I",
        "outputId": "6a50f7e0-c2f5-4e3a-fe77-50122f36437f"
      },
      "execution_count": null,
      "outputs": [
        {
          "output_type": "execute_result",
          "data": {
            "text/plain": [
              "tensor([[111., 111., 111., 111., 111., 111., 111., 111., 111., 111.],\n",
              "        [ 10.,  11.,  12.,  13.,  14.,  15.,  16.,  17.,  18.,  19.],\n",
              "        [ 33.,  33.,  33.,  33.,  33.,  33.,  33.,  33.,  33.,  33.],\n",
              "        [ 30.,  31.,  32.,  33.,  34.,  35.,  36.,  37.,  38.,  39.],\n",
              "        [ 40.,  41.,  42.,  43.,  44.,  45.,  46.,  47.,  48.,  49.]])"
            ]
          },
          "metadata": {},
          "execution_count": 41
        }
      ]
    },
    {
      "cell_type": "markdown",
      "source": [
        "2.1.3 Operations"
      ],
      "metadata": {
        "id": "fD8jbyrI-Tgi"
      }
    },
    {
      "cell_type": "markdown",
      "source": [
        "ใช่ครับ ตอนนี้ที่เรารู้วิธีสร้างเทนเซอร์และวิธีอ่านและเขียนองค์ประกอบของเทนเซอร์แล้ว เราสามารถเริ่มจัดการเทนเซอร์ด้วยการดำเนินการทางคณิตศาสตร์ต่างๆ ได้แล้ว การดำเนินการที่เป็นประโยชน์ที่สุดประการหนึ่งคือการดำเนินการแบบองค์ประกอบต่อองค์ประกอบ (elementwise operations) การดำเนินการเหล่านี้ใช้การดำเนินการสเกลาร์มาตรฐานกับแต่ละองค์ประกอบของเทนเซอร์ สำหรับฟังก์ชันที่ใช้เทนเซอร์สองตัวเป็นอินพุต การดำเนินการแบบองค์ประกอบต่อองค์ประกอบจะใช้ตัวดำเนินการไบนารีมาตรฐานกับแต่ละคู่ขององค์ประกอบที่สอดคล้องกัน\n",
        "\n",
        "เราสามารถสร้างฟังก์ชันแบบองค์ประกอบต่อองค์ประกอบจากฟังก์ชันใดก็ได้ที่แมปจากสเกลาร์เป็นสเกลาร์\n",
        "\n",
        "ในสัญกรณ์ทางคณิตศาสตร์ เราใช้เครื่องหมาย 𝑓 : R → R เพื่อแสดงตัวดำเนินการสเกลาร์แบบยูนารี (รับอินพุตหนึ่งตัว) ซึ่งหมายความว่าฟังก์ชันนี้แมปจากจำนวนจริงใด ๆ ไปยังจำนวนจริงอื่น ๆ ตัวดำเนินการส่วนใหญ่ รวมถึงตัวดำเนินการแบบยูนารีเช่น 𝑒\n",
        "𝑥\n",
        "สามารถใช้แบบองค์ประกอบต่อองค์ประกอบได้\n",
        "\n",
        "ตัวอย่างการดำเนินการแบบองค์ประกอบต่อองค์ประกอบ ได้แก่:\n",
        "\n",
        "* การบวก (+): C[i, j] = A[i, j] + B[i, j]\n",
        "* การลบ (-): C[i, j] = A[i, j] - B[i, j]\n",
        "* การคูณ (*): C[i, j] = A[i, j] * B[i, j]\n",
        "* การหาร (/): C[i, j] = A[i, j] / B[i, j]\n",
        "* การยกกำลัง (^): C[i, j] = A[i, j] ^ B[i, j]\n",
        "* ฟังก์ชันตรีโกณมิติ: C[i, j] = sin(A[i, j])\n",
        "* ฟังก์ชันการกระจายปกติแบบสะสม: C[i, j] = torch.distributions.Normal(0, 1).cdf(A[i, j])\n",
        "\n",
        "การดำเนินการแบบองค์ประกอบต่อองค์ประกอบเป็นเทคนิคที่ทรงพลังในการจัดการข้อมูลใน PyTorch เราสามารถใช้พวกมันเพื่อประยุกต์การดำเนินการทางคณิตศาสตร์กับข้อมูลของเราได้อย่างมีประสิทธิภาพ\n",
        "\n",
        "หวังว่าคำตอบนี้จะเป็นประโยชน์นะครับ"
      ],
      "metadata": {
        "id": "w8qrBX5y-g_v"
      }
    },
    {
      "cell_type": "code",
      "source": [
        "import torch\n",
        "\n",
        "# Create two tensors\n",
        "X = torch.tensor([1, 2, 3])\n",
        "Y = torch.tensor([4, 5, 6])\n",
        "\n",
        "# Apply the elementwise addition operation\n",
        "Z = X + Y\n",
        "\n",
        "# Print the result\n",
        "print(Z)\n"
      ],
      "metadata": {
        "colab": {
          "base_uri": "https://localhost:8080/"
        },
        "id": "YlS7T6sh-FiY",
        "outputId": "04e81e29-5538-4c2a-e04a-70a560d97116"
      },
      "execution_count": null,
      "outputs": [
        {
          "output_type": "stream",
          "name": "stdout",
          "text": [
            "tensor([5, 7, 9])\n"
          ]
        }
      ]
    },
    {
      "cell_type": "code",
      "source": [
        "X = torch.arange(10,dtype = torch.float).reshape(2,5)\n",
        "torch.exp(X)\n"
      ],
      "metadata": {
        "colab": {
          "base_uri": "https://localhost:8080/"
        },
        "id": "ZDaqm-sX-l3X",
        "outputId": "d5a13cbc-59bf-4e4a-e4ea-e6be179cac8f"
      },
      "execution_count": null,
      "outputs": [
        {
          "output_type": "execute_result",
          "data": {
            "text/plain": [
              "tensor([[1.0000e+00, 2.7183e+00, 7.3891e+00, 2.0086e+01, 5.4598e+01],\n",
              "        [1.4841e+02, 4.0343e+02, 1.0966e+03, 2.9810e+03, 8.1031e+03]])"
            ]
          },
          "metadata": {},
          "execution_count": 43
        }
      ]
    },
    {
      "cell_type": "markdown",
      "source": [
        "ใช่ครับ ในทำนองเดียวกัน เราแสดงตัวดำเนินการสเกลาร์แบบไบนารี ซึ่งแมปคู่ของจำนวนจริงไปเป็นจำนวนจริง (ตัวเดียว) ผ่านเครื่องหมาย 𝑓 : R, R → R ในกรณีที่เวกเตอร์ u และ v สองตัวมีรูปร่างเดียวกัน และตัวดำเนินการแบบไบนารี 𝑓 เราสามารถสร้างเวกเตอร์ c = 𝐹(u, v) ได้โดยการตั้งค่า 𝑐𝑖 ← 𝑓 (𝑢𝑖\n",
        ", 𝑣𝑖) สำหรับทุก 𝑖 โดยที่ 𝑐𝑖\n",
        ", 𝑢𝑖\n",
        "และ 𝑣𝑖 เป็นองค์ประกอบที่ 𝑖 ของเวกเตอร์ c, u และ v\n",
        "\n",
        "ที่นี่ เราสร้างเวกเตอร์ที่ได้ค่าของ 𝐹 : R\n",
        "𝑑\n",
        ", R\n",
        "𝑑 → R\n",
        "𝑑 โดยการยกฟังก์ชันสเกลาร์ให้เป็นการดำเนินการแบบองค์ประกอบต่อองค์ประกอบของเวกเตอร์ ตัวดำเนินการเลขคณิตมาตรฐานทั่วไปสำหรับการบวก (+), การลบ (-), การคูณ (*), การหาร (/) และการยกกำลัง (**) มีการยกให้เป็นการดำเนินการแบบองค์ประกอบต่อองค์ประกอบของเทนเซอร์ที่มีรูปร่างเหมือนกันทุกรูปร่าง\n",
        "\n",
        "**ตัวอย่าง**\n",
        "\n",
        "```python\n",
        "import torch\n",
        "\n",
        "# Create two vectors\n",
        "u = torch.tensor([1, 2, 3])\n",
        "v = torch.tensor([4, 5, 6])\n",
        "\n",
        "# Apply the elementwise addition operation\n",
        "c = u + v\n",
        "\n",
        "# Print the result\n",
        "print(c)\n",
        "```\n",
        "\n",
        "Output:\n",
        "\n",
        "```\n",
        "tensor([5, 7, 9])\n",
        "```\n",
        "\n",
        "ในตัวอย่างนี้ เราใช้ตัวดำเนินการบวกแบบองค์ประกอบต่อองค์ประกอบกับสองเวกเตอร์เพื่อสร้างเวกเตอร์ใหม่ที่มีองค์ประกอบที่สอดคล้องกันของเวกเตอร์ u และ v เพิ่มเข้าด้วยกัน\n",
        "\n",
        "เราสามารถใช้การดำเนินการแบบองค์ประกอบต่อองค์ประกอบกับฟังก์ชันที่ซับซ้อนกว่าได้เช่นกัน ตัวอย่างเช่น โค้ดต่อไปนี้จะใช้ฟังก์ชันดอทผลิตกับแต่ละคู่ขององค์ประกอบที่สอดคล้องกันของสองเทนเซอร์ X และ Y:\n",
        "\n",
        "```python\n",
        "import torch\n",
        "\n",
        "# Create two tensors\n",
        "X = torch.tensor([1, 2, 3])\n",
        "Y = torch.tensor([4, 5, 6])\n",
        "\n",
        "# Apply the dot product function elementwise\n",
        "c = torch.dot(X, Y)\n",
        "\n",
        "# Print the result\n",
        "print(c)\n",
        "```\n",
        "\n",
        "Output:\n",
        "\n",
        "```\n",
        "tensor(32)\n",
        "```\n",
        "\n",
        "การดำเนินการแบบองค์ประกอบต่อองค์ประกอบเป็นเครื่องมือที่ทรงพลังสำหรับการจัดการข้อมูลใน PyTorch เราสามารถใช้พวกมันเพื่อดำเนินการทางคณิตศาสตร์ที่หลากหลายกับเทนเซอร์ของเรา\n",
        "\n",
        "**คำศัพท์:**\n",
        "\n",
        "* Binary scalar operator: ตัวดำเนินการสเกลาร์แบบไบนารี\n",
        "* Identically-shaped tensors: เทนเซอร์ที่มีรูปร่างเหมือนกันทุกรูปร่าง\n",
        "* Vector-valued: ได้ค่าเป็นเวกเตอร์\n",
        "* Lift: ยก\n",
        "\n",
        "หวังว่าคำตอบนี้จะเป็นประโยชน์นะครับ"
      ],
      "metadata": {
        "id": "chRWvrsg_DSM"
      }
    },
    {
      "cell_type": "code",
      "source": [
        "x = torch.tensor([1.0, 2, 4, 8])\n",
        "y = torch.tensor([2, 2, 2, 2])\n",
        "x + y, x - y, x * y, x / y, x ** y"
      ],
      "metadata": {
        "colab": {
          "base_uri": "https://localhost:8080/"
        },
        "id": "0m8pabds-3uA",
        "outputId": "cc96f083-3522-45bb-b28f-1e70db8de891"
      },
      "execution_count": null,
      "outputs": [
        {
          "output_type": "execute_result",
          "data": {
            "text/plain": [
              "(tensor([ 3.,  4.,  6., 10.]),\n",
              " tensor([-1.,  0.,  2.,  6.]),\n",
              " tensor([ 2.,  4.,  8., 16.]),\n",
              " tensor([0.5000, 1.0000, 2.0000, 4.0000]),\n",
              " tensor([ 1.,  4., 16., 64.]))"
            ]
          },
          "metadata": {},
          "execution_count": 44
        }
      ]
    },
    {
      "cell_type": "markdown",
      "source": [
        "ใช่ครับ นอกเหนือจากการคำนวณแบบองค์ประกอบต่อองค์ประกอบแล้ว เรายังสามารถดำเนินการพีชคณิตเชิงเส้น เช่น ผลคูณจุดและการคูณเมทริกซ์ เราจะอธิบายเพิ่มเติมในหัวข้อ 2.3\n",
        "\n",
        "เรายังสามารถรวมเทนเซอร์หลาย ๆ ตัวเข้าด้วยกัน โดยวางซ้อนกันแบบต่อเนื่องเพื่อสร้างเทนเซอร์ขนาดใหญ่กว่า เพียงแค่เราต้องระบุรายการของเทนเซอร์และบอกระบบตามแกนใดที่จะเชื่อมต่อ ตัวอย่างด้านล่างแสดงสิ่งที่เกิดขึ้นเมื่อเรารวมเมทริกซ์สองตัวเข้าด้วยกันตามแถว (แกน 0) แทนที่จะเป็นคอลัมน์ (แกน 1) เราจะเห็นว่าความยาวแกน 0 ของเอาต์พุตแรก (6) เป็นผลรวมของความยาวแกน 0 ของเทนเซอร์อินพุตทั้งสอง (3 + 3); ในขณะที่ความยาวแกน 1 ของเอาต์พุตที่สอง (8) เป็นผลรวมของความยาวแกน 1 ของเทนเซอร์อินพุตทั้งสอง (4 + 4)\n",
        "\n",
        "**ตัวอย่าง**\n",
        "\n",
        "```python\n",
        "import torch\n",
        "\n",
        "# Create two matrices\n",
        "X = torch.tensor([[1, 2, 3, 4], [5, 6, 7, 8]])\n",
        "Y = torch.tensor([[9, 10, 11, 12], [13, 14, 15, 16]])\n",
        "\n",
        "# Concatenate the matrices along rows\n",
        "Z = torch.cat((X, Y), dim=0)\n",
        "\n",
        "# Print the result\n",
        "print(Z)\n",
        "```\n",
        "\n",
        "Output:\n",
        "\n",
        "```\n",
        "tensor([[1, 2, 3, 4],\n",
        "        [5, 6, 7, 8],\n",
        "        [9, 10, 11, 12],\n",
        "        [13, 14, 15, 16]])\n",
        "```\n",
        "\n",
        "**คำศัพท์:**\n",
        "\n",
        "* Concatenate: รวมเข้าด้วยกัน\n",
        "* Stack: วางซ้อน\n",
        "* Axis: แกน\n",
        "\n",
        "หวังว่าคำตอบนี้จะเป็นประโยชน์นะครับ"
      ],
      "metadata": {
        "id": "AcBmjO_Y_oLY"
      }
    },
    {
      "cell_type": "code",
      "source": [
        "import torch\n",
        "X = torch.arange(12, dtype=torch.float32).reshape((3,4))\n",
        "Y = torch.tensor([[2.0, 1, 4, 3], [1, 2, 3, 4], [4, 3, 2, 1]])\n",
        "Z = torch.cat((X, Y), dim=0), torch.cat((X, Y), dim=1)\n",
        "Z"
      ],
      "metadata": {
        "colab": {
          "base_uri": "https://localhost:8080/"
        },
        "id": "fzQ3pryQ_nZi",
        "outputId": "48daee71-a6b2-4b17-e664-88b34c2b2f95"
      },
      "execution_count": 2,
      "outputs": [
        {
          "output_type": "execute_result",
          "data": {
            "text/plain": [
              "(tensor([[ 0.,  1.,  2.,  3.],\n",
              "         [ 4.,  5.,  6.,  7.],\n",
              "         [ 8.,  9., 10., 11.],\n",
              "         [ 2.,  1.,  4.,  3.],\n",
              "         [ 1.,  2.,  3.,  4.],\n",
              "         [ 4.,  3.,  2.,  1.]]),\n",
              " tensor([[ 0.,  1.,  2.,  3.,  2.,  1.,  4.,  3.],\n",
              "         [ 4.,  5.,  6.,  7.,  1.,  2.,  3.,  4.],\n",
              "         [ 8.,  9., 10., 11.,  4.,  3.,  2.,  1.]]))"
            ]
          },
          "metadata": {},
          "execution_count": 2
        }
      ]
    },
    {
      "cell_type": "code",
      "source": [
        "type(Z)"
      ],
      "metadata": {
        "id": "zv25hQFg_or3",
        "colab": {
          "base_uri": "https://localhost:8080/"
        },
        "outputId": "cb66fa26-9ca6-4937-a2cc-a28434c1045b"
      },
      "execution_count": 4,
      "outputs": [
        {
          "output_type": "execute_result",
          "data": {
            "text/plain": [
              "tuple"
            ]
          },
          "metadata": {},
          "execution_count": 4
        }
      ]
    },
    {
      "cell_type": "code",
      "source": [
        "X == Y"
      ],
      "metadata": {
        "colab": {
          "base_uri": "https://localhost:8080/"
        },
        "id": "5q8bExboIhA4",
        "outputId": "00e8073f-65c7-4c6f-e74b-1579de128596"
      },
      "execution_count": 5,
      "outputs": [
        {
          "output_type": "execute_result",
          "data": {
            "text/plain": [
              "tensor([[False,  True, False,  True],\n",
              "        [False, False, False, False],\n",
              "        [False, False, False, False]])"
            ]
          },
          "metadata": {},
          "execution_count": 5
        }
      ]
    },
    {
      "cell_type": "code",
      "source": [
        "X.sum()"
      ],
      "metadata": {
        "colab": {
          "base_uri": "https://localhost:8080/"
        },
        "id": "AmXK4n5XIuV6",
        "outputId": "cebe400f-ab72-447f-825d-59c205d474e5"
      },
      "execution_count": 6,
      "outputs": [
        {
          "output_type": "execute_result",
          "data": {
            "text/plain": [
              "tensor(66.)"
            ]
          },
          "metadata": {},
          "execution_count": 6
        }
      ]
    },
    {
      "cell_type": "code",
      "source": [],
      "metadata": {
        "id": "BY15NdZ4I1Hz"
      },
      "execution_count": null,
      "outputs": []
    },
    {
      "cell_type": "markdown",
      "source": [
        "2.1.4 Broadcasting"
      ],
      "metadata": {
        "id": "nDIquhNiI3RK"
      }
    },
    {
      "cell_type": "markdown",
      "source": [
        "ตอนนี้คุณทราบวิธีการดำเนินการกับตัวดำเนินการไบนารีแบบองค์ประกอบต่อองค์ประกอบบนเทนเซอร์สองตัวที่มีรูปร่างเดียวกันแล้ว ภายใต้เงื่อนไขบางประการ แม้ว่ารูปร่างจะแตกต่างกัน เราก็ยังสามารถดำเนินการกับตัวดำเนินการไบนารีแบบองค์ประกอบต่อองค์ประกอบได้โดยใช้กลไกการกระจายเสียง การกระจายเสียงทำงานตามขั้นตอนสองขั้นตอนต่อไปนี้: (1) ขยายอาร์เรย์หนึ่งหรือทั้งสองอาร์เรย์โดยการคัดลอกองค์ประกอบตามแกนที่มีความยาว 1 เพื่อให้หลังจากการแปลงนี้ เทนเซอร์ทั้งสองมีรูปร่างเดียวกัน; (2) ดำเนินการกับตัวดำเนินการแบบองค์ประกอบต่อองค์ประกอบบนอาร์เรย์ที่ได้"
      ],
      "metadata": {
        "id": "hQe1KqzgJIrA"
      }
    },
    {
      "cell_type": "code",
      "source": [
        "a = torch.arange(3).reshape((3, 1))\n",
        "b = torch.arange(2).reshape((1, 2))\n",
        "a, b"
      ],
      "metadata": {
        "colab": {
          "base_uri": "https://localhost:8080/"
        },
        "id": "LGTi7NuSJmdA",
        "outputId": "bb954f21-c444-4fed-eae3-402e927b469b"
      },
      "execution_count": 9,
      "outputs": [
        {
          "output_type": "execute_result",
          "data": {
            "text/plain": [
              "(tensor([[0],\n",
              "         [1],\n",
              "         [2]]),\n",
              " tensor([[0, 1]]))"
            ]
          },
          "metadata": {},
          "execution_count": 9
        }
      ]
    },
    {
      "cell_type": "code",
      "source": [
        "a+b"
      ],
      "metadata": {
        "colab": {
          "base_uri": "https://localhost:8080/"
        },
        "id": "ft-LTeZWJsVe",
        "outputId": "1dbe344a-aa0b-4fcb-ef35-6f3567f4de3c"
      },
      "execution_count": 10,
      "outputs": [
        {
          "output_type": "execute_result",
          "data": {
            "text/plain": [
              "tensor([[0, 1],\n",
              "        [1, 2],\n",
              "        [2, 3]])"
            ]
          },
          "metadata": {},
          "execution_count": 10
        }
      ]
    },
    {
      "cell_type": "code",
      "source": [
        "import numpy as np\n",
        "\n",
        "a = np.array([1, 2, 3])\n",
        "b = np.array([5])\n",
        "\n",
        "# กระจายเสียง array b เพื่อให้มีขนาดเดียวกับ array a\n",
        "b_broadcast = np.broadcast_to(b, a.shape)\n",
        "\n",
        "# บวก array a และ b_broadcast\n",
        "c = a + b_broadcast\n",
        "\n",
        "print(c)\n",
        "print(b_broadcast)"
      ],
      "metadata": {
        "colab": {
          "base_uri": "https://localhost:8080/"
        },
        "id": "r8fiqa0zI3l7",
        "outputId": "77dc2627-abfe-462d-fd89-5b3ec41587dc"
      },
      "execution_count": 11,
      "outputs": [
        {
          "output_type": "stream",
          "name": "stdout",
          "text": [
            "[6 7 8]\n",
            "[5 5 5]\n"
          ]
        }
      ]
    },
    {
      "cell_type": "code",
      "source": [
        "a+b"
      ],
      "metadata": {
        "colab": {
          "base_uri": "https://localhost:8080/"
        },
        "id": "DlLgb9WRJveW",
        "outputId": "164c2e2b-fd7c-4180-925b-261e90f21d5d"
      },
      "execution_count": 12,
      "outputs": [
        {
          "output_type": "execute_result",
          "data": {
            "text/plain": [
              "array([6, 7, 8])"
            ]
          },
          "metadata": {},
          "execution_count": 12
        }
      ]
    },
    {
      "cell_type": "markdown",
      "source": [
        "2.1.5 Saving Memory"
      ],
      "metadata": {
        "id": "u_VMBl-BJ3bi"
      }
    },
    {
      "cell_type": "markdown",
      "source": [
        "การรันการดำเนินการอาจทำให้มีการจัดสรรหน่วยความจำใหม่เพื่อโฮสต์ผลลัพธ์ ตัวอย่างเช่น ถ้าเราเขียน Y = X + Y เราจะยกเลิกการอ้างอิงเทนเซอร์ที่ Y เคยชี้ไปที่และชี้ Y ไปที่หน่วยความจำที่จัดสรรใหม่ เราสามารถแสดงปัญหานี้ได้ด้วยฟังก์ชัน id() ของ Python ซึ่งให้ที่อยู่ที่แน่นอนของอ็อบเจ็กต์ที่อ้างอิงในหน่วยความจำ โปรดทราบว่าหลังจากเราเรียกใช้ Y = Y + X, id(Y) จะชี้ไปที่ตำแหน่งที่แตกต่างกัน นั่นเป็นเพราะ Python ประเมิน Y + X ก่อน จัดสรรหน่วยความจำใหม่สำหรับผลลัพธ์ แล้วจึงชี้ Y ไปที่ตำแหน่งใหม่นี้ในหน่วยความจำ\n",
        "\n",
        "ตัวอย่างต่อไปนี้แสดงวิธีใช้ฟังก์ชัน id() เพื่อแสดงปัญหาการจัดสรรหน่วยความจำ:"
      ],
      "metadata": {
        "id": "F5R_NL_oKJVx"
      }
    },
    {
      "cell_type": "code",
      "source": [
        "import numpy as np\n",
        "\n",
        "# สร้างเทนเซอร์\n",
        "X = np.array([1, 2, 3])\n",
        "Y = np.array([4, 5, 6])\n",
        "\n",
        "# พิมพ์ id ของ Y\n",
        "print(id(Y))\n",
        "\n",
        "# บวก X และ Y\n",
        "Y = Y + X\n",
        "\n",
        "# พิมพ์ id ของ Y อีกครั้ง\n",
        "print(id(Y))\n"
      ],
      "metadata": {
        "colab": {
          "base_uri": "https://localhost:8080/"
        },
        "id": "wK2PklCVJRFm",
        "outputId": "7f6bfac3-ef21-4e67-e7b8-13b199b44173"
      },
      "execution_count": 13,
      "outputs": [
        {
          "output_type": "stream",
          "name": "stdout",
          "text": [
            "136223366371472\n",
            "136223366373200\n"
          ]
        }
      ]
    },
    {
      "cell_type": "markdown",
      "source": [
        "โชคดีที่การทำ in-place operations นั้นง่ายมาก เราสามารถกำหนดผลลัพธ์ของการดำเนินการให้กับอาร์เรย์ Y ที่จัดสรรไว้ก่อนหน้านี้โดยใช้ slice notation: Y[:] = <expression>\n",
        "\n",
        "เพื่ออธิบายแนวคิดนี้ เราได้เขียนทับค่าของเทนเซอร์ Z หลังจากทำการ 초기화โดยใช้ zeros_like เพื่อให้มีรูปร่างเดียวกันกับ Y\n",
        "\n",
        "ตัวอย่างต่อไปนี้แสดงวิธีใช้ slice notation เพื่อทำ in-place operations:"
      ],
      "metadata": {
        "id": "Hgu8_ZdBLk3v"
      }
    },
    {
      "cell_type": "code",
      "source": [
        "import numpy as np\n",
        "\n",
        "# สร้างเทนเซอร์\n",
        "X = np.array([1, 2, 3])\n",
        "Y = np.array([4, 5, 6])\n",
        "\n",
        "# สร้างเทนเซอร์ Z\n",
        "Z = np.zeros_like(Y)\n",
        "\n",
        "# บวก X และ Y แบบ in-place\n",
        "Y[:] = X + Y\n",
        "\n",
        "# พิมพ์ค่าของ Y\n",
        "print(Y)\n",
        "#ตามที่คุณเห็น ค่าของ Y ได้ถูกเปลี่ยนเป็น [5, 7, 9] แบบ in-place โดยไม่จัดสรรหน่วยความจำใหม่\n",
        "\n"
      ],
      "metadata": {
        "colab": {
          "base_uri": "https://localhost:8080/"
        },
        "id": "4MmrQTRHLnDp",
        "outputId": "f1ed6a9d-ca4e-4648-ac2c-8a7552430db2"
      },
      "execution_count": 18,
      "outputs": [
        {
          "output_type": "stream",
          "name": "stdout",
          "text": [
            "[5 7 9]\n"
          ]
        }
      ]
    },
    {
      "cell_type": "markdown",
      "source": [
        "ตามที่คุณเห็น id ของ Y เปลี่ยนไปหลังจากที่เราเรียกใช้ Y = Y + X นั่นเป็นเพราะ Python ได้จัดสรรหน่วยความจำใหม่สำหรับผลลัพธ์\n",
        "\n",
        "ปัญหานี้สามารถแก้ไขได้โดยใช้เทคนิคที่เรียกว่า \"in-place operations\" In-place operations ทำการคำนวณบนเทนเซอร์เดียวกันโดยหลีกเลี่ยงการจัดสรรหน่วยความจำใหม่ ตัวอย่างเช่น ใน PyTorch เราสามารถใช้ฟังก์ชัน add_() เพื่อบวก X และ Y แบบ in-place:"
      ],
      "metadata": {
        "id": "_Y0gaBhiKbo4"
      }
    },
    {
      "cell_type": "code",
      "source": [
        "import torch\n",
        "\n",
        "# สร้างเทนเซอร์\n",
        "X = torch.tensor([1, 2, 3])\n",
        "Y = torch.tensor([4, 5, 6])\n",
        "print(id(Y))\n",
        "# บวก X และ Y แบบ in-place\n",
        "Y.add_(X)\n",
        "\n",
        "# พิมพ์ id ของ Y\n",
        "print(id(Y))\n",
        "print(Y)"
      ],
      "metadata": {
        "colab": {
          "base_uri": "https://localhost:8080/"
        },
        "id": "UfHvbxW-KcAi",
        "outputId": "2f916248-c90f-4f61-ff24-800f07350194"
      },
      "execution_count": 16,
      "outputs": [
        {
          "output_type": "stream",
          "name": "stdout",
          "text": [
            "136223366386752\n",
            "136223366386752\n",
            "tensor([5, 7, 9])\n"
          ]
        }
      ]
    },
    {
      "cell_type": "code",
      "source": [
        "before = id(Y)\n",
        "Y = Y + X\n",
        "id(Y) == before\n"
      ],
      "metadata": {
        "colab": {
          "base_uri": "https://localhost:8080/"
        },
        "id": "LaHa2znELD0a",
        "outputId": "77cdae00-3609-4818-ba29-a080cc527e27"
      },
      "execution_count": 17,
      "outputs": [
        {
          "output_type": "execute_result",
          "data": {
            "text/plain": [
              "False"
            ]
          },
          "metadata": {},
          "execution_count": 17
        }
      ]
    },
    {
      "cell_type": "markdown",
      "source": [
        "ตามที่คุณเห็น id ของ Y ไม่ได้เปลี่ยนไปหลังจากที่เราเรียกใช้ Y.add_(X) นั่นเป็นเพราะ PyTorch ได้ทำการคำนวณบนเทนเซอร์ Y เดิมโดยไม่จัดสรรหน่วยความจำใหม่\n",
        "\n",
        "การใช้ in-place operations สามารถช่วยลดการใช้หน่วยความจำและปรับปรุงประสิทธิภาพของโปรแกรมของคุณ อย่างไรก็ตาม สิ่งสำคัญคือต้องใช้ in-place operations อย่างระมัดระวัง เพราะอาจนำไปสู่ผลลัพธ์ที่ไม่คาดคิดได้"
      ],
      "metadata": {
        "id": "LH9MQdrpKu_3"
      }
    },
    {
      "cell_type": "markdown",
      "source": [
        "\n",
        "\n",
        "\n",
        "ถ้าค่าของ X ไม่ได้ถูกนำมาใช้ซ้ำในคำนวณถัดไป เราก็สามารถใช้ X[:] = X + Y หรือ X += Y เพื่อลดค่าใช้จ่ายหน่วยความจำของการดำเนินการ\n",
        "\n",
        "X[:] = X + Y เป็นการกำหนดผลลัพธ์ของ X + Y ให้กับเทนเซอร์ X แบบ in-place ในขณะที่ X += Y เป็นการกำหนดผลลัพธ์ของ X + Y ให้กับเทนเซอร์ X แบบ in-place เช่นกัน แต่ X += Y เป็นคำสั่งที่อ่านง่ายกว่า"
      ],
      "metadata": {
        "id": "VVK8RwlsML9p"
      }
    },
    {
      "cell_type": "code",
      "source": [
        "#ตัวอย่างต่อไปนี้แสดงวิธีใช้ X[:] = X + Y และ X += Y เพื่อทำ in-place\n",
        "import numpy as np\n",
        "\n",
        "# สร้างเทนเซอร์\n",
        "X = np.array([1, 2, 3])\n",
        "Y = np.array([4, 5, 6])\n",
        "\n",
        "before = id(X)\n",
        "# บวก X และ Y แบบ in-place โดยใช้ X[:] = X + Y\n",
        "X[:] = X + Y\n",
        "print(id(X) == before)\n",
        "# พิมพ์ค่าของ X\n",
        "print(X)\n",
        "id(X) == before\n",
        "# บวก X และ Y แบบ in-place โดยใช้ X += Y\n",
        "X += Y\n",
        "print(id(X) == before)\n",
        "# พิมพ์ค่าของ X อีกครั้ง\n",
        "print(X)\n"
      ],
      "metadata": {
        "colab": {
          "base_uri": "https://localhost:8080/"
        },
        "id": "DvEr3SQcKpHR",
        "outputId": "6ca76b6c-de97-44a5-9473-454614d70740"
      },
      "execution_count": 20,
      "outputs": [
        {
          "output_type": "stream",
          "name": "stdout",
          "text": [
            "True\n",
            "[5 7 9]\n",
            "True\n",
            "[ 9 12 15]\n"
          ]
        }
      ]
    },
    {
      "cell_type": "markdown",
      "source": [
        "2.1.6 Conversion to Other Python Objects"
      ],
      "metadata": {
        "id": "a0puz7dxM7tf"
      }
    },
    {
      "cell_type": "markdown",
      "source": [
        "\n",
        "การแปลของข้อความที่คุณให้มานั้นเป็นดังนี้:\n",
        "\n",
        "การแปลงเป็น NumPy tensor (ndarray) หรือ vice versa นั้นง่ายมาก เทนเซอร์ PyTorch และอาร์เรย์ NumPy จะแชร์หน่วยความจำพื้นฐานของตนเอง และการเปลี่ยนแปลงหนึ่งผ่านการดำเนินการ in-place จะเปลี่ยนแปลงอีกอันหนึ่งด้วยเช่นกัน\n",
        "\n",
        "ตัวอย่างต่อไปนี้แสดงวิธีแปลงเทนเซอร์ PyTorch เป็นอาร์เรย์ NumPy และ vice versa:"
      ],
      "metadata": {
        "id": "3XF9XEByM9PT"
      }
    },
    {
      "cell_type": "code",
      "source": [
        "import torch\n",
        "import numpy as np\n",
        "\n",
        "# สร้างเทนเซอร์ PyTorch\n",
        "x = torch.tensor([1, 2, 3])\n",
        "\n",
        "# แปลงเทนเซอร์ PyTorch เป็นอาร์เรย์ NumPy\n",
        "y = x.numpy()\n",
        "\n",
        "# พิมพ์ค่าของ y\n",
        "print(y)\n",
        "\n",
        "# แปลงอาร์เรย์ NumPy เป็นเทนเซอร์ PyTorch\n",
        "z = torch.from_numpy(y)\n",
        "\n",
        "# พิมพ์ค่าของ z\n",
        "print(z)\n",
        "type(x),type(y),type(z)"
      ],
      "metadata": {
        "colab": {
          "base_uri": "https://localhost:8080/"
        },
        "id": "c3L45Ov6M8FB",
        "outputId": "c7e55611-e66f-43a7-88a5-5b115b5cd75c"
      },
      "execution_count": 24,
      "outputs": [
        {
          "output_type": "stream",
          "name": "stdout",
          "text": [
            "[1 2 3]\n",
            "tensor([1, 2, 3])\n"
          ]
        },
        {
          "output_type": "execute_result",
          "data": {
            "text/plain": [
              "(torch.Tensor, numpy.ndarray, torch.Tensor)"
            ]
          },
          "metadata": {},
          "execution_count": 24
        }
      ]
    },
    {
      "cell_type": "code",
      "source": [
        "a = torch.tensor([3.5])\n",
        "a, a.item(), float(a), int(a)\n"
      ],
      "metadata": {
        "colab": {
          "base_uri": "https://localhost:8080/"
        },
        "id": "INvsxV5LNp_8",
        "outputId": "3912e2ec-026c-4495-baf4-08336ce215c8"
      },
      "execution_count": 25,
      "outputs": [
        {
          "output_type": "execute_result",
          "data": {
            "text/plain": [
              "(tensor([3.5000]), 3.5, 3.5, 3)"
            ]
          },
          "metadata": {},
          "execution_count": 25
        }
      ]
    },
    {
      "cell_type": "markdown",
      "source": [
        "2.1.8 Exercises"
      ],
      "metadata": {
        "id": "zpaIdz0wN540"
      }
    },
    {
      "cell_type": "markdown",
      "source": [
        "1. รันโค้ดในส่วนนี้ เปลี่ยนเงื่อนไข X == Y เป็น X < Y หรือ X > Y แล้วดูว่าคุณจะได้เทนเซอร์แบบใด"
      ],
      "metadata": {
        "id": "3DeQ9AOAOS6j"
      }
    },
    {
      "cell_type": "code",
      "source": [
        "import torch\n",
        "\n",
        "# สร้างเทนเซอร์ X และ Y\n",
        "X = torch.tensor([1, 2, 3])\n",
        "Y = torch.tensor([2, 3, 4])\n",
        "\n",
        "# สร้างเงื่อนไข X < Y หรือ X > Y\n",
        "condition = X < Y\n",
        "\n",
        "# พิมพ์ค่าของ condition\n",
        "print(f\"X < Y จะให้เทนเซอร์ต่อไปนี้:\\n{condition}\")\n"
      ],
      "metadata": {
        "colab": {
          "base_uri": "https://localhost:8080/"
        },
        "id": "rlrHEiyQN0TC",
        "outputId": "f8b7d2ff-aecd-4d96-9c69-dcdf80e28e73"
      },
      "execution_count": 34,
      "outputs": [
        {
          "output_type": "stream",
          "name": "stdout",
          "text": [
            "X < Y จะให้เทนเซอร์ต่อไปนี้:\n",
            "tensor([True, True, True])\n"
          ]
        }
      ]
    },
    {
      "cell_type": "code",
      "source": [
        "import torch\n",
        "\n",
        "# สร้างเทนเซอร์ X และ Y\n",
        "X = torch.tensor([1, 2, 3])\n",
        "Y = torch.tensor([2, 3, 4])\n",
        "\n",
        "# สร้างเงื่อนไข X < Y หรือ X > Y\n",
        "condition = X > Y\n",
        "\n",
        "# พิมพ์ค่าของ condition\n",
        "print(f\" X > Y จะให้เทนเซอร์ต่อไปนี้:\\n{condition}\")\n"
      ],
      "metadata": {
        "colab": {
          "base_uri": "https://localhost:8080/"
        },
        "id": "doXbUMEHOdlI",
        "outputId": "129e967e-2d54-42a3-fe47-eae822185a17"
      },
      "execution_count": 33,
      "outputs": [
        {
          "output_type": "stream",
          "name": "stdout",
          "text": [
            " X > Y จะให้เทนเซอร์ต่อไปนี้:\n",
            "tensor([False, False, False])\n"
          ]
        }
      ]
    },
    {
      "cell_type": "markdown",
      "source": [
        "2. แทนที่เทนเซอร์ทั้งสองที่ดำเนินการแบบองค์ประกอบต่อองค์ประกอบในกลไกการกระจายเสียงด้วยรูปร่างอื่น เช่น เทนเซอร์สามมิติ ผลลัพธ์จะเหมือนกับที่คาดไว้หรือไม่"
      ],
      "metadata": {
        "id": "CoVucAwEPMbQ"
      }
    },
    {
      "cell_type": "code",
      "source": [
        "import torch\n",
        "\n",
        "# สร้างเทนเซอร์ X และ Y\n",
        "X = torch.tensor([[[1, 2, 3], [4, 5, 6]], [[7, 8, 9], [10, 11, 12]]])\n",
        "Y = torch.tensor([1, 2, 3])\n",
        "\n",
        "# กระจายเสียงเทนเซอร์ Y เพื่อให้มีรูปร่างเดียวกันกับเทนเซอร์ X\n",
        "Y_broadcast = Y.unsqueeze(0).unsqueeze(0).expand_as(X)\n",
        "\n",
        "# บวกเทนเซอร์ X และ Y_broadcast แบบองค์ประกอบต่อองค์ประกอบ\n",
        "Z = X + Y\n",
        "\n",
        "# พิมพ์ค่าของ Z\n",
        "print(Z)\n"
      ],
      "metadata": {
        "colab": {
          "base_uri": "https://localhost:8080/"
        },
        "id": "_tjuK0fTO3FA",
        "outputId": "2fd17228-d6a9-4854-ece9-a7a7b573c970"
      },
      "execution_count": 35,
      "outputs": [
        {
          "output_type": "stream",
          "name": "stdout",
          "text": [
            "tensor([[[ 2,  4,  6],\n",
            "         [ 5,  7,  9]],\n",
            "\n",
            "        [[ 8, 10, 12],\n",
            "         [11, 13, 15]]])\n"
          ]
        }
      ]
    },
    {
      "cell_type": "code",
      "source": [
        "import torch\n",
        "\n",
        "# สร้างเทนเซอร์ X และ Y\n",
        "X = torch.tensor([[[1, 2, 3], [4, 5, 6]], [[7, 8, 9], [10, 11, 12]]])\n",
        "Y = torch.tensor([1, 2, 3])\n",
        "\n",
        "# กระจายเสียงเทนเซอร์ Y เพื่อให้มีรูปร่างเดียวกันกับเทนเซอร์ X\n",
        "Y_broadcast = Y.unsqueeze(0).unsqueeze(0).expand_as(X)\n",
        "\n",
        "# บวกเทนเซอร์ X และ Y_broadcast แบบองค์ประกอบต่อองค์ประกอบ\n",
        "Z = X + Y_broadcast\n",
        "\n",
        "# พิมพ์ค่าของ Z\n",
        "print(Z)\n"
      ],
      "metadata": {
        "colab": {
          "base_uri": "https://localhost:8080/"
        },
        "id": "ADDt5sesPZH6",
        "outputId": "9474dd02-e9ab-4bfa-f0e0-83675cff82db"
      },
      "execution_count": 36,
      "outputs": [
        {
          "output_type": "stream",
          "name": "stdout",
          "text": [
            "tensor([[[ 2,  4,  6],\n",
            "         [ 5,  7,  9]],\n",
            "\n",
            "        [[ 8, 10, 12],\n",
            "         [11, 13, 15]]])\n"
          ]
        }
      ]
    },
    {
      "cell_type": "markdown",
      "source": [
        "ตามที่คุณเห็น เทนเซอร์ Z มีรูปร่างเดียวกันกับเทนเซอร์ X และค่าของแต่ละองค์ประกอบของ Z เป็นผลลัพธ์ของการบวกองค์ประกอบที่สอดคล้องกันของ X และ Y_broadcast\n",
        "\n",
        "กลไกการกระจายเสียงเป็นเครื่องมือที่ทรงพลังที่ช่วยให้เราสามารถดำเนินการกับเทนเซอร์ที่มีรูปร่างต่างๆ ได้อย่างง่ายดาย โดยไม่ต้องใช้ลูป"
      ],
      "metadata": {
        "id": "NPZCSRnJPlVF"
      }
    },
    {
      "cell_type": "code",
      "source": [],
      "metadata": {
        "id": "BaTakXnBPlv4"
      },
      "execution_count": null,
      "outputs": []
    },
    {
      "cell_type": "markdown",
      "source": [
        "# 2.2 Data Preprocessing"
      ],
      "metadata": {
        "id": "hknXQKaSPpTY"
      }
    },
    {
      "cell_type": "markdown",
      "source": [
        "การแปลของข้อความที่คุณให้มานั้นเป็นดังนี้:\n",
        "\n",
        "จนถึงตอนนี้ เราได้ทำงานกับข้อมูลสังเคราะห์ที่อยู่ในเทนเซอร์สำเร็จรูป อย่างไรก็ตาม ในการนำการเรียนรู้เชิงลึกไปใช้ในโลกแห่งความจริง เราต้องดึงข้อมูลที่สกปรกซึ่งเก็บอยู่ในรูปแบบต่างๆ และทำการประมวลผลก่อนล่วงหน้าเพื่อให้เหมาะสมกับความต้องการของเรา โชคดีที่ไลบรารี pandas สามารถช่วยยกของหนักๆ ให้เราได้ แม้ว่าส่วนนี้จะไม่ใช่การสอน pandas อย่างเหมาะสม แต่ก็จะให้บทเรียนเร่งรัดเกี่ยวกับฟังก์ชันการทำงานทั่วไปบางอย่าง\n",
        "\n",
        "ไลบรารี pandas เป็นไลบรารี Python ที่ใช้สำหรับการวิเคราะห์และการจัดการข้อมูล มันมีโครงสร้างข้อมูลที่มีประสิทธิภาพสำหรับจัดเก็บและประมวลผลข้อมูลขนาดใหญ่ นอกจากนี้ยังมีเครื่องมือสำหรับการทำความสะอาดข้อมูล การรวมกลุ่ม และการแปลงข้อมูล\n",
        "\n",
        "ฟังก์ชันการทำงานทั่วไปบางอย่างของ pandas ได้แก่:\n",
        "\n",
        "* การอ่านและเขียนข้อมูลจาก/ไปยังไฟล์ต่างๆ เช่น CSV, Excel และ JSON\n",
        "* การเลือกและกรองข้อมูล\n",
        "* การรวมข้อมูลจากหลายแหล่ง\n",
        "* การเติมเต็มค่าที่หายไป\n",
        "* การแปลงประเภทข้อมูล\n",
        "* การสร้างฟีเจอร์ใหม่\n",
        "\n",
        "ในส่วนนี้ เราจะกล่าวถึงฟังก์ชันการทำงานบางอย่างของ pandas ที่มีประโยชน์สำหรับการประมวลผลข้อมูลก่อนล่วงหน้าสำหรับการเรียนรู้เชิงลึก ตัวอย่างเช่น เราสามารถใช้ pandas เพื่อ:\n",
        "\n",
        "* อ่านข้อมูลจากไฟล์ CSV และแปลงเป็นเทนเซอร์\n",
        "* กรองข้อมูลที่ไม่สมบูรณ์หรือผิดปกติออก\n",
        "* แปลงประเภทข้อมูลของคอลัมน์ต่างๆ ให้เหมาะสมกับการเรียนรู้เชิงลึก\n",
        "* สร้างฟีเจอร์ใหม่จากข้อมูลที่มีอยู่\n",
        "\n",
        "ต่อไปนี้เป็นตัวอย่างของการใช้ pandas เพื่อประมวลผลข้อมูลก่อนล่วงหน้าสำหรับการเรียนรู้เชิงลึก:\n",
        "\n",
        "```python\n",
        "import pandas as pd\n",
        "\n",
        "# อ่านข้อมูลจากไฟล์ CSV\n",
        "df = pd.read_csv('data.csv')\n",
        "\n",
        "# กรองข้อมูลที่ไม่สมบูรณ์หรือผิดปกติออก\n",
        "df = df.dropna()\n",
        "df = df[df['price'] > 0]\n",
        "\n",
        "# แปลงประเภทข้อมูลของคอลัมน์ต่างๆ ให้เหมาะสมกับการเรียนรู้เชิงลึก\n",
        "df['price'] = pd.to_numeric(df['price'])\n",
        "df['category'] = pd.get_dummies(df['category'])\n",
        "\n",
        "# สร้างฟีเจอร์ใหม่จากข้อมูลที่มีอยู่\n",
        "df['feature_1'] = df['price'] * df['quantity']\n",
        "\n",
        "# แปลงข้อมูลเป็นเทนเซอร์\n",
        "X = df[['feature_1', 'category']].to_numpy()\n",
        "y = df['price'].to_numpy()\n",
        "```\n",
        "\n",
        "ข้อมูลในเทนเซอร์ X และ y พร้อมสำหรับการใช้ในโมเดลการเรียนรู้เชิงลึกแล้ว\n",
        "\n",
        "ไลบรารี pandas เป็นเครื่องมือที่ทรงพลังสำหรับการประมวลผลข้อมูลก่อนล่วงหน้าสำหรับการเรียนรู้เชิงลึก หากคุณกำลังทำงานกับข้อมูลจริง ขอแนะนำให้คุณศึกษาเกี่ยวกับ pandas เพิ่มเติม"
      ],
      "metadata": {
        "id": "4F0l0tgTP3Fa"
      }
    },
    {
      "cell_type": "code",
      "source": [
        "import os\n",
        "\n",
        "# เชื่อมต่อ Google Drive กับ Google Colab\n",
        "\n",
        "\n",
        "# เก็บไฟล์ house_tiny.csv ไว้ที่ตัวแปร data_file\n",
        "data_file = '/content/drive/My Drive/house_tiny.csv'\n"
      ],
      "metadata": {
        "id": "S_WFUtaSRc0Y"
      },
      "execution_count": 43,
      "outputs": []
    },
    {
      "cell_type": "code",
      "source": [
        "import os\n",
        "\n",
        "# สร้างไดเร็กทอรี data ถ้ายังไม่มีอยู่\n",
        "os.makedirs(os.path.join('..', 'data'), exist_ok=True)\n",
        "\n",
        "# สร้างไฟล์ house_tiny.csv ในไดเร็กทอรี data\n",
        "data_file = os.path.join('..', 'data', 'house_tiny.csv')\n",
        "\n",
        "# เขียนข้อมูลไปยังไฟล์ house_tiny.csv\n",
        "with open(data_file, 'w') as f:\n",
        "    f.write('''NumRooms,RoofType,Price\n",
        "NA,NA,127500\n",
        "2,NA,106000\n",
        "4,Slate,178100\n",
        "NA,NA,140000''')\n"
      ],
      "metadata": {
        "id": "KniiryTyPrlA"
      },
      "execution_count": 44,
      "outputs": []
    },
    {
      "cell_type": "code",
      "source": [
        "import pandas as pd\n",
        "data = pd.read_csv(data_file)\n",
        "print(data)"
      ],
      "metadata": {
        "colab": {
          "base_uri": "https://localhost:8080/"
        },
        "id": "eNiLNxbVSHZF",
        "outputId": "1be3476e-1e69-4b98-f320-50eac8b1d1ce"
      },
      "execution_count": 45,
      "outputs": [
        {
          "output_type": "stream",
          "name": "stdout",
          "text": [
            "   NumRooms RoofType   Price\n",
            "0       NaN      NaN  127500\n",
            "1       2.0      NaN  106000\n",
            "2       4.0    Slate  178100\n",
            "3       NaN      NaN  140000\n"
          ]
        }
      ]
    },
    {
      "cell_type": "code",
      "source": [
        "data.isnull().sum()"
      ],
      "metadata": {
        "colab": {
          "base_uri": "https://localhost:8080/"
        },
        "id": "jWTxDZuRSLtg",
        "outputId": "eba189d8-c585-44c5-a7d1-80a2551580e6"
      },
      "execution_count": 47,
      "outputs": [
        {
          "output_type": "execute_result",
          "data": {
            "text/plain": [
              "NumRooms    2\n",
              "RoofType    3\n",
              "Price       0\n",
              "dtype: int64"
            ]
          },
          "metadata": {},
          "execution_count": 47
        }
      ]
    },
    {
      "cell_type": "code",
      "source": [
        "data.shape"
      ],
      "metadata": {
        "colab": {
          "base_uri": "https://localhost:8080/"
        },
        "id": "44b9E8viSO5G",
        "outputId": "0bc2991f-3172-4733-a7a6-6b02279bdc48"
      },
      "execution_count": 48,
      "outputs": [
        {
          "output_type": "execute_result",
          "data": {
            "text/plain": [
              "(4, 3)"
            ]
          },
          "metadata": {},
          "execution_count": 48
        }
      ]
    },
    {
      "cell_type": "code",
      "source": [],
      "metadata": {
        "id": "VdVPr-z9SU-2"
      },
      "execution_count": null,
      "outputs": []
    }
  ]
}