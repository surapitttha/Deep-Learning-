{
  "nbformat": 4,
  "nbformat_minor": 0,
  "metadata": {
    "colab": {
      "provenance": [],
      "toc_visible": true,
      "mount_file_id": "1_Lzx_dhcwYPkjIvOKb4yiabqz_wwx4UK",
      "authorship_tag": "ABX9TyPMjzHKJ7QyXY/rHPCtWB0O",
      "include_colab_link": true
    },
    "kernelspec": {
      "name": "python3",
      "display_name": "Python 3"
    },
    "language_info": {
      "name": "python"
    }
  },
  "cells": [
    {
      "cell_type": "markdown",
      "metadata": {
        "id": "view-in-github",
        "colab_type": "text"
      },
      "source": [
        "<a href=\"https://colab.research.google.com/github/surapitttha/Deep-Learning-/blob/main/deep_learning_2_Preliminaries.ipynb\" target=\"_parent\"><img src=\"https://colab.research.google.com/assets/colab-badge.svg\" alt=\"Open In Colab\"/></a>"
      ]
    },
    {
      "cell_type": "markdown",
      "source": [
        "\n",
        "ในการเตรียมพร้อมสำหรับการเรียนรู้เชิงลึก คุณจะต้องมีทักษะการเอาชีวิตรอดบางประการ ได้แก่:\n",
        "\n",
        "(i) เทคนิคสำหรับการจัดเก็บและจัดการข้อมูล\n",
        "(ii) ไลบรารีสำหรับการนำเข้าและประมวลผลข้อมูลจากแหล่งต่างๆ\n",
        "(iii) ความรู้เกี่ยวกับการดำเนินการพีชคณิตเชิงเส้นพื้นฐานที่เราใช้กับองค์ประกอบข้อมูลมิติสูง\n",
        "(iv) แคลคูลัสเพียงพอที่จะกำหนดทิศทางในการปรับพารามิเตอร์แต่ละตัวเพื่อลดฟังก์ชันการสูญเสีย\n",
        "(v) ความสามารถในการคำนวณอนุพันธ์โดยอัตโนมัติเพื่อให้คุณลืมแคลคูลัสที่คุณเพิ่งเรียนรู้ไปได้มาก\n",
        "(vi) ความเข้าใจพื้นฐานเกี่ยวกับความน่าจะเป็น ซึ่งเป็นภาษาหลักของเราสำหรับการใช้เหตุผลภายใต้ความไม่แน่นอน\n",
        "(vii) ความสามารถในการค้นหาคำตอบในเอกสารอย่างเป็นทางการเมื่อคุณติดขัด\n",
        "\n",
        "โดยสรุป บทนี้จะให้คำแนะนำเบื้องต้นอย่างรวดเร็วเกี่ยวกับพื้นฐานที่คุณจำเป็นต้องรู้เพื่อติดตามเนื้อหาทางเทคนิคส่วนใหญ่ในหนังสือเล่มนี้\n",
        "\n",
        "**สรุป**\n",
        "\n",
        "ในการเตรียมพร้อมสำหรับการเรียนรู้เชิงลึก คุณจะต้องมีพื้นฐานในด้านต่อไปนี้:\n",
        "\n",
        "* เทคนิคการจัดเก็บและจัดการข้อมูล\n",
        "* ไลบรารีสำหรับการนำเข้าและประมวลผลข้อมูลจากแหล่งต่างๆ\n",
        "* พีชคณิตเชิงเส้นพื้นฐาน\n",
        "* แคลคูลัสพื้นฐาน\n",
        "* การคำนวณอนุพันธ์โดยอัตโนมัติ\n",
        "* ความน่าจะเป็น\n",
        "* ความสามารถในการค้นหาคำตอบในเอกสารอย่างเป็นทางการ\n",
        "\n",
        "บทนี้จะให้คำแนะนำเบื้องต้นเกี่ยวกับพื้นฐานเหล่านี้ เพื่อให้คุณสามารถติดตามเนื้อหาทางเทคนิคส่วนใหญ่ในหนังสือเล่มนี้ได้"
      ],
      "metadata": {
        "id": "sckQs3T-36Uz"
      }
    },
    {
      "cell_type": "code",
      "execution_count": null,
      "metadata": {
        "id": "wLsV8mz_3WwS"
      },
      "outputs": [],
      "source": []
    },
    {
      "cell_type": "markdown",
      "source": [
        "#2.1 Data Manipulation\n"
      ],
      "metadata": {
        "id": "upog4DdB4ClV"
      }
    },
    {
      "cell_type": "markdown",
      "source": [
        "## 2.1.1 Getting Started"
      ],
      "metadata": {
        "id": "SeVpU2O_4Pq9"
      }
    },
    {
      "cell_type": "markdown",
      "source": [
        "To start, we import the PyTorch library. Note that the package name is torch.\n"
      ],
      "metadata": {
        "id": "HosTmKC-4REN"
      }
    },
    {
      "cell_type": "code",
      "source": [
        "import torch"
      ],
      "metadata": {
        "id": "sdmoDl0o4FKU"
      },
      "execution_count": null,
      "outputs": []
    },
    {
      "cell_type": "markdown",
      "source": [
        "**การแปลและเรียบเรียง**\n",
        "\n",
        "Tensor เป็นอาร์เรย์ของค่าตัวเลขที่มีมิติได้หลายมิติ ในกรณีหนึ่งมิติ นั่นคือ เมื่อมีเพียงแกนเดียว เราจะเรียก tensor ว่าเวกเตอร์ ด้วยแกนสองแกน Tensor จะเรียกว่าเมทริกซ์ ด้วยแกนมากกว่า 2 แกน เราจะลบชื่อเฉพาะออกและเรียกวัตถุนี้ว่าเทนเซอร์อันดับ k\n",
        "\n",
        "PyTorch มีฟังก์ชันมากมายสำหรับสร้างเทนเซอร์ใหม่ที่เติมค่าไว้ล่วงหน้า ตัวอย่างเช่น ด้วยการเรียกใช้ arange(n) เราสามารถสร้างเวกเตอร์ของค่าที่มีระยะห่างเท่ากัน โดยเริ่มต้นที่ 0 (รวม) และสิ้นสุดที่ n (ไม่รวม) โดยค่าเริ่มต้น ขนาดของช่วงคือ 1 เว้นแต่จะระบุไว้เป็นอย่างอื่น เทนเซอร์ใหม่จะถูกจัดเก็บในหน่วยความจำหลักและกำหนดสำหรับการคำนวณบน CPU\n",
        "\n",
        "**สรุป**\n",
        "\n",
        "Tensor เป็นอาร์เรย์ของค่าตัวเลขที่มีมิติได้หลายมิติ ใน PyTorch มีฟังก์ชันมากมายสำหรับสร้างเทนเซอร์ใหม่ที่เติมค่าไว้ล่วงหน้า เทนเซอร์ใหม่จะถูกจัดเก็บในหน่วยความจำหลักและกำหนดสำหรับการคำนวณบน CPU\n",
        "\n",
        "**คำศัพท์:**\n",
        "\n",
        "* Tensor: เทนเซอร์\n",
        "* Array: อาร์เรย์\n",
        "* Dimension: มิติ\n",
        "* Vector: เวกเตอร์\n",
        "* Matrix: เมทริกซ์\n",
        "* Order: อันดับ\n",
        "* Main memory: หน่วยความจำหลัก\n",
        "* CPU-based computation: การคำนวณบน CPU\n",
        "\n",
        "หวังว่าคำตอบนี้จะเป็นประโยชน์นะครับ"
      ],
      "metadata": {
        "id": "pJLcBXOO4qeY"
      }
    },
    {
      "cell_type": "code",
      "source": [
        "x = torch.arange(12, dtype=torch.float32)\n",
        "x"
      ],
      "metadata": {
        "colab": {
          "base_uri": "https://localhost:8080/"
        },
        "id": "61In7iVy4W6e",
        "outputId": "5276e198-289e-4884-dba4-ffa4ec1199f2"
      },
      "execution_count": null,
      "outputs": [
        {
          "output_type": "execute_result",
          "data": {
            "text/plain": [
              "tensor([ 0.,  1.,  2.,  3.,  4.,  5.,  6.,  7.,  8.,  9., 10., 11.])"
            ]
          },
          "metadata": {},
          "execution_count": 3
        }
      ]
    },
    {
      "cell_type": "markdown",
      "source": [
        "ค่าแต่ละค่าในเทนเซอร์เรียกว่าองค์ประกอบของเทนเซอร์ เทนเซอร์ x มี 12 องค์ประกอบ\n",
        "\n",
        "เราสามารถตรวจสอบจำนวนองค์ประกอบทั้งหมดในเทนเซอร์ผ่านเมธอด numel ของเทนเซอร์ดังกล่าว"
      ],
      "metadata": {
        "id": "xWOgMD9D4vTr"
      }
    },
    {
      "cell_type": "code",
      "source": [
        "x.numel()"
      ],
      "metadata": {
        "colab": {
          "base_uri": "https://localhost:8080/"
        },
        "id": "XuA4d2-U48xE",
        "outputId": "878d0ff3-bd6d-47d1-9c43-33acfaa66b9a"
      },
      "execution_count": null,
      "outputs": [
        {
          "output_type": "execute_result",
          "data": {
            "text/plain": [
              "12"
            ]
          },
          "metadata": {},
          "execution_count": 4
        }
      ]
    },
    {
      "cell_type": "markdown",
      "source": [
        "เราสามารถเข้าถึงรูปร่างของเทนเซอร์ (ความยาวตามแต่ละแกน) โดยการตรวจสอบแอตทริบิวต์ shape ของเทนเซอร์นั้น เนื่องจากเรากำลังจัดการกับเวกเตอร์ที่นี่ รูปร่างจึงมีเพียงองค์ประกอบเดียวและเหมือนกับขนาด"
      ],
      "metadata": {
        "id": "1_h9okNc5GD7"
      }
    },
    {
      "cell_type": "code",
      "source": [
        "x.shape"
      ],
      "metadata": {
        "colab": {
          "base_uri": "https://localhost:8080/"
        },
        "id": "apOrzTnP5AGs",
        "outputId": "606e962a-0218-44d1-fe01-6547993ad3e2"
      },
      "execution_count": null,
      "outputs": [
        {
          "output_type": "execute_result",
          "data": {
            "text/plain": [
              "torch.Size([12])"
            ]
          },
          "metadata": {},
          "execution_count": 5
        }
      ]
    },
    {
      "cell_type": "markdown",
      "source": [
        "\n",
        "การแปลภาษา\n",
        "\n",
        "เราสามารถเปลี่ยนรูปร่างของเทนเซอร์ได้โดยไม่เปลี่ยนแปลงขนาดหรือค่าของเทนเซอร์นั้น โดยการเรียกใช้ reshape ตัวอย่างเช่น เราสามารถแปลงเวกเตอร์ x ที่มีรูปร่าง (12,) เป็นเมทริกซ์ X ที่มีรูปร่าง (3, 4) ได้ เทนเซอร์ใหม่นี้จะเก็บองค์ประกอบทั้งหมดไว้ แต่จัดเรียงใหม่เป็นเมทริกซ์ โปรดสังเกตว่าองค์ประกอบของเวกเตอร์ของเราจะถูกวางเรียงทีละแถว ดังนั้น x[3] == X[0, 3]"
      ],
      "metadata": {
        "id": "AFRuMQ335hNa"
      }
    },
    {
      "cell_type": "code",
      "source": [
        "x.reshape(3,4)"
      ],
      "metadata": {
        "colab": {
          "base_uri": "https://localhost:8080/"
        },
        "id": "ppBei-SH5Lga",
        "outputId": "68c8dc56-ccad-4ea1-8296-78e49e325898"
      },
      "execution_count": null,
      "outputs": [
        {
          "output_type": "execute_result",
          "data": {
            "text/plain": [
              "tensor([[ 0.,  1.,  2.,  3.],\n",
              "        [ 4.,  5.,  6.,  7.],\n",
              "        [ 8.,  9., 10., 11.]])"
            ]
          },
          "metadata": {},
          "execution_count": 6
        }
      ]
    },
    {
      "cell_type": "markdown",
      "source": [
        "โปรดสังเกตว่าการระบุทุกองค์ประกอบของรูปร่างเพื่อ reshape เป็นสิ่งที่ไม่จำเป็น เนื่องจากเรารู้ขนาดของเทนเซอร์ของเราอยู่แล้ว เราสามารถคำนวณองค์ประกอบหนึ่งของรูปร่างได้โดยกำหนดส่วนที่เหลือ ตัวอย่างเช่น กำหนดเทนเซอร์ที่มีขนาด n และรูปร่างเป้าหมาย (h, w) เรารู้ว่า w = n/h เพื่ออนุมานองค์ประกอบหนึ่งของรูปร่างโดยอัตโนมัติ เราสามารถใส่ -1 สำหรับองค์ประกอบของรูปร่างที่ควรอนุมานโดยอัตโนมัติ ในกรณีของเรา แทนที่จะเรียก x.reshape(3, 4) เราอาจเรียก x.reshape(-1, 4) หรือ x.reshape(3, -1) ได้เทียบเท่ากัน\n",
        "\n",
        "ผู้ปฏิบัติงานมักต้องทำงานกับเทนเซอร์ที่เริ่มต้นเพื่อให้มีค่า 0 หรือ 1 ทั้งหมด เราสามารถสร้างเทนเซอร์ที่มีองค์ประกอบทั้งหมดตั้งเป็น 0 และรูปร่างของ (2, 3, 4) ได้ผ่านฟังก์ชัน zeros"
      ],
      "metadata": {
        "id": "HuVb1NeD5gVi"
      }
    },
    {
      "cell_type": "code",
      "source": [
        "x.reshape(4,-1)"
      ],
      "metadata": {
        "colab": {
          "base_uri": "https://localhost:8080/"
        },
        "id": "o2mGTzZp6Cwo",
        "outputId": "8f92efd0-33ac-45e4-dd29-a5f792b737b1"
      },
      "execution_count": null,
      "outputs": [
        {
          "output_type": "execute_result",
          "data": {
            "text/plain": [
              "tensor([[ 0.,  1.,  2.],\n",
              "        [ 3.,  4.,  5.],\n",
              "        [ 6.,  7.,  8.],\n",
              "        [ 9., 10., 11.]])"
            ]
          },
          "metadata": {},
          "execution_count": 7
        }
      ]
    },
    {
      "cell_type": "code",
      "source": [
        "x.reshape(2,-1)"
      ],
      "metadata": {
        "colab": {
          "base_uri": "https://localhost:8080/"
        },
        "id": "PRJZjHdx6J6W",
        "outputId": "5b25db4a-2861-4864-e869-8c131ff0ee52"
      },
      "execution_count": null,
      "outputs": [
        {
          "output_type": "execute_result",
          "data": {
            "text/plain": [
              "tensor([[ 0.,  1.,  2.,  3.,  4.,  5.],\n",
              "        [ 6.,  7.,  8.,  9., 10., 11.]])"
            ]
          },
          "metadata": {},
          "execution_count": 8
        }
      ]
    },
    {
      "cell_type": "code",
      "source": [
        "torch.zeros(2,3,4)"
      ],
      "metadata": {
        "colab": {
          "base_uri": "https://localhost:8080/"
        },
        "id": "eEsJf2Ec5YY2",
        "outputId": "badb4877-86a6-4469-86fb-457f2a615bce"
      },
      "execution_count": null,
      "outputs": [
        {
          "output_type": "execute_result",
          "data": {
            "text/plain": [
              "tensor([[[0., 0., 0., 0.],\n",
              "         [0., 0., 0., 0.],\n",
              "         [0., 0., 0., 0.]],\n",
              "\n",
              "        [[0., 0., 0., 0.],\n",
              "         [0., 0., 0., 0.],\n",
              "         [0., 0., 0., 0.]]])"
            ]
          },
          "metadata": {},
          "execution_count": 9
        }
      ]
    },
    {
      "cell_type": "code",
      "source": [],
      "metadata": {
        "id": "V_98Vc1B6VJL"
      },
      "execution_count": null,
      "outputs": []
    },
    {
      "cell_type": "code",
      "source": [
        "torch.zeros(2,3,4).shape"
      ],
      "metadata": {
        "colab": {
          "base_uri": "https://localhost:8080/"
        },
        "id": "LeDzrCQ15ye2",
        "outputId": "23e11e42-ca69-4dda-f743-56b816c406bc"
      },
      "execution_count": null,
      "outputs": [
        {
          "output_type": "execute_result",
          "data": {
            "text/plain": [
              "torch.Size([2, 3, 4])"
            ]
          },
          "metadata": {},
          "execution_count": 10
        }
      ]
    },
    {
      "cell_type": "markdown",
      "source": [
        "ในทำนองเดียวกัน เราสามารถสร้างเทนเซอร์ที่มีค่า 1 ทั้งหมดได้โดยการเรียกใช้ ones"
      ],
      "metadata": {
        "id": "-mIS2JPc6Z0F"
      }
    },
    {
      "cell_type": "code",
      "source": [
        "torch.ones((2,3,4))"
      ],
      "metadata": {
        "colab": {
          "base_uri": "https://localhost:8080/"
        },
        "id": "V_8pzP-L6WFz",
        "outputId": "3d28aa8e-106e-4617-89b7-edd1c4fcfaeb"
      },
      "execution_count": null,
      "outputs": [
        {
          "output_type": "execute_result",
          "data": {
            "text/plain": [
              "tensor([[[1., 1., 1., 1.],\n",
              "         [1., 1., 1., 1.],\n",
              "         [1., 1., 1., 1.]],\n",
              "\n",
              "        [[1., 1., 1., 1.],\n",
              "         [1., 1., 1., 1.],\n",
              "         [1., 1., 1., 1.]]])"
            ]
          },
          "metadata": {},
          "execution_count": 11
        }
      ]
    },
    {
      "cell_type": "markdown",
      "source": [
        "เรามักต้องการสุ่มตัวอย่างแต่ละองค์ประกอบแบบสุ่ม (และไม่ขึ้นต่อกัน) จากฟังก์ชันการแจกแจงความน่าจะเป็นที่กำหนด ตัวอย่างเช่น พารามิเตอร์ของเครือข่ายประสาทมักเริ่มต้นแบบสุ่ม สนิปเป็ตต่อไปนี้สร้างเทนเซอร์ที่มีองค์ประกอบที่วาดจากฟังก์ชันการแจกแจงแบบเกาส์มาตรฐาน (ปกติ) โดยมีค่าเฉลี่ย 0 และส่วนเบี่ยงเบนมาตรฐาน 1"
      ],
      "metadata": {
        "id": "R_mKeU0-6j1J"
      }
    },
    {
      "cell_type": "code",
      "source": [
        "import torch\n",
        "\n",
        "# Create a tensor of elements drawn from a standard Gaussian distribution\n",
        "X = torch.randn((2, 3, 4))\n",
        "\n",
        "# Print the tensor\n",
        "print(X)\n"
      ],
      "metadata": {
        "colab": {
          "base_uri": "https://localhost:8080/"
        },
        "id": "AyTGgCh36Y7t",
        "outputId": "9497023f-12af-4d59-abdd-32d1d619a520"
      },
      "execution_count": null,
      "outputs": [
        {
          "output_type": "stream",
          "name": "stdout",
          "text": [
            "tensor([[[ 0.3770,  0.7283,  1.2330,  0.8085],\n",
            "         [-0.5008, -1.0231, -0.2561, -1.8738],\n",
            "         [ 1.7550,  1.9932, -0.3846, -0.7980]],\n",
            "\n",
            "        [[ 0.5257,  0.8185, -1.0019,  0.5500],\n",
            "         [ 0.2106, -1.2254,  0.2851, -1.1027],\n",
            "         [ 0.8532, -0.1469, -0.9594, -0.3782]]])\n"
          ]
        }
      ]
    },
    {
      "cell_type": "markdown",
      "source": [
        "**คำศัพท์:**\n",
        "\n",
        "* Random sample: การสุ่มตัวอย่าง\n",
        "* Independently: ไม่ขึ้นต่อกัน\n",
        "* Probability distribution: ฟังก์ชันการแจกแจงความน่าจะเป็น\n",
        "* Neural network parameters: พารามิเตอร์ของเครือข่ายประสาท\n",
        "* Standard Gaussian distribution: ฟังก์ชันการแจกแจงแบบเกาส์มาตรฐาน (ปกติ)\n",
        "* Mean: ค่าเฉลี่ย\n",
        "* Standard deviation: ส่วนเบี่ยงเบนมาตรฐาน\n"
      ],
      "metadata": {
        "id": "lF1rwA9D7Bof"
      }
    },
    {
      "cell_type": "markdown",
      "source": [
        "ช่ครับ ในที่สุด เราก็สามารถสร้างเทนเซอร์ได้โดยการให้ค่าที่แน่นอนสำหรับแต่ละองค์ประกอบโดยการให้รายการ (อาจซ้อนกันได้) ของ Python list(s) ที่มีค่าตัวเลข ในที่นี้ เราสร้างเมทริกซ์ที่มีรายการของรายการ โดยที่รายการนอกสุดสอดคล้องกับแกน 0 และรายการด้านในสอดคล้องกับแกน 1"
      ],
      "metadata": {
        "id": "HaBBPWv-7Syp"
      }
    },
    {
      "cell_type": "code",
      "source": [
        "import torch\n",
        "\n",
        "# Create a matrix with a list of lists\n",
        "X = torch.tensor([[1, 2, 3], [4, 5, 6]])\n",
        "Y = torch.tensor([[2, 1, 4, 3], [1, 2, 3, 4], [4, 3, 2, 1]])\n",
        "\n",
        "# Print the tensor\n",
        "print(X)\n",
        "print(Y)\n"
      ],
      "metadata": {
        "colab": {
          "base_uri": "https://localhost:8080/"
        },
        "id": "z6sr39Bn65Df",
        "outputId": "81dbc0ac-c555-4872-d75f-aaca09c27e27"
      },
      "execution_count": null,
      "outputs": [
        {
          "output_type": "stream",
          "name": "stdout",
          "text": [
            "tensor([[1, 2, 3],\n",
            "        [4, 5, 6]])\n",
            "tensor([[2, 1, 4, 3],\n",
            "        [1, 2, 3, 4],\n",
            "        [4, 3, 2, 1]])\n"
          ]
        }
      ]
    },
    {
      "cell_type": "code",
      "source": [
        "X.shape"
      ],
      "metadata": {
        "colab": {
          "base_uri": "https://localhost:8080/"
        },
        "id": "UaUd05M37WNE",
        "outputId": "dfcdc75d-c402-4797-b21f-0c2d35838a7e"
      },
      "execution_count": null,
      "outputs": [
        {
          "output_type": "execute_result",
          "data": {
            "text/plain": [
              "torch.Size([2, 3])"
            ]
          },
          "metadata": {},
          "execution_count": 14
        }
      ]
    },
    {
      "cell_type": "code",
      "source": [
        "Y.shape"
      ],
      "metadata": {
        "colab": {
          "base_uri": "https://localhost:8080/"
        },
        "id": "uVmnuYDE7g10",
        "outputId": "c1db1012-75f0-4c71-f08b-c8ac8d33d112"
      },
      "execution_count": null,
      "outputs": [
        {
          "output_type": "execute_result",
          "data": {
            "text/plain": [
              "torch.Size([3, 4])"
            ]
          },
          "metadata": {},
          "execution_count": 15
        }
      ]
    },
    {
      "cell_type": "code",
      "source": [],
      "metadata": {
        "id": "lfRC-gQI7igR"
      },
      "execution_count": null,
      "outputs": []
    },
    {
      "cell_type": "markdown",
      "source": [
        "## 2.1.2 Indexing and Slicing"
      ],
      "metadata": {
        "id": "RYZdyOPC7sMA"
      }
    },
    {
      "cell_type": "markdown",
      "source": [
        "ถูกแล้วครับ ดังเช่น Python lists เราสามารถเข้าถึงองค์ประกอบของเทนเซอร์ได้โดยการทำดัชนี (เริ่มต้นที่ 0) เพื่อเข้าถึงองค์ประกอบโดยอิงตามตำแหน่งขององค์ประกอบนั้นเมื่อเทียบกับส่วนท้ายของรายการ เราสามารถใช้การทำดัชนีแบบลบได้ ในที่สุด เราสามารถเข้าถึงช่วงทั้งหมดของดัชนีผ่านการตัดแบ่ง (เช่น X[start:stop]) โดยค่าที่ส่งกลับจะรวมดัชนีแรก (start) แต่ไม่รวมดัชนีสุดท้าย (stop) ในที่สุด เมื่อระบุดัชนีหรือการตัดแบ่งเพียงอันเดียวสำหรับเทนเซอร์อันดับ k จะถูกนำไปใช้ตามแกน 0 ดังนั้น ในโค้ดต่อไปนี้ [-1] จะเลือกแถวสุดท้าย และ [1:3] จะเลือกแถวที่สองและสาม"
      ],
      "metadata": {
        "id": "3wxHzUBi75aC"
      }
    },
    {
      "cell_type": "markdown",
      "source": [],
      "metadata": {
        "id": "V9QE8YHz8KJ7"
      }
    },
    {
      "cell_type": "code",
      "source": [
        "X = torch.arange(12, dtype=torch.float32)\n",
        "X = X.reshape(3,4)"
      ],
      "metadata": {
        "id": "nG6CiFaF8RqY"
      },
      "execution_count": null,
      "outputs": []
    },
    {
      "cell_type": "code",
      "source": [],
      "metadata": {
        "id": "6RC2EPYm8sos"
      },
      "execution_count": null,
      "outputs": []
    },
    {
      "cell_type": "code",
      "source": [
        "X[-1], X[1:3]"
      ],
      "metadata": {
        "colab": {
          "base_uri": "https://localhost:8080/"
        },
        "id": "729owkKZ8KjC",
        "outputId": "8f41fcac-5941-4ebb-c81c-ed5412401d46"
      },
      "execution_count": null,
      "outputs": [
        {
          "output_type": "execute_result",
          "data": {
            "text/plain": [
              "(tensor([ 8.,  9., 10., 11.]),\n",
              " tensor([[ 4.,  5.,  6.,  7.],\n",
              "         [ 8.,  9., 10., 11.]]))"
            ]
          },
          "metadata": {},
          "execution_count": 17
        }
      ]
    },
    {
      "cell_type": "code",
      "source": [
        "import torch\n",
        "\n",
        "# Create a matrix\n",
        "X = torch.tensor([[1, 2, 3], [4, 5, 6]])\n",
        "\n",
        "# Access the last row using negative indexing\n",
        "last_row = X[-1]\n",
        "\n",
        "# Print the last row\n",
        "print(last_row)\n",
        "\n",
        "# Access the second and third rows using slicing\n",
        "second_and_third_rows = X[1:3]\n",
        "\n",
        "# Print the second and third rows\n",
        "print(second_and_third_rows)"
      ],
      "metadata": {
        "colab": {
          "base_uri": "https://localhost:8080/"
        },
        "id": "vIqFgxNe7s7m",
        "outputId": "b6761dec-3fbf-4821-817f-64afb3c5c65e"
      },
      "execution_count": null,
      "outputs": [
        {
          "output_type": "stream",
          "name": "stdout",
          "text": [
            "tensor([4, 5, 6])\n",
            "tensor([[4, 5, 6]])\n"
          ]
        }
      ]
    },
    {
      "cell_type": "code",
      "source": [
        "X[1][2]"
      ],
      "metadata": {
        "colab": {
          "base_uri": "https://localhost:8080/"
        },
        "id": "LLJKcity78va",
        "outputId": "a2f2bb0e-541c-4476-a973-ddd3ea4df705"
      },
      "execution_count": null,
      "outputs": [
        {
          "output_type": "execute_result",
          "data": {
            "text/plain": [
              "tensor(6)"
            ]
          },
          "metadata": {},
          "execution_count": 19
        }
      ]
    },
    {
      "cell_type": "code",
      "source": [
        "X[1,2]"
      ],
      "metadata": {
        "colab": {
          "base_uri": "https://localhost:8080/"
        },
        "id": "K37oyI8M88iI",
        "outputId": "d9d3a519-5b70-4807-c25c-df50a1935c1e"
      },
      "execution_count": null,
      "outputs": [
        {
          "output_type": "execute_result",
          "data": {
            "text/plain": [
              "tensor(6)"
            ]
          },
          "metadata": {},
          "execution_count": 20
        }
      ]
    },
    {
      "cell_type": "markdown",
      "source": [
        "ใช่ครับ นอกเหนือจากการอ่านองค์ประกอบของเมทริกซ์แล้ว เรายังสามารถเขียนองค์ประกอบของเมทริกซ์ได้โดยการระบุดัชนี"
      ],
      "metadata": {
        "id": "S7Gp41gm9HfK"
      }
    },
    {
      "cell_type": "code",
      "source": [
        "X[1, 2] = 17"
      ],
      "metadata": {
        "id": "eCgG8zj88EzS"
      },
      "execution_count": null,
      "outputs": []
    },
    {
      "cell_type": "code",
      "source": [
        "X"
      ],
      "metadata": {
        "colab": {
          "base_uri": "https://localhost:8080/"
        },
        "id": "r7bNjMcD9KqO",
        "outputId": "c073eb03-e14b-4e6d-9914-a9e1d398baae"
      },
      "execution_count": null,
      "outputs": [
        {
          "output_type": "execute_result",
          "data": {
            "text/plain": [
              "tensor([[ 1,  2,  3],\n",
              "        [ 4,  5, 17]])"
            ]
          },
          "metadata": {},
          "execution_count": 22
        }
      ]
    },
    {
      "cell_type": "code",
      "source": [
        "#หรือ\n",
        "import torch\n",
        "\n",
        "# Create a matrix\n",
        "X = torch.tensor([[1, 2, 3], [4, 5, 6]])\n",
        "\n",
        "# Set the element at (1, 2) to 10\n",
        "X[1, 2] = 10\n",
        "\n",
        "# Print the matrix\n",
        "print(X)"
      ],
      "metadata": {
        "colab": {
          "base_uri": "https://localhost:8080/"
        },
        "id": "5e7pRDiR9L_c",
        "outputId": "89386bce-ebe1-4638-cfa4-4a94ca11c6ea"
      },
      "execution_count": null,
      "outputs": [
        {
          "output_type": "stream",
          "name": "stdout",
          "text": [
            "tensor([[ 1,  2,  3],\n",
            "        [ 4,  5, 10]])\n"
          ]
        }
      ]
    },
    {
      "cell_type": "markdown",
      "source": [
        "เราสามารถใช้การทำดัชนีและการตัดแบ่งเพื่อกำหนดช่วงขององค์ประกอบให้กับค่าใหม่ได้ ตัวอย่างเช่น โค้ดต่อไปนี้จะตั้งค่าองค์ประกอบทั้งหมดในแถวที่สองให้เป็น 7:"
      ],
      "metadata": {
        "id": "aY5nKp6t9Y8m"
      }
    },
    {
      "cell_type": "code",
      "source": [
        "import torch\n",
        "\n",
        "# Create a matrix\n",
        "X = torch.tensor([[1, 2, 3], [4, 5, 6]])\n",
        "\n",
        "# Set all the elements in the second row to 7\n",
        "X[1, :] = 7\n",
        "\n",
        "# Print the matrix\n",
        "print(X)\n"
      ],
      "metadata": {
        "colab": {
          "base_uri": "https://localhost:8080/"
        },
        "id": "D_zhbqu49T9e",
        "outputId": "ebbb4233-2bee-43d7-c9cd-9337556a9900"
      },
      "execution_count": null,
      "outputs": [
        {
          "output_type": "stream",
          "name": "stdout",
          "text": [
            "tensor([[1, 2, 3],\n",
            "        [7, 7, 7]])\n"
          ]
        }
      ]
    },
    {
      "cell_type": "code",
      "source": [
        "R = torch.arange(50,dtype=torch.float).reshape(5,10)\n",
        "R"
      ],
      "metadata": {
        "colab": {
          "base_uri": "https://localhost:8080/"
        },
        "id": "J4prEbUG9gGF",
        "outputId": "62e0a409-b1d9-4efa-9eeb-15a9c891a02e"
      },
      "execution_count": null,
      "outputs": [
        {
          "output_type": "execute_result",
          "data": {
            "text/plain": [
              "tensor([[ 0.,  1.,  2.,  3.,  4.,  5.,  6.,  7.,  8.,  9.],\n",
              "        [10., 11., 12., 13., 14., 15., 16., 17., 18., 19.],\n",
              "        [20., 21., 22., 23., 24., 25., 26., 27., 28., 29.],\n",
              "        [30., 31., 32., 33., 34., 35., 36., 37., 38., 39.],\n",
              "        [40., 41., 42., 43., 44., 45., 46., 47., 48., 49.]])"
            ]
          },
          "metadata": {},
          "execution_count": 25
        }
      ]
    },
    {
      "cell_type": "code",
      "source": [
        "R[0,:] = 111\n",
        "R[2,:] = 33\n",
        "R"
      ],
      "metadata": {
        "colab": {
          "base_uri": "https://localhost:8080/"
        },
        "id": "Hj4XlBGM9e8I",
        "outputId": "039a44e9-0e01-4150-d6d2-8f5d8cdc7a8e"
      },
      "execution_count": null,
      "outputs": [
        {
          "output_type": "execute_result",
          "data": {
            "text/plain": [
              "tensor([[111., 111., 111., 111., 111., 111., 111., 111., 111., 111.],\n",
              "        [ 10.,  11.,  12.,  13.,  14.,  15.,  16.,  17.,  18.,  19.],\n",
              "        [ 33.,  33.,  33.,  33.,  33.,  33.,  33.,  33.,  33.,  33.],\n",
              "        [ 30.,  31.,  32.,  33.,  34.,  35.,  36.,  37.,  38.,  39.],\n",
              "        [ 40.,  41.,  42.,  43.,  44.,  45.,  46.,  47.,  48.,  49.]])"
            ]
          },
          "metadata": {},
          "execution_count": 26
        }
      ]
    },
    {
      "cell_type": "markdown",
      "source": [
        "## 2.1.3 Operations"
      ],
      "metadata": {
        "id": "fD8jbyrI-Tgi"
      }
    },
    {
      "cell_type": "markdown",
      "source": [
        "ใช่ครับ ตอนนี้ที่เรารู้วิธีสร้างเทนเซอร์และวิธีอ่านและเขียนองค์ประกอบของเทนเซอร์แล้ว เราสามารถเริ่มจัดการเทนเซอร์ด้วยการดำเนินการทางคณิตศาสตร์ต่างๆ ได้แล้ว การดำเนินการที่เป็นประโยชน์ที่สุดประการหนึ่งคือการดำเนินการแบบองค์ประกอบต่อองค์ประกอบ (elementwise operations) การดำเนินการเหล่านี้ใช้การดำเนินการสเกลาร์มาตรฐานกับแต่ละองค์ประกอบของเทนเซอร์ สำหรับฟังก์ชันที่ใช้เทนเซอร์สองตัวเป็นอินพุต การดำเนินการแบบองค์ประกอบต่อองค์ประกอบจะใช้ตัวดำเนินการไบนารีมาตรฐานกับแต่ละคู่ขององค์ประกอบที่สอดคล้องกัน\n",
        "\n",
        "เราสามารถสร้างฟังก์ชันแบบองค์ประกอบต่อองค์ประกอบจากฟังก์ชันใดก็ได้ที่แมปจากสเกลาร์เป็นสเกลาร์\n",
        "\n",
        "ในสัญกรณ์ทางคณิตศาสตร์ เราใช้เครื่องหมาย 𝑓 : R → R เพื่อแสดงตัวดำเนินการสเกลาร์แบบยูนารี (รับอินพุตหนึ่งตัว) ซึ่งหมายความว่าฟังก์ชันนี้แมปจากจำนวนจริงใด ๆ ไปยังจำนวนจริงอื่น ๆ ตัวดำเนินการส่วนใหญ่ รวมถึงตัวดำเนินการแบบยูนารีเช่น 𝑒\n",
        "𝑥\n",
        "สามารถใช้แบบองค์ประกอบต่อองค์ประกอบได้\n",
        "\n",
        "ตัวอย่างการดำเนินการแบบองค์ประกอบต่อองค์ประกอบ ได้แก่:\n",
        "\n",
        "* การบวก (+): C[i, j] = A[i, j] + B[i, j]\n",
        "* การลบ (-): C[i, j] = A[i, j] - B[i, j]\n",
        "* การคูณ (*): C[i, j] = A[i, j] * B[i, j]\n",
        "* การหาร (/): C[i, j] = A[i, j] / B[i, j]\n",
        "* การยกกำลัง (^): C[i, j] = A[i, j] ^ B[i, j]\n",
        "* ฟังก์ชันตรีโกณมิติ: C[i, j] = sin(A[i, j])\n",
        "* ฟังก์ชันการกระจายปกติแบบสะสม: C[i, j] = torch.distributions.Normal(0, 1).cdf(A[i, j])\n",
        "\n",
        "การดำเนินการแบบองค์ประกอบต่อองค์ประกอบเป็นเทคนิคที่ทรงพลังในการจัดการข้อมูลใน PyTorch เราสามารถใช้พวกมันเพื่อประยุกต์การดำเนินการทางคณิตศาสตร์กับข้อมูลของเราได้อย่างมีประสิทธิภาพ\n",
        "\n",
        "หวังว่าคำตอบนี้จะเป็นประโยชน์นะครับ"
      ],
      "metadata": {
        "id": "w8qrBX5y-g_v"
      }
    },
    {
      "cell_type": "code",
      "source": [
        "import torch\n",
        "\n",
        "# Create two tensors\n",
        "X = torch.tensor([1, 2, 3])\n",
        "Y = torch.tensor([4, 5, 6])\n",
        "\n",
        "# Apply the elementwise addition operation\n",
        "Z = X + Y\n",
        "\n",
        "# Print the result\n",
        "print(Z)\n"
      ],
      "metadata": {
        "colab": {
          "base_uri": "https://localhost:8080/"
        },
        "id": "YlS7T6sh-FiY",
        "outputId": "35176244-d038-4347-ed08-5eb0b6d69387"
      },
      "execution_count": null,
      "outputs": [
        {
          "output_type": "stream",
          "name": "stdout",
          "text": [
            "tensor([5, 7, 9])\n"
          ]
        }
      ]
    },
    {
      "cell_type": "code",
      "source": [
        "X = torch.arange(10,dtype = torch.float).reshape(2,5)\n",
        "torch.exp(X)\n"
      ],
      "metadata": {
        "colab": {
          "base_uri": "https://localhost:8080/"
        },
        "id": "ZDaqm-sX-l3X",
        "outputId": "25f97f46-e1f8-4c5b-ac6c-145dc0071e6d"
      },
      "execution_count": null,
      "outputs": [
        {
          "output_type": "execute_result",
          "data": {
            "text/plain": [
              "tensor([[1.0000e+00, 2.7183e+00, 7.3891e+00, 2.0086e+01, 5.4598e+01],\n",
              "        [1.4841e+02, 4.0343e+02, 1.0966e+03, 2.9810e+03, 8.1031e+03]])"
            ]
          },
          "metadata": {},
          "execution_count": 28
        }
      ]
    },
    {
      "cell_type": "markdown",
      "source": [
        "ใช่ครับ ในทำนองเดียวกัน เราแสดงตัวดำเนินการสเกลาร์แบบไบนารี ซึ่งแมปคู่ของจำนวนจริงไปเป็นจำนวนจริง (ตัวเดียว) ผ่านเครื่องหมาย 𝑓 : R, R → R ในกรณีที่เวกเตอร์ u และ v สองตัวมีรูปร่างเดียวกัน และตัวดำเนินการแบบไบนารี 𝑓 เราสามารถสร้างเวกเตอร์ c = 𝐹(u, v) ได้โดยการตั้งค่า 𝑐𝑖 ← 𝑓 (𝑢𝑖\n",
        ", 𝑣𝑖) สำหรับทุก 𝑖 โดยที่ 𝑐𝑖\n",
        ", 𝑢𝑖\n",
        "และ 𝑣𝑖 เป็นองค์ประกอบที่ 𝑖 ของเวกเตอร์ c, u และ v\n",
        "\n",
        "ที่นี่ เราสร้างเวกเตอร์ที่ได้ค่าของ 𝐹 : R\n",
        "𝑑\n",
        ", R\n",
        "𝑑 → R\n",
        "𝑑 โดยการยกฟังก์ชันสเกลาร์ให้เป็นการดำเนินการแบบองค์ประกอบต่อองค์ประกอบของเวกเตอร์ ตัวดำเนินการเลขคณิตมาตรฐานทั่วไปสำหรับการบวก (+), การลบ (-), การคูณ (*), การหาร (/) และการยกกำลัง (**) มีการยกให้เป็นการดำเนินการแบบองค์ประกอบต่อองค์ประกอบของเทนเซอร์ที่มีรูปร่างเหมือนกันทุกรูปร่าง\n",
        "\n",
        "**ตัวอย่าง**\n",
        "\n",
        "```python\n",
        "import torch\n",
        "\n",
        "# Create two vectors\n",
        "u = torch.tensor([1, 2, 3])\n",
        "v = torch.tensor([4, 5, 6])\n",
        "\n",
        "# Apply the elementwise addition operation\n",
        "c = u + v\n",
        "\n",
        "# Print the result\n",
        "print(c)\n",
        "```\n",
        "\n",
        "Output:\n",
        "\n",
        "```\n",
        "tensor([5, 7, 9])\n",
        "```\n",
        "\n",
        "ในตัวอย่างนี้ เราใช้ตัวดำเนินการบวกแบบองค์ประกอบต่อองค์ประกอบกับสองเวกเตอร์เพื่อสร้างเวกเตอร์ใหม่ที่มีองค์ประกอบที่สอดคล้องกันของเวกเตอร์ u และ v เพิ่มเข้าด้วยกัน\n",
        "\n",
        "เราสามารถใช้การดำเนินการแบบองค์ประกอบต่อองค์ประกอบกับฟังก์ชันที่ซับซ้อนกว่าได้เช่นกัน ตัวอย่างเช่น โค้ดต่อไปนี้จะใช้ฟังก์ชันดอทผลิตกับแต่ละคู่ขององค์ประกอบที่สอดคล้องกันของสองเทนเซอร์ X และ Y:\n",
        "\n",
        "```python\n",
        "import torch\n",
        "\n",
        "# Create two tensors\n",
        "X = torch.tensor([1, 2, 3])\n",
        "Y = torch.tensor([4, 5, 6])\n",
        "\n",
        "# Apply the dot product function elementwise\n",
        "c = torch.dot(X, Y)\n",
        "\n",
        "# Print the result\n",
        "print(c)\n",
        "```\n",
        "\n",
        "Output:\n",
        "\n",
        "```\n",
        "tensor(32)\n",
        "```\n",
        "\n",
        "การดำเนินการแบบองค์ประกอบต่อองค์ประกอบเป็นเครื่องมือที่ทรงพลังสำหรับการจัดการข้อมูลใน PyTorch เราสามารถใช้พวกมันเพื่อดำเนินการทางคณิตศาสตร์ที่หลากหลายกับเทนเซอร์ของเรา\n",
        "\n",
        "**คำศัพท์:**\n",
        "\n",
        "* Binary scalar operator: ตัวดำเนินการสเกลาร์แบบไบนารี\n",
        "* Identically-shaped tensors: เทนเซอร์ที่มีรูปร่างเหมือนกันทุกรูปร่าง\n",
        "* Vector-valued: ได้ค่าเป็นเวกเตอร์\n",
        "* Lift: ยก\n",
        "\n",
        "หวังว่าคำตอบนี้จะเป็นประโยชน์นะครับ"
      ],
      "metadata": {
        "id": "chRWvrsg_DSM"
      }
    },
    {
      "cell_type": "code",
      "source": [
        "x = torch.tensor([1.0, 2, 4, 8])\n",
        "y = torch.tensor([2, 2, 2, 2])\n",
        "x + y, x - y, x * y, x / y, x ** y"
      ],
      "metadata": {
        "colab": {
          "base_uri": "https://localhost:8080/"
        },
        "id": "0m8pabds-3uA",
        "outputId": "c6e51978-a3d0-422d-c758-6604ef94a8e5"
      },
      "execution_count": null,
      "outputs": [
        {
          "output_type": "execute_result",
          "data": {
            "text/plain": [
              "(tensor([ 3.,  4.,  6., 10.]),\n",
              " tensor([-1.,  0.,  2.,  6.]),\n",
              " tensor([ 2.,  4.,  8., 16.]),\n",
              " tensor([0.5000, 1.0000, 2.0000, 4.0000]),\n",
              " tensor([ 1.,  4., 16., 64.]))"
            ]
          },
          "metadata": {},
          "execution_count": 29
        }
      ]
    },
    {
      "cell_type": "markdown",
      "source": [
        "ใช่ครับ นอกเหนือจากการคำนวณแบบองค์ประกอบต่อองค์ประกอบแล้ว เรายังสามารถดำเนินการพีชคณิตเชิงเส้น เช่น ผลคูณจุดและการคูณเมทริกซ์ เราจะอธิบายเพิ่มเติมในหัวข้อ 2.3\n",
        "\n",
        "เรายังสามารถรวมเทนเซอร์หลาย ๆ ตัวเข้าด้วยกัน โดยวางซ้อนกันแบบต่อเนื่องเพื่อสร้างเทนเซอร์ขนาดใหญ่กว่า เพียงแค่เราต้องระบุรายการของเทนเซอร์และบอกระบบตามแกนใดที่จะเชื่อมต่อ ตัวอย่างด้านล่างแสดงสิ่งที่เกิดขึ้นเมื่อเรารวมเมทริกซ์สองตัวเข้าด้วยกันตามแถว (แกน 0) แทนที่จะเป็นคอลัมน์ (แกน 1) เราจะเห็นว่าความยาวแกน 0 ของเอาต์พุตแรก (6) เป็นผลรวมของความยาวแกน 0 ของเทนเซอร์อินพุตทั้งสอง (3 + 3); ในขณะที่ความยาวแกน 1 ของเอาต์พุตที่สอง (8) เป็นผลรวมของความยาวแกน 1 ของเทนเซอร์อินพุตทั้งสอง (4 + 4)\n",
        "\n",
        "**ตัวอย่าง**\n",
        "\n",
        "```python\n",
        "import torch\n",
        "\n",
        "# Create two matrices\n",
        "X = torch.tensor([[1, 2, 3, 4], [5, 6, 7, 8]])\n",
        "Y = torch.tensor([[9, 10, 11, 12], [13, 14, 15, 16]])\n",
        "\n",
        "# Concatenate the matrices along rows\n",
        "Z = torch.cat((X, Y), dim=0)\n",
        "\n",
        "# Print the result\n",
        "print(Z)\n",
        "```\n",
        "\n",
        "Output:\n",
        "\n",
        "```\n",
        "tensor([[1, 2, 3, 4],\n",
        "        [5, 6, 7, 8],\n",
        "        [9, 10, 11, 12],\n",
        "        [13, 14, 15, 16]])\n",
        "```\n",
        "\n",
        "**คำศัพท์:**\n",
        "\n",
        "* Concatenate: รวมเข้าด้วยกัน\n",
        "* Stack: วางซ้อน\n",
        "* Axis: แกน\n",
        "\n",
        "หวังว่าคำตอบนี้จะเป็นประโยชน์นะครับ"
      ],
      "metadata": {
        "id": "AcBmjO_Y_oLY"
      }
    },
    {
      "cell_type": "code",
      "source": [
        "import torch\n",
        "X = torch.arange(12, dtype=torch.float32).reshape((3,4))\n",
        "Y = torch.tensor([[2.0, 1, 4, 3], [1, 2, 3, 4], [4, 3, 2, 1]])\n",
        "Z = torch.cat((X, Y), dim=0), torch.cat((X, Y), dim=1)\n",
        "Z"
      ],
      "metadata": {
        "colab": {
          "base_uri": "https://localhost:8080/"
        },
        "id": "fzQ3pryQ_nZi",
        "outputId": "1ae3e3a0-1a2b-408d-fadd-4250125e53ae"
      },
      "execution_count": null,
      "outputs": [
        {
          "output_type": "execute_result",
          "data": {
            "text/plain": [
              "(tensor([[ 0.,  1.,  2.,  3.],\n",
              "         [ 4.,  5.,  6.,  7.],\n",
              "         [ 8.,  9., 10., 11.],\n",
              "         [ 2.,  1.,  4.,  3.],\n",
              "         [ 1.,  2.,  3.,  4.],\n",
              "         [ 4.,  3.,  2.,  1.]]),\n",
              " tensor([[ 0.,  1.,  2.,  3.,  2.,  1.,  4.,  3.],\n",
              "         [ 4.,  5.,  6.,  7.,  1.,  2.,  3.,  4.],\n",
              "         [ 8.,  9., 10., 11.,  4.,  3.,  2.,  1.]]))"
            ]
          },
          "metadata": {},
          "execution_count": 30
        }
      ]
    },
    {
      "cell_type": "code",
      "source": [
        "type(Z)"
      ],
      "metadata": {
        "id": "zv25hQFg_or3",
        "colab": {
          "base_uri": "https://localhost:8080/"
        },
        "outputId": "99153279-73fb-40f9-d346-adcaeb74b4e1"
      },
      "execution_count": null,
      "outputs": [
        {
          "output_type": "execute_result",
          "data": {
            "text/plain": [
              "tuple"
            ]
          },
          "metadata": {},
          "execution_count": 31
        }
      ]
    },
    {
      "cell_type": "code",
      "source": [
        "X == Y"
      ],
      "metadata": {
        "colab": {
          "base_uri": "https://localhost:8080/"
        },
        "id": "5q8bExboIhA4",
        "outputId": "0554509e-cd48-4ff9-bdc2-1031b1c2f13b"
      },
      "execution_count": null,
      "outputs": [
        {
          "output_type": "execute_result",
          "data": {
            "text/plain": [
              "tensor([[False,  True, False,  True],\n",
              "        [False, False, False, False],\n",
              "        [False, False, False, False]])"
            ]
          },
          "metadata": {},
          "execution_count": 32
        }
      ]
    },
    {
      "cell_type": "code",
      "source": [
        "X.sum()"
      ],
      "metadata": {
        "colab": {
          "base_uri": "https://localhost:8080/"
        },
        "id": "AmXK4n5XIuV6",
        "outputId": "9cfd0e76-5561-4de3-dfcd-a6c31f06074a"
      },
      "execution_count": null,
      "outputs": [
        {
          "output_type": "execute_result",
          "data": {
            "text/plain": [
              "tensor(66.)"
            ]
          },
          "metadata": {},
          "execution_count": 33
        }
      ]
    },
    {
      "cell_type": "code",
      "source": [],
      "metadata": {
        "id": "BY15NdZ4I1Hz"
      },
      "execution_count": null,
      "outputs": []
    },
    {
      "cell_type": "markdown",
      "source": [
        "## 2.1.4 Broadcasting"
      ],
      "metadata": {
        "id": "nDIquhNiI3RK"
      }
    },
    {
      "cell_type": "markdown",
      "source": [
        "ตอนนี้คุณทราบวิธีการดำเนินการกับตัวดำเนินการไบนารีแบบองค์ประกอบต่อองค์ประกอบบนเทนเซอร์สองตัวที่มีรูปร่างเดียวกันแล้ว ภายใต้เงื่อนไขบางประการ แม้ว่ารูปร่างจะแตกต่างกัน เราก็ยังสามารถดำเนินการกับตัวดำเนินการไบนารีแบบองค์ประกอบต่อองค์ประกอบได้โดยใช้กลไกการกระจายเสียง การกระจายเสียงทำงานตามขั้นตอนสองขั้นตอนต่อไปนี้: (1) ขยายอาร์เรย์หนึ่งหรือทั้งสองอาร์เรย์โดยการคัดลอกองค์ประกอบตามแกนที่มีความยาว 1 เพื่อให้หลังจากการแปลงนี้ เทนเซอร์ทั้งสองมีรูปร่างเดียวกัน; (2) ดำเนินการกับตัวดำเนินการแบบองค์ประกอบต่อองค์ประกอบบนอาร์เรย์ที่ได้"
      ],
      "metadata": {
        "id": "hQe1KqzgJIrA"
      }
    },
    {
      "cell_type": "code",
      "source": [
        "a = torch.arange(3).reshape((3, 1))\n",
        "b = torch.arange(2).reshape((1, 2))\n",
        "a, b"
      ],
      "metadata": {
        "colab": {
          "base_uri": "https://localhost:8080/"
        },
        "id": "LGTi7NuSJmdA",
        "outputId": "0ce96e8b-0915-4d1e-bbc3-6437e9431a00"
      },
      "execution_count": null,
      "outputs": [
        {
          "output_type": "execute_result",
          "data": {
            "text/plain": [
              "(tensor([[0],\n",
              "         [1],\n",
              "         [2]]),\n",
              " tensor([[0, 1]]))"
            ]
          },
          "metadata": {},
          "execution_count": 34
        }
      ]
    },
    {
      "cell_type": "code",
      "source": [
        "a+b"
      ],
      "metadata": {
        "colab": {
          "base_uri": "https://localhost:8080/"
        },
        "id": "ft-LTeZWJsVe",
        "outputId": "508a3669-017a-4e63-bcd2-479d134a2412"
      },
      "execution_count": null,
      "outputs": [
        {
          "output_type": "execute_result",
          "data": {
            "text/plain": [
              "tensor([[0, 1],\n",
              "        [1, 2],\n",
              "        [2, 3]])"
            ]
          },
          "metadata": {},
          "execution_count": 35
        }
      ]
    },
    {
      "cell_type": "code",
      "source": [
        "import numpy as np\n",
        "\n",
        "a = np.array([1, 2, 3])\n",
        "b = np.array([5])\n",
        "\n",
        "# กระจายเสียง array b เพื่อให้มีขนาดเดียวกับ array a\n",
        "b_broadcast = np.broadcast_to(b, a.shape)\n",
        "\n",
        "# บวก array a และ b_broadcast\n",
        "c = a + b_broadcast\n",
        "\n",
        "print(c)\n",
        "print(b_broadcast)"
      ],
      "metadata": {
        "colab": {
          "base_uri": "https://localhost:8080/"
        },
        "id": "r8fiqa0zI3l7",
        "outputId": "0469e7d2-0981-469e-9da6-1cd6ca26fd00"
      },
      "execution_count": null,
      "outputs": [
        {
          "output_type": "stream",
          "name": "stdout",
          "text": [
            "[6 7 8]\n",
            "[5 5 5]\n"
          ]
        }
      ]
    },
    {
      "cell_type": "code",
      "source": [
        "a+b"
      ],
      "metadata": {
        "colab": {
          "base_uri": "https://localhost:8080/"
        },
        "id": "DlLgb9WRJveW",
        "outputId": "1c3c5ab5-f66d-4cd1-f677-db13e3297858"
      },
      "execution_count": null,
      "outputs": [
        {
          "output_type": "execute_result",
          "data": {
            "text/plain": [
              "array([6, 7, 8])"
            ]
          },
          "metadata": {},
          "execution_count": 37
        }
      ]
    },
    {
      "cell_type": "markdown",
      "source": [
        "## 2.1.5 Saving Memory"
      ],
      "metadata": {
        "id": "u_VMBl-BJ3bi"
      }
    },
    {
      "cell_type": "markdown",
      "source": [
        "การรันการดำเนินการอาจทำให้มีการจัดสรรหน่วยความจำใหม่เพื่อโฮสต์ผลลัพธ์ ตัวอย่างเช่น ถ้าเราเขียน Y = X + Y เราจะยกเลิกการอ้างอิงเทนเซอร์ที่ Y เคยชี้ไปที่และชี้ Y ไปที่หน่วยความจำที่จัดสรรใหม่ เราสามารถแสดงปัญหานี้ได้ด้วยฟังก์ชัน id() ของ Python ซึ่งให้ที่อยู่ที่แน่นอนของอ็อบเจ็กต์ที่อ้างอิงในหน่วยความจำ โปรดทราบว่าหลังจากเราเรียกใช้ Y = Y + X, id(Y) จะชี้ไปที่ตำแหน่งที่แตกต่างกัน นั่นเป็นเพราะ Python ประเมิน Y + X ก่อน จัดสรรหน่วยความจำใหม่สำหรับผลลัพธ์ แล้วจึงชี้ Y ไปที่ตำแหน่งใหม่นี้ในหน่วยความจำ\n",
        "\n",
        "ตัวอย่างต่อไปนี้แสดงวิธีใช้ฟังก์ชัน id() เพื่อแสดงปัญหาการจัดสรรหน่วยความจำ:"
      ],
      "metadata": {
        "id": "F5R_NL_oKJVx"
      }
    },
    {
      "cell_type": "code",
      "source": [
        "import numpy as np\n",
        "\n",
        "# สร้างเทนเซอร์\n",
        "X = np.array([1, 2, 3])\n",
        "Y = np.array([4, 5, 6])\n",
        "\n",
        "# พิมพ์ id ของ Y\n",
        "print(id(Y))\n",
        "\n",
        "# บวก X และ Y\n",
        "Y = Y + X\n",
        "\n",
        "# พิมพ์ id ของ Y อีกครั้ง\n",
        "print(id(Y))\n"
      ],
      "metadata": {
        "colab": {
          "base_uri": "https://localhost:8080/"
        },
        "id": "wK2PklCVJRFm",
        "outputId": "8edc1c1b-d77f-4174-c473-8d6b1dffa90b"
      },
      "execution_count": null,
      "outputs": [
        {
          "output_type": "stream",
          "name": "stdout",
          "text": [
            "132417111312976\n",
            "132417111313072\n"
          ]
        }
      ]
    },
    {
      "cell_type": "markdown",
      "source": [
        "โชคดีที่การทำ in-place operations นั้นง่ายมาก เราสามารถกำหนดผลลัพธ์ของการดำเนินการให้กับอาร์เรย์ Y ที่จัดสรรไว้ก่อนหน้านี้โดยใช้ slice notation: Y[:] = <expression>\n",
        "\n",
        "เพื่ออธิบายแนวคิดนี้ เราได้เขียนทับค่าของเทนเซอร์ Z หลังจากทำการ 초기화โดยใช้ zeros_like เพื่อให้มีรูปร่างเดียวกันกับ Y\n",
        "\n",
        "ตัวอย่างต่อไปนี้แสดงวิธีใช้ slice notation เพื่อทำ in-place operations:"
      ],
      "metadata": {
        "id": "Hgu8_ZdBLk3v"
      }
    },
    {
      "cell_type": "code",
      "source": [
        "import numpy as np\n",
        "\n",
        "# สร้างเทนเซอร์\n",
        "X = np.array([1, 2, 3])\n",
        "Y = np.array([4, 5, 6])\n",
        "\n",
        "# สร้างเทนเซอร์ Z\n",
        "Z = np.zeros_like(Y)\n",
        "\n",
        "# บวก X และ Y แบบ in-place\n",
        "Y[:] = X + Y\n",
        "\n",
        "# พิมพ์ค่าของ Y\n",
        "print(Y)\n",
        "#ตามที่คุณเห็น ค่าของ Y ได้ถูกเปลี่ยนเป็น [5, 7, 9] แบบ in-place โดยไม่จัดสรรหน่วยความจำใหม่\n",
        "\n"
      ],
      "metadata": {
        "colab": {
          "base_uri": "https://localhost:8080/"
        },
        "id": "4MmrQTRHLnDp",
        "outputId": "403f3ad6-bc12-4ef8-a910-61a53d85572a"
      },
      "execution_count": null,
      "outputs": [
        {
          "output_type": "stream",
          "name": "stdout",
          "text": [
            "[5 7 9]\n"
          ]
        }
      ]
    },
    {
      "cell_type": "markdown",
      "source": [
        "ตามที่คุณเห็น id ของ Y เปลี่ยนไปหลังจากที่เราเรียกใช้ Y = Y + X นั่นเป็นเพราะ Python ได้จัดสรรหน่วยความจำใหม่สำหรับผลลัพธ์\n",
        "\n",
        "ปัญหานี้สามารถแก้ไขได้โดยใช้เทคนิคที่เรียกว่า \"in-place operations\" In-place operations ทำการคำนวณบนเทนเซอร์เดียวกันโดยหลีกเลี่ยงการจัดสรรหน่วยความจำใหม่ ตัวอย่างเช่น ใน PyTorch เราสามารถใช้ฟังก์ชัน add_() เพื่อบวก X และ Y แบบ in-place:"
      ],
      "metadata": {
        "id": "_Y0gaBhiKbo4"
      }
    },
    {
      "cell_type": "code",
      "source": [
        "import torch\n",
        "\n",
        "# สร้างเทนเซอร์\n",
        "X = torch.tensor([1, 2, 3])\n",
        "Y = torch.tensor([4, 5, 6])\n",
        "print(id(Y))\n",
        "# บวก X และ Y แบบ in-place\n",
        "Y.add_(X)\n",
        "\n",
        "# พิมพ์ id ของ Y\n",
        "print(id(Y))\n",
        "print(Y)"
      ],
      "metadata": {
        "colab": {
          "base_uri": "https://localhost:8080/"
        },
        "id": "UfHvbxW-KcAi",
        "outputId": "e49423f7-d14a-493f-d57f-0ae50c4eb9ac"
      },
      "execution_count": null,
      "outputs": [
        {
          "output_type": "stream",
          "name": "stdout",
          "text": [
            "132417111365472\n",
            "132417111365472\n",
            "tensor([5, 7, 9])\n"
          ]
        }
      ]
    },
    {
      "cell_type": "code",
      "source": [
        "before = id(Y)\n",
        "Y = Y + X\n",
        "id(Y) == before\n"
      ],
      "metadata": {
        "colab": {
          "base_uri": "https://localhost:8080/"
        },
        "id": "LaHa2znELD0a",
        "outputId": "aa7db49f-fdd0-453f-d35c-0a295f81ee4a"
      },
      "execution_count": null,
      "outputs": [
        {
          "output_type": "execute_result",
          "data": {
            "text/plain": [
              "False"
            ]
          },
          "metadata": {},
          "execution_count": 41
        }
      ]
    },
    {
      "cell_type": "markdown",
      "source": [
        "ตามที่คุณเห็น id ของ Y ไม่ได้เปลี่ยนไปหลังจากที่เราเรียกใช้ Y.add_(X) นั่นเป็นเพราะ PyTorch ได้ทำการคำนวณบนเทนเซอร์ Y เดิมโดยไม่จัดสรรหน่วยความจำใหม่\n",
        "\n",
        "การใช้ in-place operations สามารถช่วยลดการใช้หน่วยความจำและปรับปรุงประสิทธิภาพของโปรแกรมของคุณ อย่างไรก็ตาม สิ่งสำคัญคือต้องใช้ in-place operations อย่างระมัดระวัง เพราะอาจนำไปสู่ผลลัพธ์ที่ไม่คาดคิดได้"
      ],
      "metadata": {
        "id": "LH9MQdrpKu_3"
      }
    },
    {
      "cell_type": "markdown",
      "source": [
        "\n",
        "\n",
        "\n",
        "ถ้าค่าของ X ไม่ได้ถูกนำมาใช้ซ้ำในคำนวณถัดไป เราก็สามารถใช้ X[:] = X + Y หรือ X += Y เพื่อลดค่าใช้จ่ายหน่วยความจำของการดำเนินการ\n",
        "\n",
        "X[:] = X + Y เป็นการกำหนดผลลัพธ์ของ X + Y ให้กับเทนเซอร์ X แบบ in-place ในขณะที่ X += Y เป็นการกำหนดผลลัพธ์ของ X + Y ให้กับเทนเซอร์ X แบบ in-place เช่นกัน แต่ X += Y เป็นคำสั่งที่อ่านง่ายกว่า"
      ],
      "metadata": {
        "id": "VVK8RwlsML9p"
      }
    },
    {
      "cell_type": "code",
      "source": [
        "#ตัวอย่างต่อไปนี้แสดงวิธีใช้ X[:] = X + Y และ X += Y เพื่อทำ in-place\n",
        "import numpy as np\n",
        "\n",
        "# สร้างเทนเซอร์\n",
        "X = np.array([1, 2, 3])\n",
        "Y = np.array([4, 5, 6])\n",
        "\n",
        "before = id(X)\n",
        "# บวก X และ Y แบบ in-place โดยใช้ X[:] = X + Y\n",
        "X[:] = X + Y\n",
        "print(id(X) == before)\n",
        "# พิมพ์ค่าของ X\n",
        "print(X)\n",
        "id(X) == before\n",
        "# บวก X และ Y แบบ in-place โดยใช้ X += Y\n",
        "X += Y\n",
        "print(id(X) == before)\n",
        "# พิมพ์ค่าของ X อีกครั้ง\n",
        "print(X)\n"
      ],
      "metadata": {
        "colab": {
          "base_uri": "https://localhost:8080/"
        },
        "id": "DvEr3SQcKpHR",
        "outputId": "895bdecb-8150-417c-872e-8ceddb74fe86"
      },
      "execution_count": null,
      "outputs": [
        {
          "output_type": "stream",
          "name": "stdout",
          "text": [
            "True\n",
            "[5 7 9]\n",
            "True\n",
            "[ 9 12 15]\n"
          ]
        }
      ]
    },
    {
      "cell_type": "markdown",
      "source": [
        "## 2.1.6 Conversion to Other Python Objects"
      ],
      "metadata": {
        "id": "a0puz7dxM7tf"
      }
    },
    {
      "cell_type": "markdown",
      "source": [
        "\n",
        "การแปลของข้อความที่คุณให้มานั้นเป็นดังนี้:\n",
        "\n",
        "การแปลงเป็น NumPy tensor (ndarray) หรือ vice versa นั้นง่ายมาก เทนเซอร์ PyTorch และอาร์เรย์ NumPy จะแชร์หน่วยความจำพื้นฐานของตนเอง และการเปลี่ยนแปลงหนึ่งผ่านการดำเนินการ in-place จะเปลี่ยนแปลงอีกอันหนึ่งด้วยเช่นกัน\n",
        "\n",
        "ตัวอย่างต่อไปนี้แสดงวิธีแปลงเทนเซอร์ PyTorch เป็นอาร์เรย์ NumPy และ vice versa:"
      ],
      "metadata": {
        "id": "3XF9XEByM9PT"
      }
    },
    {
      "cell_type": "code",
      "source": [
        "import torch\n",
        "import numpy as np\n",
        "\n",
        "# สร้างเทนเซอร์ PyTorch\n",
        "x = torch.tensor([1, 2, 3])\n",
        "\n",
        "# แปลงเทนเซอร์ PyTorch เป็นอาร์เรย์ NumPy\n",
        "y = x.numpy()\n",
        "\n",
        "# พิมพ์ค่าของ y\n",
        "print(y)\n",
        "\n",
        "# แปลงอาร์เรย์ NumPy เป็นเทนเซอร์ PyTorch\n",
        "z = torch.from_numpy(y)\n",
        "\n",
        "# พิมพ์ค่าของ z\n",
        "print(z)\n",
        "type(x),type(y),type(z)"
      ],
      "metadata": {
        "colab": {
          "base_uri": "https://localhost:8080/"
        },
        "id": "c3L45Ov6M8FB",
        "outputId": "13831ffb-2946-49a6-8dd1-6d392d81db35"
      },
      "execution_count": null,
      "outputs": [
        {
          "output_type": "stream",
          "name": "stdout",
          "text": [
            "[1 2 3]\n",
            "tensor([1, 2, 3])\n"
          ]
        },
        {
          "output_type": "execute_result",
          "data": {
            "text/plain": [
              "(torch.Tensor, numpy.ndarray, torch.Tensor)"
            ]
          },
          "metadata": {},
          "execution_count": 43
        }
      ]
    },
    {
      "cell_type": "code",
      "source": [
        "a = torch.tensor([3.5])\n",
        "a, a.item(), float(a), int(a)\n"
      ],
      "metadata": {
        "colab": {
          "base_uri": "https://localhost:8080/"
        },
        "id": "INvsxV5LNp_8",
        "outputId": "0f41330b-d260-4e30-def6-dae46d67f7de"
      },
      "execution_count": null,
      "outputs": [
        {
          "output_type": "execute_result",
          "data": {
            "text/plain": [
              "(tensor([3.5000]), 3.5, 3.5, 3)"
            ]
          },
          "metadata": {},
          "execution_count": 44
        }
      ]
    },
    {
      "cell_type": "markdown",
      "source": [
        "## 2.1.8 Exercises"
      ],
      "metadata": {
        "id": "zpaIdz0wN540"
      }
    },
    {
      "cell_type": "markdown",
      "source": [
        "1. รันโค้ดในส่วนนี้ เปลี่ยนเงื่อนไข X == Y เป็น X < Y หรือ X > Y แล้วดูว่าคุณจะได้เทนเซอร์แบบใด"
      ],
      "metadata": {
        "id": "3DeQ9AOAOS6j"
      }
    },
    {
      "cell_type": "code",
      "source": [
        "import torch\n",
        "\n",
        "# สร้างเทนเซอร์ X และ Y\n",
        "X = torch.tensor([1, 2, 3])\n",
        "Y = torch.tensor([2, 3, 4])\n",
        "\n",
        "# สร้างเงื่อนไข X < Y หรือ X > Y\n",
        "condition = X < Y\n",
        "\n",
        "# พิมพ์ค่าของ condition\n",
        "print(f\"X < Y จะให้เทนเซอร์ต่อไปนี้:\\n{condition}\")\n"
      ],
      "metadata": {
        "colab": {
          "base_uri": "https://localhost:8080/"
        },
        "id": "rlrHEiyQN0TC",
        "outputId": "91c2b1be-0f9a-445e-cd0f-b898c2fcd5b3"
      },
      "execution_count": null,
      "outputs": [
        {
          "output_type": "stream",
          "name": "stdout",
          "text": [
            "X < Y จะให้เทนเซอร์ต่อไปนี้:\n",
            "tensor([True, True, True])\n"
          ]
        }
      ]
    },
    {
      "cell_type": "code",
      "source": [
        "import torch\n",
        "\n",
        "# สร้างเทนเซอร์ X และ Y\n",
        "X = torch.tensor([1, 2, 3])\n",
        "Y = torch.tensor([2, 3, 4])\n",
        "\n",
        "# สร้างเงื่อนไข X < Y หรือ X > Y\n",
        "condition = X > Y\n",
        "\n",
        "# พิมพ์ค่าของ condition\n",
        "print(f\" X > Y จะให้เทนเซอร์ต่อไปนี้:\\n{condition}\")\n"
      ],
      "metadata": {
        "colab": {
          "base_uri": "https://localhost:8080/"
        },
        "id": "doXbUMEHOdlI",
        "outputId": "9eacdae4-da22-486a-f4d1-31c8d6aa08dc"
      },
      "execution_count": null,
      "outputs": [
        {
          "output_type": "stream",
          "name": "stdout",
          "text": [
            " X > Y จะให้เทนเซอร์ต่อไปนี้:\n",
            "tensor([False, False, False])\n"
          ]
        }
      ]
    },
    {
      "cell_type": "markdown",
      "source": [
        "2. แทนที่เทนเซอร์ทั้งสองที่ดำเนินการแบบองค์ประกอบต่อองค์ประกอบในกลไกการกระจายเสียงด้วยรูปร่างอื่น เช่น เทนเซอร์สามมิติ ผลลัพธ์จะเหมือนกับที่คาดไว้หรือไม่"
      ],
      "metadata": {
        "id": "CoVucAwEPMbQ"
      }
    },
    {
      "cell_type": "code",
      "source": [
        "import torch\n",
        "\n",
        "# สร้างเทนเซอร์ X และ Y\n",
        "X = torch.tensor([[[1, 2, 3], [4, 5, 6]], [[7, 8, 9], [10, 11, 12]]])\n",
        "Y = torch.tensor([1, 2, 3])\n",
        "\n",
        "# กระจายเสียงเทนเซอร์ Y เพื่อให้มีรูปร่างเดียวกันกับเทนเซอร์ X\n",
        "Y_broadcast = Y.unsqueeze(0).unsqueeze(0).expand_as(X)\n",
        "\n",
        "# บวกเทนเซอร์ X และ Y_broadcast แบบองค์ประกอบต่อองค์ประกอบ\n",
        "Z = X + Y\n",
        "\n",
        "# พิมพ์ค่าของ Z\n",
        "print(Z)\n"
      ],
      "metadata": {
        "colab": {
          "base_uri": "https://localhost:8080/"
        },
        "id": "_tjuK0fTO3FA",
        "outputId": "fee5c1bf-d0c5-47c4-fff8-0624b65f49e3"
      },
      "execution_count": null,
      "outputs": [
        {
          "output_type": "stream",
          "name": "stdout",
          "text": [
            "tensor([[[ 2,  4,  6],\n",
            "         [ 5,  7,  9]],\n",
            "\n",
            "        [[ 8, 10, 12],\n",
            "         [11, 13, 15]]])\n"
          ]
        }
      ]
    },
    {
      "cell_type": "code",
      "source": [
        "import torch\n",
        "\n",
        "# สร้างเทนเซอร์ X และ Y\n",
        "X = torch.tensor([[[1, 2, 3], [4, 5, 6]], [[7, 8, 9], [10, 11, 12]]])\n",
        "Y = torch.tensor([1, 2, 3])\n",
        "\n",
        "# กระจายเสียงเทนเซอร์ Y เพื่อให้มีรูปร่างเดียวกันกับเทนเซอร์ X\n",
        "Y_broadcast = Y.unsqueeze(0).unsqueeze(0).expand_as(X)\n",
        "\n",
        "# บวกเทนเซอร์ X และ Y_broadcast แบบองค์ประกอบต่อองค์ประกอบ\n",
        "Z = X + Y_broadcast\n",
        "\n",
        "# พิมพ์ค่าของ Z\n",
        "print(Z)\n"
      ],
      "metadata": {
        "colab": {
          "base_uri": "https://localhost:8080/"
        },
        "id": "ADDt5sesPZH6",
        "outputId": "5a1392ad-b46c-4bc2-be84-3a0699423c76"
      },
      "execution_count": null,
      "outputs": [
        {
          "output_type": "stream",
          "name": "stdout",
          "text": [
            "tensor([[[ 2,  4,  6],\n",
            "         [ 5,  7,  9]],\n",
            "\n",
            "        [[ 8, 10, 12],\n",
            "         [11, 13, 15]]])\n"
          ]
        }
      ]
    },
    {
      "cell_type": "markdown",
      "source": [
        "ตามที่คุณเห็น เทนเซอร์ Z มีรูปร่างเดียวกันกับเทนเซอร์ X และค่าของแต่ละองค์ประกอบของ Z เป็นผลลัพธ์ของการบวกองค์ประกอบที่สอดคล้องกันของ X และ Y_broadcast\n",
        "\n",
        "กลไกการกระจายเสียงเป็นเครื่องมือที่ทรงพลังที่ช่วยให้เราสามารถดำเนินการกับเทนเซอร์ที่มีรูปร่างต่างๆ ได้อย่างง่ายดาย โดยไม่ต้องใช้ลูป"
      ],
      "metadata": {
        "id": "NPZCSRnJPlVF"
      }
    },
    {
      "cell_type": "code",
      "source": [],
      "metadata": {
        "id": "BaTakXnBPlv4"
      },
      "execution_count": null,
      "outputs": []
    },
    {
      "cell_type": "markdown",
      "source": [
        "# 2.2 Data Preprocessing"
      ],
      "metadata": {
        "id": "hknXQKaSPpTY"
      }
    },
    {
      "cell_type": "markdown",
      "source": [
        "การแปลของข้อความที่คุณให้มานั้นเป็นดังนี้:\n",
        "\n",
        "จนถึงตอนนี้ เราได้ทำงานกับข้อมูลสังเคราะห์ที่อยู่ในเทนเซอร์สำเร็จรูป อย่างไรก็ตาม ในการนำการเรียนรู้เชิงลึกไปใช้ในโลกแห่งความจริง เราต้องดึงข้อมูลที่สกปรกซึ่งเก็บอยู่ในรูปแบบต่างๆ และทำการประมวลผลก่อนล่วงหน้าเพื่อให้เหมาะสมกับความต้องการของเรา โชคดีที่ไลบรารี pandas สามารถช่วยยกของหนักๆ ให้เราได้ แม้ว่าส่วนนี้จะไม่ใช่การสอน pandas อย่างเหมาะสม แต่ก็จะให้บทเรียนเร่งรัดเกี่ยวกับฟังก์ชันการทำงานทั่วไปบางอย่าง\n",
        "\n",
        "ไลบรารี pandas เป็นไลบรารี Python ที่ใช้สำหรับการวิเคราะห์และการจัดการข้อมูล มันมีโครงสร้างข้อมูลที่มีประสิทธิภาพสำหรับจัดเก็บและประมวลผลข้อมูลขนาดใหญ่ นอกจากนี้ยังมีเครื่องมือสำหรับการทำความสะอาดข้อมูล การรวมกลุ่ม และการแปลงข้อมูล\n",
        "\n",
        "ฟังก์ชันการทำงานทั่วไปบางอย่างของ pandas ได้แก่:\n",
        "\n",
        "* การอ่านและเขียนข้อมูลจาก/ไปยังไฟล์ต่างๆ เช่น CSV, Excel และ JSON\n",
        "* การเลือกและกรองข้อมูล\n",
        "* การรวมข้อมูลจากหลายแหล่ง\n",
        "* การเติมเต็มค่าที่หายไป\n",
        "* การแปลงประเภทข้อมูล\n",
        "* การสร้างฟีเจอร์ใหม่\n",
        "\n",
        "ในส่วนนี้ เราจะกล่าวถึงฟังก์ชันการทำงานบางอย่างของ pandas ที่มีประโยชน์สำหรับการประมวลผลข้อมูลก่อนล่วงหน้าสำหรับการเรียนรู้เชิงลึก ตัวอย่างเช่น เราสามารถใช้ pandas เพื่อ:\n",
        "\n",
        "* อ่านข้อมูลจากไฟล์ CSV และแปลงเป็นเทนเซอร์\n",
        "* กรองข้อมูลที่ไม่สมบูรณ์หรือผิดปกติออก\n",
        "* แปลงประเภทข้อมูลของคอลัมน์ต่างๆ ให้เหมาะสมกับการเรียนรู้เชิงลึก\n",
        "* สร้างฟีเจอร์ใหม่จากข้อมูลที่มีอยู่\n",
        "\n",
        "ต่อไปนี้เป็นตัวอย่างของการใช้ pandas เพื่อประมวลผลข้อมูลก่อนล่วงหน้าสำหรับการเรียนรู้เชิงลึก:\n",
        "\n",
        "```python\n",
        "import pandas as pd\n",
        "\n",
        "# อ่านข้อมูลจากไฟล์ CSV\n",
        "df = pd.read_csv('data.csv')\n",
        "\n",
        "# กรองข้อมูลที่ไม่สมบูรณ์หรือผิดปกติออก\n",
        "df = df.dropna()\n",
        "df = df[df['price'] > 0]\n",
        "\n",
        "# แปลงประเภทข้อมูลของคอลัมน์ต่างๆ ให้เหมาะสมกับการเรียนรู้เชิงลึก\n",
        "df['price'] = pd.to_numeric(df['price'])\n",
        "df['category'] = pd.get_dummies(df['category'])\n",
        "\n",
        "# สร้างฟีเจอร์ใหม่จากข้อมูลที่มีอยู่\n",
        "df['feature_1'] = df['price'] * df['quantity']\n",
        "\n",
        "# แปลงข้อมูลเป็นเทนเซอร์\n",
        "X = df[['feature_1', 'category']].to_numpy()\n",
        "y = df['price'].to_numpy()\n",
        "```\n",
        "\n",
        "ข้อมูลในเทนเซอร์ X และ y พร้อมสำหรับการใช้ในโมเดลการเรียนรู้เชิงลึกแล้ว\n",
        "\n",
        "ไลบรารี pandas เป็นเครื่องมือที่ทรงพลังสำหรับการประมวลผลข้อมูลก่อนล่วงหน้าสำหรับการเรียนรู้เชิงลึก หากคุณกำลังทำงานกับข้อมูลจริง ขอแนะนำให้คุณศึกษาเกี่ยวกับ pandas เพิ่มเติม"
      ],
      "metadata": {
        "id": "4F0l0tgTP3Fa"
      }
    },
    {
      "cell_type": "code",
      "source": [
        "import os\n",
        "\n",
        "# เชื่อมต่อ Google Drive กับ Google Colab\n",
        "\n",
        "\n",
        "# เก็บไฟล์ house_tiny.csv ไว้ที่ตัวแปร data_file\n",
        "data_file = '/content/drive/My Drive/house_tiny.csv'\n"
      ],
      "metadata": {
        "id": "S_WFUtaSRc0Y"
      },
      "execution_count": null,
      "outputs": []
    },
    {
      "cell_type": "code",
      "source": [
        "import os\n",
        "\n",
        "# สร้างไดเร็กทอรี data ถ้ายังไม่มีอยู่\n",
        "os.makedirs(os.path.join('..', 'data'), exist_ok=True)\n",
        "\n",
        "# สร้างไฟล์ house_tiny.csv ในไดเร็กทอรี data\n",
        "data_file = os.path.join('..', 'data', 'house_tiny.csv')\n",
        "\n",
        "# เขียนข้อมูลไปยังไฟล์ house_tiny.csv\n",
        "with open(data_file, 'w') as f:\n",
        "    f.write('''NumRooms,RoofType,Price\n",
        "NA,NA,127500\n",
        "2,NA,106000\n",
        "4,Slate,178100\n",
        "NA,NA,140000''')\n"
      ],
      "metadata": {
        "id": "KniiryTyPrlA"
      },
      "execution_count": null,
      "outputs": []
    },
    {
      "cell_type": "code",
      "source": [
        "import pandas as pd\n",
        "data = pd.read_csv(data_file)\n",
        "print(data)"
      ],
      "metadata": {
        "colab": {
          "base_uri": "https://localhost:8080/"
        },
        "id": "eNiLNxbVSHZF",
        "outputId": "31fdf701-0f3e-45b3-833e-a025075cae64"
      },
      "execution_count": null,
      "outputs": [
        {
          "output_type": "stream",
          "name": "stdout",
          "text": [
            "   NumRooms RoofType   Price\n",
            "0       NaN      NaN  127500\n",
            "1       2.0      NaN  106000\n",
            "2       4.0    Slate  178100\n",
            "3       NaN      NaN  140000\n"
          ]
        }
      ]
    },
    {
      "cell_type": "code",
      "source": [
        "data.isnull().sum()"
      ],
      "metadata": {
        "colab": {
          "base_uri": "https://localhost:8080/"
        },
        "id": "jWTxDZuRSLtg",
        "outputId": "d0bbd7e3-1538-4207-93b5-ddd285fbdf2f"
      },
      "execution_count": null,
      "outputs": [
        {
          "output_type": "execute_result",
          "data": {
            "text/plain": [
              "NumRooms    2\n",
              "RoofType    3\n",
              "Price       0\n",
              "dtype: int64"
            ]
          },
          "metadata": {},
          "execution_count": 52
        }
      ]
    },
    {
      "cell_type": "code",
      "source": [
        "data.shape"
      ],
      "metadata": {
        "colab": {
          "base_uri": "https://localhost:8080/"
        },
        "id": "44b9E8viSO5G",
        "outputId": "31ab5c2f-6172-420b-8bbc-ecb20e77c7a5"
      },
      "execution_count": null,
      "outputs": [
        {
          "output_type": "execute_result",
          "data": {
            "text/plain": [
              "(4, 3)"
            ]
          },
          "metadata": {},
          "execution_count": 53
        }
      ]
    },
    {
      "cell_type": "code",
      "source": [
        "inputs, targets = data.iloc[:, 0:2], data.iloc[:, 2]\n",
        "inputs = pd.get_dummies(inputs, dummy_na=True)\n",
        "print(inputs)\n"
      ],
      "metadata": {
        "colab": {
          "base_uri": "https://localhost:8080/"
        },
        "id": "peGuTwsaxtZI",
        "outputId": "7787cb03-7526-4d71-d74d-504fcf2c08d3"
      },
      "execution_count": null,
      "outputs": [
        {
          "output_type": "stream",
          "name": "stdout",
          "text": [
            "   NumRooms  RoofType_Slate  RoofType_nan\n",
            "0       NaN               0             1\n",
            "1       2.0               0             1\n",
            "2       4.0               1             0\n",
            "3       NaN               0             1\n"
          ]
        }
      ]
    },
    {
      "cell_type": "code",
      "source": [
        "c = inputs.fillna(inputs.mean())\n",
        "print(inputs)\n",
        "type(X)"
      ],
      "metadata": {
        "colab": {
          "base_uri": "https://localhost:8080/"
        },
        "id": "lcXglA-JyI1z",
        "outputId": "677317d1-80a8-4a06-e8c1-58c0dd03b67d"
      },
      "execution_count": null,
      "outputs": [
        {
          "output_type": "stream",
          "name": "stdout",
          "text": [
            "   NumRooms  RoofType_Slate  RoofType_nan\n",
            "0       NaN               0             1\n",
            "1       2.0               0             1\n",
            "2       4.0               1             0\n",
            "3       NaN               0             1\n"
          ]
        },
        {
          "output_type": "execute_result",
          "data": {
            "text/plain": [
              "torch.Tensor"
            ]
          },
          "metadata": {},
          "execution_count": 55
        }
      ]
    },
    {
      "cell_type": "markdown",
      "source": [
        "## 2.2.3 Conversion to the Tensor Format\n"
      ],
      "metadata": {
        "id": "OtWBV90Cwvuq"
      }
    },
    {
      "cell_type": "markdown",
      "source": [],
      "metadata": {
        "id": "PqPtO0Ccw0L1"
      }
    },
    {
      "cell_type": "code",
      "source": [
        "import torch\n",
        "X = torch.tensor(inputs.to_numpy(dtype=float))\n",
        "y = torch.tensor(targets.to_numpy(dtype=float))\n",
        "X,y"
      ],
      "metadata": {
        "id": "VdVPr-z9SU-2",
        "colab": {
          "base_uri": "https://localhost:8080/"
        },
        "outputId": "710581c5-de8e-408a-fe0d-9f5d89a23bcf"
      },
      "execution_count": null,
      "outputs": [
        {
          "output_type": "execute_result",
          "data": {
            "text/plain": [
              "(tensor([[nan, 0., 1.],\n",
              "         [2., 0., 1.],\n",
              "         [4., 1., 0.],\n",
              "         [nan, 0., 1.]], dtype=torch.float64),\n",
              " tensor([127500., 106000., 178100., 140000.], dtype=torch.float64))"
            ]
          },
          "metadata": {},
          "execution_count": 56
        }
      ]
    },
    {
      "cell_type": "code",
      "source": [
        "type(X),type(y)"
      ],
      "metadata": {
        "colab": {
          "base_uri": "https://localhost:8080/"
        },
        "id": "CrSjwGweyRB3",
        "outputId": "eeacdb75-6623-4386-df72-b1fca9bd0f6e"
      },
      "execution_count": null,
      "outputs": [
        {
          "output_type": "execute_result",
          "data": {
            "text/plain": [
              "(torch.Tensor, torch.Tensor)"
            ]
          },
          "metadata": {},
          "execution_count": 57
        }
      ]
    },
    {
      "cell_type": "markdown",
      "source": [
        "2.2.4 Discussion"
      ],
      "metadata": {
        "id": "AEJA9F4kyrhZ"
      }
    },
    {
      "cell_type": "markdown",
      "source": [
        "ขณะนี้คุณทราบวิธีการแบ่งพาร์ติชันคอลัมน์ข้อมูล อุดรูรั่วของตัวแปร และโหลดข้อมูลแพนด้าลงในเทนเซอร์แล้ว ในส่วน 5.7 คุณจะได้เรียนรู้ทักษะการประมวลผลข้อมูลเพิ่มเติม\n",
        "\n",
        "แม้ว่าหลักสูตรเร่งรัดนี้จะทำให้ทุกอย่างเรียบง่าย แต่การประมวลผลข้อมูลอาจเป็นเรื่องที่ยุ่งยาก เช่น แทนที่จะมาถึงในไฟล์ CSV เดียว ชุดข้อมูลของเราอาจกระจายอยู่ทั่วหลายไฟล์ที่แยกจากฐานข้อมูลเชิงสัมพันธ์ ตัวอย่างเช่น ในแอพพลิเคชันอีคอมเมิร์ซ ที่อยู่ของลูกค้าอาจอยู่ในตารางหนึ่งและข้อมูลการซื้อขายอยู่ในตารางอื่น นอกจากนี้ ผู้ปฏิบัติงานยังต้องเผชิญกับประเภทข้อมูลนับไม่ถ้วนเกินกว่าประเภทข้อมูลประเภทและตัวเลข เช่น สตริงข้อความ รูปภาพ ข้อมูลเสียง และกลุ่มจุด บ่อยครั้ง ต้องใช้เครื่องมือขั้นสูงและอัลกอริธึมที่มีประสิทธิภาพเพื่อป้องกันไม่ให้การประมวลผลข้อมูลกลายเป็นอุปสรรคที่ใหญ่ที่สุดในกระบวนการเรียนรู้ของเครื่อง ปัญหาเหล่านี้จะเกิดขึ้นเมื่อเราเข้าสู่การประมวลผลภาพคอมพิวเตอร์และการประมวลผลภาษาธรรมชาติ ในที่สุด เราต้องใส่ใจกับคุณภาพของข้อมูล ชุดข้อมูลในโลกแห่งความจริงมักเต็มไปด้วยค่าผิดปกติ การวัดที่ผิดพลาดจากเซ็นเซอร์ และข้อผิดพลาดในการบันทึก ซึ่งต้องได้รับการแก้ไขก่อนป้อนข้อมูลเข้าสู่อะไรๆ โมเดล เครื่องมือการแสดงข้อมูล เช่น seaborn47 Bokeh48 หรือ matplotlib49 สามารถช่วยคุณตรวจสอบข้อมูลด้วยตนเองและพัฒนาสัญชาตญาณเกี่ยวกับประเภทของปัญหาที่คุณอาจต้องแก้ไข"
      ],
      "metadata": {
        "id": "pI6Ga_eAyvAD"
      }
    },
    {
      "cell_type": "markdown",
      "source": [
        "## 2.2.5 Exercises"
      ],
      "metadata": {
        "id": "HfO1xDxDzLPn"
      }
    },
    {
      "cell_type": "markdown",
      "source": [
        "ลองโหลดชุดข้อมูล เช่น Abalone จาก UCI Machine Learning Repository50 และตรวจสอบคุณสมบัติของชุดข้อมูล มีกี่เปอร์เซ็นต์ของชุดข้อมูลที่มีค่าที่ขาดหายไป มีกี่เปอร์เซ็นต์ของตัวแปรที่เป็นตัวเลข ประเภท หรือข้อความ"
      ],
      "metadata": {
        "id": "phD3ftRGzfry"
      }
    },
    {
      "cell_type": "code",
      "source": [
        "!pip install ucimlrepo"
      ],
      "metadata": {
        "colab": {
          "base_uri": "https://localhost:8080/"
        },
        "id": "Fy3WUFalyVxP",
        "outputId": "21f5e942-44d3-477e-c411-b7b687164632"
      },
      "execution_count": null,
      "outputs": [
        {
          "output_type": "stream",
          "name": "stdout",
          "text": [
            "Collecting ucimlrepo\n",
            "  Downloading ucimlrepo-0.0.2-py3-none-any.whl (7.0 kB)\n",
            "Installing collected packages: ucimlrepo\n",
            "Successfully installed ucimlrepo-0.0.2\n"
          ]
        }
      ]
    },
    {
      "cell_type": "code",
      "source": [
        "import pandas as pd\n",
        "\n",
        "from ucimlrepo import fetch_ucirepo\n",
        "\n",
        "# fetch dataset\n",
        "adult = fetch_ucirepo(id=2)\n",
        "\n",
        "# data (as pandas dataframes)\n",
        "X = adult.data.features\n",
        "y = adult.data.targets\n",
        "\n",
        "# metadata\n",
        "print(adult.metadata)\n",
        "\n",
        "# variable information\n",
        "print(adult.variables)\n",
        "\n",
        "# convert data to DataFrames\n",
        "X = pd.DataFrame(X)\n",
        "y = pd.DataFrame(y)\n",
        "\n",
        "# save DataFrames to CSV files\n",
        "X.to_csv(\"adult_X.csv\")\n",
        "y.to_csv(\"adult_y.csv\")\n"
      ],
      "metadata": {
        "colab": {
          "base_uri": "https://localhost:8080/"
        },
        "id": "-xZF1HSq0vCM",
        "outputId": "8d72ed33-ff58-4ef8-cdc1-1d0f0fa73074"
      },
      "execution_count": null,
      "outputs": [
        {
          "output_type": "stream",
          "name": "stdout",
          "text": [
            "{'uci_id': 2, 'name': 'Adult', 'repository_url': 'https://archive.ics.uci.edu/dataset/2/adult', 'data_url': 'https://archive.ics.uci.edu/static/public/2/data.csv', 'abstract': 'Predict whether income exceeds $50K/yr based on census data. Also known as \"Census Income\" dataset. ', 'area': 'Social Science', 'tasks': ['Classification'], 'characteristics': ['Multivariate'], 'num_instances': 48842, 'num_features': 14, 'feature_types': ['Categorical', 'Integer'], 'demographics': ['Age', 'Income', 'Education Level', 'Other', 'Race', 'Sex'], 'target_col': ['income'], 'index_col': None, 'has_missing_values': 'yes', 'missing_values_symbol': 'NaN', 'year_of_dataset_creation': 1996, 'last_updated': 'Mon Aug 07 2023', 'dataset_doi': '10.24432/C5XW20', 'creators': ['Barry Becker', 'Ronny Kohavi'], 'intro_paper': None, 'additional_info': {'summary': 'Extraction was done by Barry Becker from the 1994 Census database.  A set of reasonably clean records was extracted using the following conditions: ((AAGE>16) && (AGI>100) && (AFNLWGT>1)&& (HRSWK>0))\\r\\n\\r\\nPrediction task is to determine whether a person makes over 50K a year.\\r\\n', 'purpose': None, 'funded_by': None, 'instances_represent': None, 'recommended_data_splits': None, 'sensitive_data': None, 'preprocessing_description': None, 'variable_info': 'Listing of attributes:\\r\\n\\r\\n>50K, <=50K.\\r\\n\\r\\nage: continuous.\\r\\nworkclass: Private, Self-emp-not-inc, Self-emp-inc, Federal-gov, Local-gov, State-gov, Without-pay, Never-worked.\\r\\nfnlwgt: continuous.\\r\\neducation: Bachelors, Some-college, 11th, HS-grad, Prof-school, Assoc-acdm, Assoc-voc, 9th, 7th-8th, 12th, Masters, 1st-4th, 10th, Doctorate, 5th-6th, Preschool.\\r\\neducation-num: continuous.\\r\\nmarital-status: Married-civ-spouse, Divorced, Never-married, Separated, Widowed, Married-spouse-absent, Married-AF-spouse.\\r\\noccupation: Tech-support, Craft-repair, Other-service, Sales, Exec-managerial, Prof-specialty, Handlers-cleaners, Machine-op-inspct, Adm-clerical, Farming-fishing, Transport-moving, Priv-house-serv, Protective-serv, Armed-Forces.\\r\\nrelationship: Wife, Own-child, Husband, Not-in-family, Other-relative, Unmarried.\\r\\nrace: White, Asian-Pac-Islander, Amer-Indian-Eskimo, Other, Black.\\r\\nsex: Female, Male.\\r\\ncapital-gain: continuous.\\r\\ncapital-loss: continuous.\\r\\nhours-per-week: continuous.\\r\\nnative-country: United-States, Cambodia, England, Puerto-Rico, Canada, Germany, Outlying-US(Guam-USVI-etc), India, Japan, Greece, South, China, Cuba, Iran, Honduras, Philippines, Italy, Poland, Jamaica, Vietnam, Mexico, Portugal, Ireland, France, Dominican-Republic, Laos, Ecuador, Taiwan, Haiti, Columbia, Hungary, Guatemala, Nicaragua, Scotland, Thailand, Yugoslavia, El-Salvador, Trinadad&Tobago, Peru, Hong, Holand-Netherlands.', 'citation': None}}\n",
            "              name     role         type      demographic  \\\n",
            "0              age  Feature      Integer              Age   \n",
            "1        workclass  Feature  Categorical           Income   \n",
            "2           fnlwgt  Feature      Integer             None   \n",
            "3        education  Feature  Categorical  Education Level   \n",
            "4    education-num  Feature      Integer  Education Level   \n",
            "5   marital-status  Feature  Categorical            Other   \n",
            "6       occupation  Feature  Categorical            Other   \n",
            "7     relationship  Feature  Categorical            Other   \n",
            "8             race  Feature  Categorical             Race   \n",
            "9              sex  Feature       Binary              Sex   \n",
            "10    capital-gain  Feature      Integer             None   \n",
            "11    capital-loss  Feature      Integer             None   \n",
            "12  hours-per-week  Feature      Integer             None   \n",
            "13  native-country  Feature  Categorical            Other   \n",
            "14          income   Target       Binary           Income   \n",
            "\n",
            "                                          description units missing_values  \n",
            "0                                                 N/A  None             no  \n",
            "1   Private, Self-emp-not-inc, Self-emp-inc, Feder...  None            yes  \n",
            "2                                                None  None             no  \n",
            "3    Bachelors, Some-college, 11th, HS-grad, Prof-...  None             no  \n",
            "4                                                None  None             no  \n",
            "5   Married-civ-spouse, Divorced, Never-married, S...  None             no  \n",
            "6   Tech-support, Craft-repair, Other-service, Sal...  None            yes  \n",
            "7   Wife, Own-child, Husband, Not-in-family, Other...  None             no  \n",
            "8   White, Asian-Pac-Islander, Amer-Indian-Eskimo,...  None             no  \n",
            "9                                       Female, Male.  None             no  \n",
            "10                                               None  None             no  \n",
            "11                                               None  None             no  \n",
            "12                                               None  None             no  \n",
            "13  United-States, Cambodia, England, Puerto-Rico,...  None            yes  \n",
            "14                                       >50K, <=50K.  None             no  \n"
          ]
        }
      ]
    },
    {
      "cell_type": "code",
      "source": [
        "X.head()"
      ],
      "metadata": {
        "colab": {
          "base_uri": "https://localhost:8080/",
          "height": 399
        },
        "id": "uc7ZKZaE01BB",
        "outputId": "8cc95f05-c204-4004-80a5-ca64bdbd7e6b"
      },
      "execution_count": null,
      "outputs": [
        {
          "output_type": "execute_result",
          "data": {
            "text/plain": [
              "   age         workclass  fnlwgt  education  education-num  \\\n",
              "0   39         State-gov   77516  Bachelors             13   \n",
              "1   50  Self-emp-not-inc   83311  Bachelors             13   \n",
              "2   38           Private  215646    HS-grad              9   \n",
              "3   53           Private  234721       11th              7   \n",
              "4   28           Private  338409  Bachelors             13   \n",
              "\n",
              "       marital-status         occupation   relationship   race     sex  \\\n",
              "0       Never-married       Adm-clerical  Not-in-family  White    Male   \n",
              "1  Married-civ-spouse    Exec-managerial        Husband  White    Male   \n",
              "2            Divorced  Handlers-cleaners  Not-in-family  White    Male   \n",
              "3  Married-civ-spouse  Handlers-cleaners        Husband  Black    Male   \n",
              "4  Married-civ-spouse     Prof-specialty           Wife  Black  Female   \n",
              "\n",
              "   capital-gain  capital-loss  hours-per-week native-country  \n",
              "0          2174             0              40  United-States  \n",
              "1             0             0              13  United-States  \n",
              "2             0             0              40  United-States  \n",
              "3             0             0              40  United-States  \n",
              "4             0             0              40           Cuba  "
            ],
            "text/html": [
              "\n",
              "  <div id=\"df-22d104f8-6a1a-4e42-86fd-64ddcc3863c9\" class=\"colab-df-container\">\n",
              "    <div>\n",
              "<style scoped>\n",
              "    .dataframe tbody tr th:only-of-type {\n",
              "        vertical-align: middle;\n",
              "    }\n",
              "\n",
              "    .dataframe tbody tr th {\n",
              "        vertical-align: top;\n",
              "    }\n",
              "\n",
              "    .dataframe thead th {\n",
              "        text-align: right;\n",
              "    }\n",
              "</style>\n",
              "<table border=\"1\" class=\"dataframe\">\n",
              "  <thead>\n",
              "    <tr style=\"text-align: right;\">\n",
              "      <th></th>\n",
              "      <th>age</th>\n",
              "      <th>workclass</th>\n",
              "      <th>fnlwgt</th>\n",
              "      <th>education</th>\n",
              "      <th>education-num</th>\n",
              "      <th>marital-status</th>\n",
              "      <th>occupation</th>\n",
              "      <th>relationship</th>\n",
              "      <th>race</th>\n",
              "      <th>sex</th>\n",
              "      <th>capital-gain</th>\n",
              "      <th>capital-loss</th>\n",
              "      <th>hours-per-week</th>\n",
              "      <th>native-country</th>\n",
              "    </tr>\n",
              "  </thead>\n",
              "  <tbody>\n",
              "    <tr>\n",
              "      <th>0</th>\n",
              "      <td>39</td>\n",
              "      <td>State-gov</td>\n",
              "      <td>77516</td>\n",
              "      <td>Bachelors</td>\n",
              "      <td>13</td>\n",
              "      <td>Never-married</td>\n",
              "      <td>Adm-clerical</td>\n",
              "      <td>Not-in-family</td>\n",
              "      <td>White</td>\n",
              "      <td>Male</td>\n",
              "      <td>2174</td>\n",
              "      <td>0</td>\n",
              "      <td>40</td>\n",
              "      <td>United-States</td>\n",
              "    </tr>\n",
              "    <tr>\n",
              "      <th>1</th>\n",
              "      <td>50</td>\n",
              "      <td>Self-emp-not-inc</td>\n",
              "      <td>83311</td>\n",
              "      <td>Bachelors</td>\n",
              "      <td>13</td>\n",
              "      <td>Married-civ-spouse</td>\n",
              "      <td>Exec-managerial</td>\n",
              "      <td>Husband</td>\n",
              "      <td>White</td>\n",
              "      <td>Male</td>\n",
              "      <td>0</td>\n",
              "      <td>0</td>\n",
              "      <td>13</td>\n",
              "      <td>United-States</td>\n",
              "    </tr>\n",
              "    <tr>\n",
              "      <th>2</th>\n",
              "      <td>38</td>\n",
              "      <td>Private</td>\n",
              "      <td>215646</td>\n",
              "      <td>HS-grad</td>\n",
              "      <td>9</td>\n",
              "      <td>Divorced</td>\n",
              "      <td>Handlers-cleaners</td>\n",
              "      <td>Not-in-family</td>\n",
              "      <td>White</td>\n",
              "      <td>Male</td>\n",
              "      <td>0</td>\n",
              "      <td>0</td>\n",
              "      <td>40</td>\n",
              "      <td>United-States</td>\n",
              "    </tr>\n",
              "    <tr>\n",
              "      <th>3</th>\n",
              "      <td>53</td>\n",
              "      <td>Private</td>\n",
              "      <td>234721</td>\n",
              "      <td>11th</td>\n",
              "      <td>7</td>\n",
              "      <td>Married-civ-spouse</td>\n",
              "      <td>Handlers-cleaners</td>\n",
              "      <td>Husband</td>\n",
              "      <td>Black</td>\n",
              "      <td>Male</td>\n",
              "      <td>0</td>\n",
              "      <td>0</td>\n",
              "      <td>40</td>\n",
              "      <td>United-States</td>\n",
              "    </tr>\n",
              "    <tr>\n",
              "      <th>4</th>\n",
              "      <td>28</td>\n",
              "      <td>Private</td>\n",
              "      <td>338409</td>\n",
              "      <td>Bachelors</td>\n",
              "      <td>13</td>\n",
              "      <td>Married-civ-spouse</td>\n",
              "      <td>Prof-specialty</td>\n",
              "      <td>Wife</td>\n",
              "      <td>Black</td>\n",
              "      <td>Female</td>\n",
              "      <td>0</td>\n",
              "      <td>0</td>\n",
              "      <td>40</td>\n",
              "      <td>Cuba</td>\n",
              "    </tr>\n",
              "  </tbody>\n",
              "</table>\n",
              "</div>\n",
              "    <div class=\"colab-df-buttons\">\n",
              "\n",
              "  <div class=\"colab-df-container\">\n",
              "    <button class=\"colab-df-convert\" onclick=\"convertToInteractive('df-22d104f8-6a1a-4e42-86fd-64ddcc3863c9')\"\n",
              "            title=\"Convert this dataframe to an interactive table.\"\n",
              "            style=\"display:none;\">\n",
              "\n",
              "  <svg xmlns=\"http://www.w3.org/2000/svg\" height=\"24px\" viewBox=\"0 -960 960 960\">\n",
              "    <path d=\"M120-120v-720h720v720H120Zm60-500h600v-160H180v160Zm220 220h160v-160H400v160Zm0 220h160v-160H400v160ZM180-400h160v-160H180v160Zm440 0h160v-160H620v160ZM180-180h160v-160H180v160Zm440 0h160v-160H620v160Z\"/>\n",
              "  </svg>\n",
              "    </button>\n",
              "\n",
              "  <style>\n",
              "    .colab-df-container {\n",
              "      display:flex;\n",
              "      gap: 12px;\n",
              "    }\n",
              "\n",
              "    .colab-df-convert {\n",
              "      background-color: #E8F0FE;\n",
              "      border: none;\n",
              "      border-radius: 50%;\n",
              "      cursor: pointer;\n",
              "      display: none;\n",
              "      fill: #1967D2;\n",
              "      height: 32px;\n",
              "      padding: 0 0 0 0;\n",
              "      width: 32px;\n",
              "    }\n",
              "\n",
              "    .colab-df-convert:hover {\n",
              "      background-color: #E2EBFA;\n",
              "      box-shadow: 0px 1px 2px rgba(60, 64, 67, 0.3), 0px 1px 3px 1px rgba(60, 64, 67, 0.15);\n",
              "      fill: #174EA6;\n",
              "    }\n",
              "\n",
              "    .colab-df-buttons div {\n",
              "      margin-bottom: 4px;\n",
              "    }\n",
              "\n",
              "    [theme=dark] .colab-df-convert {\n",
              "      background-color: #3B4455;\n",
              "      fill: #D2E3FC;\n",
              "    }\n",
              "\n",
              "    [theme=dark] .colab-df-convert:hover {\n",
              "      background-color: #434B5C;\n",
              "      box-shadow: 0px 1px 3px 1px rgba(0, 0, 0, 0.15);\n",
              "      filter: drop-shadow(0px 1px 2px rgba(0, 0, 0, 0.3));\n",
              "      fill: #FFFFFF;\n",
              "    }\n",
              "  </style>\n",
              "\n",
              "    <script>\n",
              "      const buttonEl =\n",
              "        document.querySelector('#df-22d104f8-6a1a-4e42-86fd-64ddcc3863c9 button.colab-df-convert');\n",
              "      buttonEl.style.display =\n",
              "        google.colab.kernel.accessAllowed ? 'block' : 'none';\n",
              "\n",
              "      async function convertToInteractive(key) {\n",
              "        const element = document.querySelector('#df-22d104f8-6a1a-4e42-86fd-64ddcc3863c9');\n",
              "        const dataTable =\n",
              "          await google.colab.kernel.invokeFunction('convertToInteractive',\n",
              "                                                    [key], {});\n",
              "        if (!dataTable) return;\n",
              "\n",
              "        const docLinkHtml = 'Like what you see? Visit the ' +\n",
              "          '<a target=\"_blank\" href=https://colab.research.google.com/notebooks/data_table.ipynb>data table notebook</a>'\n",
              "          + ' to learn more about interactive tables.';\n",
              "        element.innerHTML = '';\n",
              "        dataTable['output_type'] = 'display_data';\n",
              "        await google.colab.output.renderOutput(dataTable, element);\n",
              "        const docLink = document.createElement('div');\n",
              "        docLink.innerHTML = docLinkHtml;\n",
              "        element.appendChild(docLink);\n",
              "      }\n",
              "    </script>\n",
              "  </div>\n",
              "\n",
              "\n",
              "<div id=\"df-e0b5b97d-1da3-4779-92da-80d23f19eeba\">\n",
              "  <button class=\"colab-df-quickchart\" onclick=\"quickchart('df-e0b5b97d-1da3-4779-92da-80d23f19eeba')\"\n",
              "            title=\"Suggest charts.\"\n",
              "            style=\"display:none;\">\n",
              "\n",
              "<svg xmlns=\"http://www.w3.org/2000/svg\" height=\"24px\"viewBox=\"0 0 24 24\"\n",
              "     width=\"24px\">\n",
              "    <g>\n",
              "        <path d=\"M19 3H5c-1.1 0-2 .9-2 2v14c0 1.1.9 2 2 2h14c1.1 0 2-.9 2-2V5c0-1.1-.9-2-2-2zM9 17H7v-7h2v7zm4 0h-2V7h2v10zm4 0h-2v-4h2v4z\"/>\n",
              "    </g>\n",
              "</svg>\n",
              "  </button>\n",
              "\n",
              "<style>\n",
              "  .colab-df-quickchart {\n",
              "      --bg-color: #E8F0FE;\n",
              "      --fill-color: #1967D2;\n",
              "      --hover-bg-color: #E2EBFA;\n",
              "      --hover-fill-color: #174EA6;\n",
              "      --disabled-fill-color: #AAA;\n",
              "      --disabled-bg-color: #DDD;\n",
              "  }\n",
              "\n",
              "  [theme=dark] .colab-df-quickchart {\n",
              "      --bg-color: #3B4455;\n",
              "      --fill-color: #D2E3FC;\n",
              "      --hover-bg-color: #434B5C;\n",
              "      --hover-fill-color: #FFFFFF;\n",
              "      --disabled-bg-color: #3B4455;\n",
              "      --disabled-fill-color: #666;\n",
              "  }\n",
              "\n",
              "  .colab-df-quickchart {\n",
              "    background-color: var(--bg-color);\n",
              "    border: none;\n",
              "    border-radius: 50%;\n",
              "    cursor: pointer;\n",
              "    display: none;\n",
              "    fill: var(--fill-color);\n",
              "    height: 32px;\n",
              "    padding: 0;\n",
              "    width: 32px;\n",
              "  }\n",
              "\n",
              "  .colab-df-quickchart:hover {\n",
              "    background-color: var(--hover-bg-color);\n",
              "    box-shadow: 0 1px 2px rgba(60, 64, 67, 0.3), 0 1px 3px 1px rgba(60, 64, 67, 0.15);\n",
              "    fill: var(--button-hover-fill-color);\n",
              "  }\n",
              "\n",
              "  .colab-df-quickchart-complete:disabled,\n",
              "  .colab-df-quickchart-complete:disabled:hover {\n",
              "    background-color: var(--disabled-bg-color);\n",
              "    fill: var(--disabled-fill-color);\n",
              "    box-shadow: none;\n",
              "  }\n",
              "\n",
              "  .colab-df-spinner {\n",
              "    border: 2px solid var(--fill-color);\n",
              "    border-color: transparent;\n",
              "    border-bottom-color: var(--fill-color);\n",
              "    animation:\n",
              "      spin 1s steps(1) infinite;\n",
              "  }\n",
              "\n",
              "  @keyframes spin {\n",
              "    0% {\n",
              "      border-color: transparent;\n",
              "      border-bottom-color: var(--fill-color);\n",
              "      border-left-color: var(--fill-color);\n",
              "    }\n",
              "    20% {\n",
              "      border-color: transparent;\n",
              "      border-left-color: var(--fill-color);\n",
              "      border-top-color: var(--fill-color);\n",
              "    }\n",
              "    30% {\n",
              "      border-color: transparent;\n",
              "      border-left-color: var(--fill-color);\n",
              "      border-top-color: var(--fill-color);\n",
              "      border-right-color: var(--fill-color);\n",
              "    }\n",
              "    40% {\n",
              "      border-color: transparent;\n",
              "      border-right-color: var(--fill-color);\n",
              "      border-top-color: var(--fill-color);\n",
              "    }\n",
              "    60% {\n",
              "      border-color: transparent;\n",
              "      border-right-color: var(--fill-color);\n",
              "    }\n",
              "    80% {\n",
              "      border-color: transparent;\n",
              "      border-right-color: var(--fill-color);\n",
              "      border-bottom-color: var(--fill-color);\n",
              "    }\n",
              "    90% {\n",
              "      border-color: transparent;\n",
              "      border-bottom-color: var(--fill-color);\n",
              "    }\n",
              "  }\n",
              "</style>\n",
              "\n",
              "  <script>\n",
              "    async function quickchart(key) {\n",
              "      const quickchartButtonEl =\n",
              "        document.querySelector('#' + key + ' button');\n",
              "      quickchartButtonEl.disabled = true;  // To prevent multiple clicks.\n",
              "      quickchartButtonEl.classList.add('colab-df-spinner');\n",
              "      try {\n",
              "        const charts = await google.colab.kernel.invokeFunction(\n",
              "            'suggestCharts', [key], {});\n",
              "      } catch (error) {\n",
              "        console.error('Error during call to suggestCharts:', error);\n",
              "      }\n",
              "      quickchartButtonEl.classList.remove('colab-df-spinner');\n",
              "      quickchartButtonEl.classList.add('colab-df-quickchart-complete');\n",
              "    }\n",
              "    (() => {\n",
              "      let quickchartButtonEl =\n",
              "        document.querySelector('#df-e0b5b97d-1da3-4779-92da-80d23f19eeba button');\n",
              "      quickchartButtonEl.style.display =\n",
              "        google.colab.kernel.accessAllowed ? 'block' : 'none';\n",
              "    })();\n",
              "  </script>\n",
              "</div>\n",
              "    </div>\n",
              "  </div>\n"
            ]
          },
          "metadata": {},
          "execution_count": 60
        }
      ]
    },
    {
      "cell_type": "code",
      "source": [
        "X.isnull().sum()"
      ],
      "metadata": {
        "colab": {
          "base_uri": "https://localhost:8080/"
        },
        "id": "jKGqHb8C04I_",
        "outputId": "e4f1809c-8864-46d2-851f-05ac676f9efa"
      },
      "execution_count": null,
      "outputs": [
        {
          "output_type": "execute_result",
          "data": {
            "text/plain": [
              "age                 0\n",
              "workclass         963\n",
              "fnlwgt              0\n",
              "education           0\n",
              "education-num       0\n",
              "marital-status      0\n",
              "occupation        966\n",
              "relationship        0\n",
              "race                0\n",
              "sex                 0\n",
              "capital-gain        0\n",
              "capital-loss        0\n",
              "hours-per-week      0\n",
              "native-country    274\n",
              "dtype: int64"
            ]
          },
          "metadata": {},
          "execution_count": 61
        }
      ]
    },
    {
      "cell_type": "markdown",
      "source": [
        "2. ลองทำการจัดทำดัชนีและเลือกคอลัมน์ข้อมูลตามชื่อแทนที่จะเป็นหมายเลขคอลัมน์ เอกสารประกอบของ pandas เกี่ยวกับการจัดทำดัชนี51 มีรายละเอียดเพิ่มเติมเกี่ยวกับวิธีการทำสิ่งนี้"
      ],
      "metadata": {
        "id": "uCNv0FRg3Rxy"
      }
    },
    {
      "cell_type": "code",
      "source": [
        "data = pd.concat([X, y], axis=1)\n",
        "data.head()"
      ],
      "metadata": {
        "colab": {
          "base_uri": "https://localhost:8080/",
          "height": 399
        },
        "id": "ZzwK_BZX1h-9",
        "outputId": "3f4f4772-5865-4801-d7c3-23d3d38570a7"
      },
      "execution_count": null,
      "outputs": [
        {
          "output_type": "execute_result",
          "data": {
            "text/plain": [
              "   age         workclass  fnlwgt  education  education-num  \\\n",
              "0   39         State-gov   77516  Bachelors             13   \n",
              "1   50  Self-emp-not-inc   83311  Bachelors             13   \n",
              "2   38           Private  215646    HS-grad              9   \n",
              "3   53           Private  234721       11th              7   \n",
              "4   28           Private  338409  Bachelors             13   \n",
              "\n",
              "       marital-status         occupation   relationship   race     sex  \\\n",
              "0       Never-married       Adm-clerical  Not-in-family  White    Male   \n",
              "1  Married-civ-spouse    Exec-managerial        Husband  White    Male   \n",
              "2            Divorced  Handlers-cleaners  Not-in-family  White    Male   \n",
              "3  Married-civ-spouse  Handlers-cleaners        Husband  Black    Male   \n",
              "4  Married-civ-spouse     Prof-specialty           Wife  Black  Female   \n",
              "\n",
              "   capital-gain  capital-loss  hours-per-week native-country income  \n",
              "0          2174             0              40  United-States  <=50K  \n",
              "1             0             0              13  United-States  <=50K  \n",
              "2             0             0              40  United-States  <=50K  \n",
              "3             0             0              40  United-States  <=50K  \n",
              "4             0             0              40           Cuba  <=50K  "
            ],
            "text/html": [
              "\n",
              "  <div id=\"df-825c2766-60d9-4819-837e-2b7697e5123c\" class=\"colab-df-container\">\n",
              "    <div>\n",
              "<style scoped>\n",
              "    .dataframe tbody tr th:only-of-type {\n",
              "        vertical-align: middle;\n",
              "    }\n",
              "\n",
              "    .dataframe tbody tr th {\n",
              "        vertical-align: top;\n",
              "    }\n",
              "\n",
              "    .dataframe thead th {\n",
              "        text-align: right;\n",
              "    }\n",
              "</style>\n",
              "<table border=\"1\" class=\"dataframe\">\n",
              "  <thead>\n",
              "    <tr style=\"text-align: right;\">\n",
              "      <th></th>\n",
              "      <th>age</th>\n",
              "      <th>workclass</th>\n",
              "      <th>fnlwgt</th>\n",
              "      <th>education</th>\n",
              "      <th>education-num</th>\n",
              "      <th>marital-status</th>\n",
              "      <th>occupation</th>\n",
              "      <th>relationship</th>\n",
              "      <th>race</th>\n",
              "      <th>sex</th>\n",
              "      <th>capital-gain</th>\n",
              "      <th>capital-loss</th>\n",
              "      <th>hours-per-week</th>\n",
              "      <th>native-country</th>\n",
              "      <th>income</th>\n",
              "    </tr>\n",
              "  </thead>\n",
              "  <tbody>\n",
              "    <tr>\n",
              "      <th>0</th>\n",
              "      <td>39</td>\n",
              "      <td>State-gov</td>\n",
              "      <td>77516</td>\n",
              "      <td>Bachelors</td>\n",
              "      <td>13</td>\n",
              "      <td>Never-married</td>\n",
              "      <td>Adm-clerical</td>\n",
              "      <td>Not-in-family</td>\n",
              "      <td>White</td>\n",
              "      <td>Male</td>\n",
              "      <td>2174</td>\n",
              "      <td>0</td>\n",
              "      <td>40</td>\n",
              "      <td>United-States</td>\n",
              "      <td>&lt;=50K</td>\n",
              "    </tr>\n",
              "    <tr>\n",
              "      <th>1</th>\n",
              "      <td>50</td>\n",
              "      <td>Self-emp-not-inc</td>\n",
              "      <td>83311</td>\n",
              "      <td>Bachelors</td>\n",
              "      <td>13</td>\n",
              "      <td>Married-civ-spouse</td>\n",
              "      <td>Exec-managerial</td>\n",
              "      <td>Husband</td>\n",
              "      <td>White</td>\n",
              "      <td>Male</td>\n",
              "      <td>0</td>\n",
              "      <td>0</td>\n",
              "      <td>13</td>\n",
              "      <td>United-States</td>\n",
              "      <td>&lt;=50K</td>\n",
              "    </tr>\n",
              "    <tr>\n",
              "      <th>2</th>\n",
              "      <td>38</td>\n",
              "      <td>Private</td>\n",
              "      <td>215646</td>\n",
              "      <td>HS-grad</td>\n",
              "      <td>9</td>\n",
              "      <td>Divorced</td>\n",
              "      <td>Handlers-cleaners</td>\n",
              "      <td>Not-in-family</td>\n",
              "      <td>White</td>\n",
              "      <td>Male</td>\n",
              "      <td>0</td>\n",
              "      <td>0</td>\n",
              "      <td>40</td>\n",
              "      <td>United-States</td>\n",
              "      <td>&lt;=50K</td>\n",
              "    </tr>\n",
              "    <tr>\n",
              "      <th>3</th>\n",
              "      <td>53</td>\n",
              "      <td>Private</td>\n",
              "      <td>234721</td>\n",
              "      <td>11th</td>\n",
              "      <td>7</td>\n",
              "      <td>Married-civ-spouse</td>\n",
              "      <td>Handlers-cleaners</td>\n",
              "      <td>Husband</td>\n",
              "      <td>Black</td>\n",
              "      <td>Male</td>\n",
              "      <td>0</td>\n",
              "      <td>0</td>\n",
              "      <td>40</td>\n",
              "      <td>United-States</td>\n",
              "      <td>&lt;=50K</td>\n",
              "    </tr>\n",
              "    <tr>\n",
              "      <th>4</th>\n",
              "      <td>28</td>\n",
              "      <td>Private</td>\n",
              "      <td>338409</td>\n",
              "      <td>Bachelors</td>\n",
              "      <td>13</td>\n",
              "      <td>Married-civ-spouse</td>\n",
              "      <td>Prof-specialty</td>\n",
              "      <td>Wife</td>\n",
              "      <td>Black</td>\n",
              "      <td>Female</td>\n",
              "      <td>0</td>\n",
              "      <td>0</td>\n",
              "      <td>40</td>\n",
              "      <td>Cuba</td>\n",
              "      <td>&lt;=50K</td>\n",
              "    </tr>\n",
              "  </tbody>\n",
              "</table>\n",
              "</div>\n",
              "    <div class=\"colab-df-buttons\">\n",
              "\n",
              "  <div class=\"colab-df-container\">\n",
              "    <button class=\"colab-df-convert\" onclick=\"convertToInteractive('df-825c2766-60d9-4819-837e-2b7697e5123c')\"\n",
              "            title=\"Convert this dataframe to an interactive table.\"\n",
              "            style=\"display:none;\">\n",
              "\n",
              "  <svg xmlns=\"http://www.w3.org/2000/svg\" height=\"24px\" viewBox=\"0 -960 960 960\">\n",
              "    <path d=\"M120-120v-720h720v720H120Zm60-500h600v-160H180v160Zm220 220h160v-160H400v160Zm0 220h160v-160H400v160ZM180-400h160v-160H180v160Zm440 0h160v-160H620v160ZM180-180h160v-160H180v160Zm440 0h160v-160H620v160Z\"/>\n",
              "  </svg>\n",
              "    </button>\n",
              "\n",
              "  <style>\n",
              "    .colab-df-container {\n",
              "      display:flex;\n",
              "      gap: 12px;\n",
              "    }\n",
              "\n",
              "    .colab-df-convert {\n",
              "      background-color: #E8F0FE;\n",
              "      border: none;\n",
              "      border-radius: 50%;\n",
              "      cursor: pointer;\n",
              "      display: none;\n",
              "      fill: #1967D2;\n",
              "      height: 32px;\n",
              "      padding: 0 0 0 0;\n",
              "      width: 32px;\n",
              "    }\n",
              "\n",
              "    .colab-df-convert:hover {\n",
              "      background-color: #E2EBFA;\n",
              "      box-shadow: 0px 1px 2px rgba(60, 64, 67, 0.3), 0px 1px 3px 1px rgba(60, 64, 67, 0.15);\n",
              "      fill: #174EA6;\n",
              "    }\n",
              "\n",
              "    .colab-df-buttons div {\n",
              "      margin-bottom: 4px;\n",
              "    }\n",
              "\n",
              "    [theme=dark] .colab-df-convert {\n",
              "      background-color: #3B4455;\n",
              "      fill: #D2E3FC;\n",
              "    }\n",
              "\n",
              "    [theme=dark] .colab-df-convert:hover {\n",
              "      background-color: #434B5C;\n",
              "      box-shadow: 0px 1px 3px 1px rgba(0, 0, 0, 0.15);\n",
              "      filter: drop-shadow(0px 1px 2px rgba(0, 0, 0, 0.3));\n",
              "      fill: #FFFFFF;\n",
              "    }\n",
              "  </style>\n",
              "\n",
              "    <script>\n",
              "      const buttonEl =\n",
              "        document.querySelector('#df-825c2766-60d9-4819-837e-2b7697e5123c button.colab-df-convert');\n",
              "      buttonEl.style.display =\n",
              "        google.colab.kernel.accessAllowed ? 'block' : 'none';\n",
              "\n",
              "      async function convertToInteractive(key) {\n",
              "        const element = document.querySelector('#df-825c2766-60d9-4819-837e-2b7697e5123c');\n",
              "        const dataTable =\n",
              "          await google.colab.kernel.invokeFunction('convertToInteractive',\n",
              "                                                    [key], {});\n",
              "        if (!dataTable) return;\n",
              "\n",
              "        const docLinkHtml = 'Like what you see? Visit the ' +\n",
              "          '<a target=\"_blank\" href=https://colab.research.google.com/notebooks/data_table.ipynb>data table notebook</a>'\n",
              "          + ' to learn more about interactive tables.';\n",
              "        element.innerHTML = '';\n",
              "        dataTable['output_type'] = 'display_data';\n",
              "        await google.colab.output.renderOutput(dataTable, element);\n",
              "        const docLink = document.createElement('div');\n",
              "        docLink.innerHTML = docLinkHtml;\n",
              "        element.appendChild(docLink);\n",
              "      }\n",
              "    </script>\n",
              "  </div>\n",
              "\n",
              "\n",
              "<div id=\"df-dbe21d16-3717-4bc8-9284-5720864ccd79\">\n",
              "  <button class=\"colab-df-quickchart\" onclick=\"quickchart('df-dbe21d16-3717-4bc8-9284-5720864ccd79')\"\n",
              "            title=\"Suggest charts.\"\n",
              "            style=\"display:none;\">\n",
              "\n",
              "<svg xmlns=\"http://www.w3.org/2000/svg\" height=\"24px\"viewBox=\"0 0 24 24\"\n",
              "     width=\"24px\">\n",
              "    <g>\n",
              "        <path d=\"M19 3H5c-1.1 0-2 .9-2 2v14c0 1.1.9 2 2 2h14c1.1 0 2-.9 2-2V5c0-1.1-.9-2-2-2zM9 17H7v-7h2v7zm4 0h-2V7h2v10zm4 0h-2v-4h2v4z\"/>\n",
              "    </g>\n",
              "</svg>\n",
              "  </button>\n",
              "\n",
              "<style>\n",
              "  .colab-df-quickchart {\n",
              "      --bg-color: #E8F0FE;\n",
              "      --fill-color: #1967D2;\n",
              "      --hover-bg-color: #E2EBFA;\n",
              "      --hover-fill-color: #174EA6;\n",
              "      --disabled-fill-color: #AAA;\n",
              "      --disabled-bg-color: #DDD;\n",
              "  }\n",
              "\n",
              "  [theme=dark] .colab-df-quickchart {\n",
              "      --bg-color: #3B4455;\n",
              "      --fill-color: #D2E3FC;\n",
              "      --hover-bg-color: #434B5C;\n",
              "      --hover-fill-color: #FFFFFF;\n",
              "      --disabled-bg-color: #3B4455;\n",
              "      --disabled-fill-color: #666;\n",
              "  }\n",
              "\n",
              "  .colab-df-quickchart {\n",
              "    background-color: var(--bg-color);\n",
              "    border: none;\n",
              "    border-radius: 50%;\n",
              "    cursor: pointer;\n",
              "    display: none;\n",
              "    fill: var(--fill-color);\n",
              "    height: 32px;\n",
              "    padding: 0;\n",
              "    width: 32px;\n",
              "  }\n",
              "\n",
              "  .colab-df-quickchart:hover {\n",
              "    background-color: var(--hover-bg-color);\n",
              "    box-shadow: 0 1px 2px rgba(60, 64, 67, 0.3), 0 1px 3px 1px rgba(60, 64, 67, 0.15);\n",
              "    fill: var(--button-hover-fill-color);\n",
              "  }\n",
              "\n",
              "  .colab-df-quickchart-complete:disabled,\n",
              "  .colab-df-quickchart-complete:disabled:hover {\n",
              "    background-color: var(--disabled-bg-color);\n",
              "    fill: var(--disabled-fill-color);\n",
              "    box-shadow: none;\n",
              "  }\n",
              "\n",
              "  .colab-df-spinner {\n",
              "    border: 2px solid var(--fill-color);\n",
              "    border-color: transparent;\n",
              "    border-bottom-color: var(--fill-color);\n",
              "    animation:\n",
              "      spin 1s steps(1) infinite;\n",
              "  }\n",
              "\n",
              "  @keyframes spin {\n",
              "    0% {\n",
              "      border-color: transparent;\n",
              "      border-bottom-color: var(--fill-color);\n",
              "      border-left-color: var(--fill-color);\n",
              "    }\n",
              "    20% {\n",
              "      border-color: transparent;\n",
              "      border-left-color: var(--fill-color);\n",
              "      border-top-color: var(--fill-color);\n",
              "    }\n",
              "    30% {\n",
              "      border-color: transparent;\n",
              "      border-left-color: var(--fill-color);\n",
              "      border-top-color: var(--fill-color);\n",
              "      border-right-color: var(--fill-color);\n",
              "    }\n",
              "    40% {\n",
              "      border-color: transparent;\n",
              "      border-right-color: var(--fill-color);\n",
              "      border-top-color: var(--fill-color);\n",
              "    }\n",
              "    60% {\n",
              "      border-color: transparent;\n",
              "      border-right-color: var(--fill-color);\n",
              "    }\n",
              "    80% {\n",
              "      border-color: transparent;\n",
              "      border-right-color: var(--fill-color);\n",
              "      border-bottom-color: var(--fill-color);\n",
              "    }\n",
              "    90% {\n",
              "      border-color: transparent;\n",
              "      border-bottom-color: var(--fill-color);\n",
              "    }\n",
              "  }\n",
              "</style>\n",
              "\n",
              "  <script>\n",
              "    async function quickchart(key) {\n",
              "      const quickchartButtonEl =\n",
              "        document.querySelector('#' + key + ' button');\n",
              "      quickchartButtonEl.disabled = true;  // To prevent multiple clicks.\n",
              "      quickchartButtonEl.classList.add('colab-df-spinner');\n",
              "      try {\n",
              "        const charts = await google.colab.kernel.invokeFunction(\n",
              "            'suggestCharts', [key], {});\n",
              "      } catch (error) {\n",
              "        console.error('Error during call to suggestCharts:', error);\n",
              "      }\n",
              "      quickchartButtonEl.classList.remove('colab-df-spinner');\n",
              "      quickchartButtonEl.classList.add('colab-df-quickchart-complete');\n",
              "    }\n",
              "    (() => {\n",
              "      let quickchartButtonEl =\n",
              "        document.querySelector('#df-dbe21d16-3717-4bc8-9284-5720864ccd79 button');\n",
              "      quickchartButtonEl.style.display =\n",
              "        google.colab.kernel.accessAllowed ? 'block' : 'none';\n",
              "    })();\n",
              "  </script>\n",
              "</div>\n",
              "    </div>\n",
              "  </div>\n"
            ]
          },
          "metadata": {},
          "execution_count": 62
        }
      ]
    },
    {
      "cell_type": "code",
      "source": [
        "selected_columns = data.loc[:, [\"workclass\", \"age\"]]\n",
        "selected_columns.sum()"
      ],
      "metadata": {
        "colab": {
          "base_uri": "https://localhost:8080/"
        },
        "id": "Sfj7mBqU2WJ8",
        "outputId": "6f6cd3b7-1843-4822-bc54-f16a1a585bb4"
      },
      "execution_count": null,
      "outputs": [
        {
          "output_type": "stream",
          "name": "stderr",
          "text": [
            "<ipython-input-63-5025e6de8da4>:2: FutureWarning: The default value of numeric_only in DataFrame.sum is deprecated. In a future version, it will default to False. In addition, specifying 'numeric_only=None' is deprecated. Select only valid columns or specify the value of numeric_only to silence this warning.\n",
            "  selected_columns.sum()\n"
          ]
        },
        {
          "output_type": "execute_result",
          "data": {
            "text/plain": [
              "age    1887430\n",
              "dtype: int64"
            ]
          },
          "metadata": {},
          "execution_count": 63
        }
      ]
    },
    {
      "cell_type": "markdown",
      "source": [
        "#2.3 Linear Algebra"
      ],
      "metadata": {
        "id": "1kXQf1UTKxDo"
      }
    },
    {
      "cell_type": "markdown",
      "source": [
        "\n",
        "\n",
        "ขณะนี้เราสามารถโหลดชุดข้อมูลลงในเทนเซอร์และจัดการเทนเซอร์เหล่านี้ด้วยการดำเนินการทางคณิตศาสตร์พื้นฐานได้แล้ว ในการเริ่มสร้างโมเดลที่ซับซ้อนขึ้น เราจะต้องใช้เครื่องมือจากพีชคณิตเชิงเส้นด้วย ส่วนนี้จะนำเสนอแนวคิดที่สำคัญที่สุดอย่างราบรื่น โดยเริ่มจากการคำนวณเลขคณิตสเกลาร์และเพิ่มระดับความยากขึ้นไปจนถึงการคูณเมทริกซ์\n",
        "\n",
        "พีชคณิตเชิงเส้นเป็นสาขาหนึ่งของคณิตศาสตร์ที่เกี่ยวข้องกับเวกเตอร์ เมทริกซ์ และการแปลงเชิงเส้น พีชคณิตเชิงเส้นใช้ในหลายสาขาวิชา รวมถึงฟิสิกส์ วิศวกรรมศาสตร์ และวิทยาการคอมพิวเตอร์\n",
        "\n",
        "ในวิทยาการคอมพิวเตอร์ พีชคณิตเชิงเส้นใช้ในหลายงาน รวมถึงการประมวลผลภาพ การประมวลผลภาษาธรรมชาติ และการเรียนรู้ของเครื่อง\n",
        "\n",
        "ส่วนนี้จะแนะนำแนวคิดที่สำคัญที่สุดในพีชคณิตเชิงเส้นอย่างราบรื่น โดยเริ่มจากการคำนวณเลขคณิตสเกลาร์และเพิ่มระดับความยากขึ้นไปจนถึงการคูณเมทริกซ์ ความรู้เหล่านี้จะจำเป็นสำหรับการสร้างโมเดลการเรียนรู้ของเครื่องที่ซับซ้อนขึ้น\n",
        "\n",
        "ต่อไปนี้คือคำอธิบายสั้นๆ ของหัวข้อที่กล่าวถึงในส่วนนี้:\n",
        "\n",
        "* เลขคณิตสเกลาร์: เลขคณิตสเกลาร์คือการดำเนินการทางคณิตศาสตร์กับตัวเลข เช่น การบวก ลบ การคูณ และการหาร\n",
        "* เวกเตอร์: เวกเตอร์คือลำดับของตัวเลขที่มีทิศทางและขนาด เวกเตอร์ใช้ในการแสดงข้อมูลที่มีทิศทางและขนาด เช่น ความเร็วและแรง\n",
        "* เมทริกซ์: เมทริกซ์คือตารางของตัวเลข เมทริกซ์ใช้ในการแสดงข้อมูลที่มีหลายมิติ เช่น รูปภาพและวิดีโอ\n",
        "* การแปลงเชิงเส้น: การแปลงเชิงเส้นคือการดำเนินการที่ใช้เวกเตอร์เพื่อสร้างเวกเตอร์อื่น การแปลงเชิงเส้นใช้ในการเปลี่ยนแปลงข้อมูล เช่น การหมุนและการย่อขนาด\n",
        "\n",
        "หากคุณต้องการเรียนรู้เพิ่มเติมเกี่ยวกับพีชคณิตเชิงเส้น มีทรัพยากรมากมายให้บริการออนไลน์และในห้องสมุด"
      ],
      "metadata": {
        "id": "FnovKVytLS81"
      }
    },
    {
      "cell_type": "code",
      "source": [
        "import torch"
      ],
      "metadata": {
        "id": "fbCeSW6g4VLg"
      },
      "execution_count": null,
      "outputs": []
    },
    {
      "cell_type": "markdown",
      "source": [
        "## 2.3.1 Scalars"
      ],
      "metadata": {
        "id": "cDbz17-3L3lq"
      }
    },
    {
      "cell_type": "markdown",
      "source": [
        "\n",
        "\n",
        "คณิตศาสตร์ในชีวิตประจำวันส่วนใหญ่ประกอบด้วยการจัดการตัวเลขหนึ่งตัวในแต่ละครั้ง โดยทางการ เราเรียกค่าเหล่านี้ว่าค่าสเกลาร์ ตัวอย่างเช่น อุณหภูมิใน Palo Alto อยู่ที่ 72 องศาฟาเรนไฮต์ หากคุณต้องการแปลงอุณหภูมิเป็นเซลเซียส คุณจะประเมินนิพจน์ $c = \\frac{5}{9}(f-32)$ โดยตั้งค่า $f$ เป็น 72 ในสมการนี้ ค่า 5, 9 และ 32 คือค่าสเกลาร์คงที่ ตัวแปร $c$ และ $f$ โดยทั่วไปแทนค่าสเกลาร์ที่ไม่รู้จัก เราแสดงสเกลาร์ด้วยตัวอักษรพิมพ์เล็กธรรมดา (เช่น $x$, $y$ และ $z$) และใช้สัญลักษณ์ $R$ แทนสเปซของสเกลาร์ค่าจริงทั้งหมด (ต่อเนื่อง) เพื่อความรวดเร็ว เราจะข้ามนิยามที่เข้มงวดของสเปซ: เพียงจำไว้ว่านิพจน์ $x \\in R$ เป็นวิธีการพูดอย่างเป็นทางการว่า $x$ คือสเกลาร์ค่าจริง สัญลักษณ์ $\\in$ (ออกเสียงว่า \"ใน\") หมายถึงการเป็นสมาชิกของเซต ตัวอย่างเช่น $x, y \\in \\{0, 1\\}$ หมายความว่า $x$ และ $y$ คือตัวแปรที่สามารถรับค่าได้เพียง 0 หรือ 1 เท่านั้น\n",
        "\n",
        "สเกลาร์ถูกนำมาใช้เป็นเทนเซอร์ที่มีองค์ประกอบเพียงหนึ่งองค์ประกอบ ด้านล่าง เรากำหนดสเกลาร์สองตัวและดำเนินการบวก คูณ หาร และยกกำลังที่คุ้นเคย\n",
        "\n",
        "ตัวอย่าง:\n",
        "\n",
        "```python\n",
        "import torch\n",
        "\n",
        "# define two scalars\n",
        "a = torch.tensor(5)\n",
        "b = torch.tensor(2)\n",
        "\n",
        "# perform addition, multiplication, division, and exponentiation\n",
        "print(a + b)\n",
        "print(a * b)\n",
        "print(a / b)\n",
        "print(a ** b)\n",
        "```\n",
        "\n",
        "ผลลัพธ์:\n",
        "\n",
        "```\n",
        "tensor(7)\n",
        "tensor(10)\n",
        "tensor(2.5000)\n",
        "tensor(25)\n",
        "```\n",
        "\n",
        "เราจะใช้สเกลาร์ในหลายส่วนของหนังสือเล่มนี้ ตัวอย่างเช่น เราจะใช้สเกลาร์เพื่อแสดงอัตราการเรียนรู้ของโมเดลการเรียนรู้ของเครื่องหรือเพื่อแสดงความสำคัญของฟีเจอร์ในชุดข้อมูล"
      ],
      "metadata": {
        "id": "8Vm-Wl_qMd8t"
      }
    },
    {
      "cell_type": "code",
      "source": [
        "x = torch.tensor(3.0)\n",
        "y = torch.tensor(2.0)\n",
        "x + y, x * y, x / y, x**y"
      ],
      "metadata": {
        "colab": {
          "base_uri": "https://localhost:8080/"
        },
        "id": "EVLas6IAL1Cx",
        "outputId": "d8278221-347b-47e4-94a7-c4c2d41c6854"
      },
      "execution_count": null,
      "outputs": [
        {
          "output_type": "execute_result",
          "data": {
            "text/plain": [
              "(tensor(5.), tensor(6.), tensor(1.5000), tensor(9.))"
            ]
          },
          "metadata": {},
          "execution_count": 65
        }
      ]
    },
    {
      "cell_type": "markdown",
      "source": [
        "##2.3.2 Vectors"
      ],
      "metadata": {
        "id": "VQwFrEWRMyyE"
      }
    },
    {
      "cell_type": "markdown",
      "source": [
        "\n",
        "สำหรับวัตถุประสงค์ในปัจจุบัน คุณสามารถคิดถึงเวกเตอร์เป็นอาร์เรย์ของสเกลาร์ความยาวคงที่ เช่นเดียวกับคำสั่งของโค้ด เราเรียกสเกลาร์เหล่านี้ว่าองค์ประกอบของเวกเตอร์ (คำพ้องความหมายรวมถึงรายการและส่วนประกอบ) เมื่อเวกเตอร์แสดงถึงตัวอย่างจากชุดข้อมูลในโลกจริง ค่าของเวกเตอร์จะมีความสำคัญในโลกจริง ตัวอย่างเช่น หากเรากำลังฝึกโมเดลเพื่อทำนายความเสี่ยงของการผิดนัดชำระเงินกู้ เราอาจเชื่อมโยงผู้สมัครแต่ละรายกับเวกเตอร์ที่มีองค์ประกอบสอดคล้องกับปริมาณเช่นรายได้ ระยะเวลาการทำงาน หรือจำนวนการผิดนัดชำระเงินก่อนหน้านี้ หากเรากำลังศึกษาความเสี่ยงของโรคหัวใจ วนตรอัคคี แต่ละเวกเตอร์อาจแสดงถึงผู้ป่วยและองค์ประกอบของเวกเตอร์อาจสอดคล้องกับสัญญาณชีพล่าสุด ระดับคอเลสเตอรอล จำนวนนาทีของการออกกำลังกายต่อวัน ฯลฯ เราแสดงเวกเตอร์ด้วยตัวอักษรพิมพ์เล็กตัวหนา (เช่น $\\mathbf{x}$, $\\mathbf{y}$ และ $\\mathbf{z}$)\n",
        "\n",
        "เวกเตอร์ถูกนำมาใช้เป็นเทนเซอร์ลำดับที่ 1 โดยทั่วไป เทนเซอร์ดังกล่าวสามารถมีความยาวได้ตามต้องการ ขึ้นอยู่กับข้อจำกัดของหน่วยความจำ อย่างไรก็ตาม โปรดทราบว่าใน Python เช่นเดียวกับในภาษาโปรแกรมส่วนใหญ่ ดัชนีเวกเตอร์เริ่มต้นที่ 0 ซึ่งเรียกว่าการจัดทำดัชนีแบบ zero-based ในขณะที่ในพีชคณิตเชิงเส้น ดัชนีเริ่มต้นที่ 1 (การจัดทำดัชนีแบบ one-based)\n",
        "\n",
        "ตัวอย่าง:\n",
        "\n",
        "```python\n",
        "import torch\n",
        "\n",
        "# define a vector\n",
        "x = torch.tensor([1, 2, 3])\n",
        "\n",
        "# print the elements of the vector\n",
        "print(x)\n",
        "\n",
        "# print the length of the vector\n",
        "print(x.numel())\n",
        "```\n",
        "\n",
        "ผลลัพธ์:\n",
        "\n",
        "```\n",
        "tensor([1, 2, 3])\n",
        "3\n",
        "```\n",
        "\n",
        "เราจะใช้เวกเตอร์ในหลายส่วนของหนังสือเล่มนี้ ตัวอย่างเช่น เราจะใช้เวกเตอร์เพื่อแสดงอินพุตและเอาต์พุตของโมเดลการเรียนรู้ของเครื่อง หรือเพื่อแสดงการแทนค่าของภาพหรือวิดีโอ"
      ],
      "metadata": {
        "id": "eN2c8WY6M3JN"
      }
    },
    {
      "cell_type": "code",
      "source": [
        "x = torch.arange(3,dtype = float)\n",
        "x"
      ],
      "metadata": {
        "colab": {
          "base_uri": "https://localhost:8080/"
        },
        "id": "2EPHNTlfNTHN",
        "outputId": "98ee2929-c4fd-4801-c0fc-cf78ea21f5d8"
      },
      "execution_count": null,
      "outputs": [
        {
          "output_type": "execute_result",
          "data": {
            "text/plain": [
              "tensor([0., 1., 2.], dtype=torch.float64)"
            ]
          },
          "metadata": {},
          "execution_count": 66
        }
      ]
    },
    {
      "cell_type": "markdown",
      "source": [
        "\n",
        "\n",
        "เวกเตอร์สามารถแสดงเป็นอาร์เรย์ของสเกลาร์ที่มีความยาวคงที่ ตัวอย่างเช่น หากเรากำลังสร้างโมเดลเพื่อทำนายความเสี่ยงของการผิดนัดชำระเงินกู้ เราอาจแสดงแต่ละผู้สมัครโดยใช้เวกเตอร์ที่มีองค์ประกอบสอดคล้องกับปริมาณเช่นรายได้ ระยะเวลาการทำงาน หรือจำนวนการผิดนัดชำระเงินก่อนหน้านี้ ในกรณีนี้ องค์ประกอบของเวกเตอร์จะแสดงถึงข้อมูลที่มีความสำคัญในโลกจริง\n",
        "\n",
        "เวกเตอร์แสดงโดยตัวอักษรพิมพ์เล็กตัวหนา (เช่น $\\mathbf{x}$, $\\mathbf{y}$ และ $\\mathbf{z}$) ในภาษาไพธอน ดัชนีเวกเตอร์เริ่มต้นที่ 0 ซึ่งเรียกว่าการจัดทำดัชนีแบบ zero-based ในขณะที่ในพีชคณิตเชิงเส้น ดัชนีเริ่มต้นที่ 1 (การจัดทำดัชนีแบบ one-based)\n",
        "\n",
        "เราสามารถอ้างอิงองค์ประกอบของเวกเตอร์โดยใช้ดัชนี ตัวอย่างเช่น $\\mathbf{x}_2$ หมายถึงองค์ประกอบที่สองของ $\\mathbf{x}$ เนื่องจาก $\\mathbf{x}_2$ เป็นสเกลาร์ เราจึงไม่ใช้ตัวหนา\n",
        "\n",
        "โดยทั่วไป เราจะแสดงเวกเตอร์โดยเรียงองค์ประกอบตามแนวตั้ง ตัวอย่างเช่น\n",
        "\n",
        "$\\mathbf{x} = \\begin{bmatrix}\n",
        "x_1 \\\\\n",
        "x_2 \\\\\n",
        "\\vdots \\\\\n",
        "x_n\n",
        "\\end{bmatrix}$\n",
        "\n",
        "\n",
        "ในภายหลัง เราจะแยกความแตกต่างระหว่างเวกเตอร์คอลัมน์ดังกล่าวกับเวกเตอร์แถวที่มีองค์ประกอบเรียงตามแนวนอน\n",
        "\n",
        "เราสามารถเข้าถึงองค์ประกอบของเทนเซอร์ได้ผ่านการจัดทำดัชนี ตัวอย่างเช่น ใน Python เราสามารถเข้าถึงองค์ประกอบที่สองของเวกเตอร์ $\\mathbf{x}$ ได้โดยใช้โค้ดต่อไปนี้:\n",
        "\n",
        "```python\n",
        "import torch\n",
        "\n",
        "x = torch.tensor([1, 2, 3])\n",
        "\n",
        "# print the second element of x\n",
        "print(x[1])\n",
        "```\n",
        "\n",
        "ผลลัพธ์:\n",
        "\n",
        "```\n",
        "2\n",
        "```"
      ],
      "metadata": {
        "id": "VcT7Zk3XNRdr"
      }
    },
    {
      "cell_type": "code",
      "source": [
        "len(x)"
      ],
      "metadata": {
        "colab": {
          "base_uri": "https://localhost:8080/"
        },
        "id": "ysSEGovrQq8A",
        "outputId": "8a705b91-8f03-4372-9c9b-6b636d90fa0e"
      },
      "execution_count": null,
      "outputs": [
        {
          "output_type": "execute_result",
          "data": {
            "text/plain": [
              "3"
            ]
          },
          "metadata": {},
          "execution_count": 67
        }
      ]
    },
    {
      "cell_type": "code",
      "source": [
        "x.shape"
      ],
      "metadata": {
        "colab": {
          "base_uri": "https://localhost:8080/"
        },
        "id": "V-SBQVrpQ5yZ",
        "outputId": "692b8750-345d-4a55-fc26-12069749cfa2"
      },
      "execution_count": null,
      "outputs": [
        {
          "output_type": "execute_result",
          "data": {
            "text/plain": [
              "torch.Size([3])"
            ]
          },
          "metadata": {},
          "execution_count": 68
        }
      ]
    },
    {
      "cell_type": "markdown",
      "source": [
        "\n",
        "บางครั้งคำว่า \"มิติ\" มักใช้แทนความหมายทั้งจำนวนแกน และความยาวตามแกนใดแกนหนึ่ง เพื่อหลีกเลี่ยงความสับสน เราจะใช้คำว่า \"ลำดับ\" แทนจำนวนแกน และคำว่า \"มิติ\" แทนจำนวนองค์ประกอบ\n",
        "\n",
        "ตัวอย่างเช่น เวกเตอร์หนึ่งมิติ (1D) หมายถึงเวกเตอร์ที่มีองค์ประกอบเดียว เวกเตอร์สองมิติ (2D) หมายถึงเวกเตอร์ที่มีองค์ประกอบสององค์ประกอบ เรียงตามแนวแกน X และ Y ตามลำดับ เวกเตอร์สามมิติ (3D) หมายถึงเวกเตอร์ที่มีองค์ประกอบสามองค์ประกอบ เรียงตามแนวแกน X, Y และ Z ตามลำดับ\n",
        "\n",
        "ในรูปภาพต่อไปนี้ แสดงตัวอย่างเวกเตอร์สามมิติ (3D)\n",
        "\n",
        "```\n",
        "x\n",
        "y\n",
        "z\n",
        "```\n",
        "\n",
        "เวกเตอร์นี้ประกอบด้วยสามองค์ประกอบ แต่ละองค์ประกอบแสดงถึงตำแหน่งของจุดในอวกาศสามมิติ องค์ประกอบแรก (x) แสดงถึงตำแหน่งของจุดตามแนวแกน X องค์ประกอบที่สอง (y) แสดงถึงตำแหน่งของจุดตามแนวแกน Y และองค์ประกอบที่สาม (z) แสดงถึงตำแหน่งของจุดตามแนวแกน Z\n",
        "\n",
        "การใช้คำว่า \"ลำดับ\" และ \"มิติ\" แทนความหมายที่ต่างกันจะช่วยให้เราสื่อสารได้อย่างถูกต้องและเข้าใจง่ายขึ้น"
      ],
      "metadata": {
        "id": "87tuX6fFRQCv"
      }
    },
    {
      "cell_type": "markdown",
      "source": [
        "2.3.3 Matrices"
      ],
      "metadata": {
        "id": "ahi51yHDRakY"
      }
    },
    {
      "cell_type": "markdown",
      "source": [
        "\n",
        "\n",
        "\n",
        "เมทริกซ์เป็นเทนเซอร์ลำดับที่สอง เช่นเดียวกับสเกลาร์ที่เป็นเทนเซอร์ลำดับที่ 0 และเวกเตอร์ที่เป็นเทนเซอร์ลำดับที่ 1 เราแสดงเมทริกซ์ด้วยตัวอักษรพิมพ์ใหญ่ตัวหนา (เช่น $X$, $Y$ และ $Z$) และแสดงในโค้ดโดยเทนเซอร์ที่มีสองแกน นิพจน์ $A \\in R^{m\\times n}$ แสดงว่าเมทริกซ์ $A$ มีสเกลาร์ค่าจริง $m \\times n$ เรียงเป็น $m$ แถวและ $n$ คอลัมน์ เมื่อ $m = n$ เราจะบอกว่าเมทริกซ์เป็นเมทริกซ์จัตุรัส เราสามารถแสดงเมทริกซ์ใด ๆ ในรูปแบบตารางได้ ในการอ้างอิงองค์ประกอบแต่ละองค์ประกอบ เราจะใส่ดัชนีแถวและคอลัมน์เป็นตัวห้อย ตัวอย่างเช่น $a_{ij}$ คือค่าที่อยู่ในแถวที่ $i$ และคอลัมน์ที่ $j$ ของ $A$ =\n",
        "\\begin{bmatrix}\n",
        "a_{11} & a_{12} & \\cdots & a_{1n} \\\\\n",
        "a_{21} & a_{22} & \\cdots & a_{2n} \\\\\n",
        "\\vdots  & \\vdots  & \\ddots & \\vdots \\\\\n",
        "a_{m1} & a_{m2} & \\cdots & a_{mn}\n",
        "\\end{bmatrix}\n",
        "\n",
        "\n",
        "ในโค้ด เราแสดงเมทริกซ์ $A \\in R^{m\\times n}$ ด้วยเทนเซอร์ลำดับที่สองที่มีรูปร่าง $(m, n)$ เราสามารถแปลงเทนเซอร์ $m \\times n$ ที่มีขนาดเหมาะสมเป็นเมทริกซ์ $m \\times n$ ได้โดยส่งผ่านรูปร่างที่ต้องการไปยัง reshape\n",
        "\n",
        "ตัวอย่าง:\n",
        "\n",
        "```python\n",
        "import torch\n",
        "\n",
        "# define a 2D tensor\n",
        "x = torch.tensor([[1, 2], [3, 4]])\n",
        "\n",
        "# print the shape of the tensor\n",
        "print(x.shape)\n",
        "\n",
        "# convert the tensor to a 2x2 matrix\n",
        "y = x.reshape((2, 2))\n",
        "\n",
        "# print the matrix\n",
        "print(y)\n",
        "```\n",
        "\n",
        "ผลลัพธ์:\n",
        "\n",
        "```\n",
        "torch.Size([2, 2])\n",
        "tensor([[1, 2],\n",
        "       [3, 4]])\n",
        "```\n",
        "\n",
        "เมทริกซ์ใช้ในหลายงานการประมวลผลข้อมูล เช่น การคูณเมทริกซ์ การผกผันเมทริกซ์ และการแก้สมการเชิงเส้น"
      ],
      "metadata": {
        "id": "1HS8NW_FRbwD"
      }
    },
    {
      "cell_type": "markdown",
      "source": [
        "หรือ\n"
      ],
      "metadata": {
        "id": "UsH8L3dsSg_f"
      }
    },
    {
      "cell_type": "code",
      "source": [
        "A = torch.arange(6,dtype=int).reshape(3,2)\n",
        "A"
      ],
      "metadata": {
        "colab": {
          "base_uri": "https://localhost:8080/"
        },
        "id": "eE3Lp13pQ-nQ",
        "outputId": "d88d3d24-e70a-4288-c11a-a373d4db5149"
      },
      "execution_count": null,
      "outputs": [
        {
          "output_type": "execute_result",
          "data": {
            "text/plain": [
              "tensor([[0, 1],\n",
              "        [2, 3],\n",
              "        [4, 5]])"
            ]
          },
          "metadata": {},
          "execution_count": 69
        }
      ]
    },
    {
      "cell_type": "markdown",
      "source": [
        "การแปลและเรียบเรียงอ่านเรียนรู้ง่ายของประโยค \"B = A>, then 𝑏𝑖 𝑗 = 𝑎 𝑗𝑖 for all 𝑖 and 𝑗. Thus, the transpose of an 𝑚 × 𝑛 matrix is an 𝑛 × 𝑚\n",
        "matrix:\n",
        "A> =\n",
        "\n",
        "In code, we can access any matrix’s transpose as follows:\" มีดังนี้:\n",
        "\n",
        "\"เมทริกซ์ผกผัน (transpose) ของเมทริกซ์ $A$ นั้น จะได้โดยการสลับตำแหน่งของแถวและคอลัมน์\n",
        "\n",
        "\n",
        "$$\n",
        "\\mathbf{A}^\\top =\n",
        "\\begin{bmatrix}\n",
        "    a_{11} & a_{21} & \\dots  & a_{m1} \\\\\n",
        "    a_{12} & a_{22} & \\dots  & a_{m2} \\\\\n",
        "    \\vdots & \\vdots & \\ddots  & \\vdots \\\\\n",
        "    a_{1n} & a_{2n} & \\dots  & a_{mn}\n",
        "\\end{bmatrix}.\n",
        "$$\n",
        "\n",
        "\n",
        "ในโค้ด เราสามารถเข้าถึงเมทริกซ์ผกผันของเมทริกซ์ใด ๆ ได้โดยการใช้ฟังก์ชัน `transpose()` ดังนี้\"\n",
        "\n",
        "ตัวอย่าง:\n",
        "\n",
        "```python\n",
        "import torch\n",
        "\n",
        "# define a 2x2 matrix\n",
        "A = torch.tensor([[1, 2], [3, 4]])\n",
        "\n",
        "# print the transpose of A\n",
        "print(A.transpose(1, 0))\n",
        "```\n",
        "\n",
        "ผลลัพธ์:\n",
        "\n",
        "```\n",
        "tensor([[1, 3],\n",
        "       [2, 4]])\n",
        "```\n",
        "\n",
        "การแปลและเรียบเรียงประโยคนี้เป็นภาษาง่าย ๆ ดังนี้:\n",
        "\n",
        "\"เมทริกซ์ผกผันคือเมทริกซ์ที่แถวและคอลัมน์สลับตำแหน่งกัน ตัวอย่างเช่น เมทริกซ์ $A$ ต่อไปนี้\n",
        "\n",
        "```\n",
        "A =\n",
        "\n",
        "[1 2]\n",
        "[3 4]\n",
        "```\n",
        "\n",
        "เมทริกซ์ผกผันของเมทริกซ์ $A$ คือ\n",
        "\n",
        "```\n",
        "A> =\n",
        "\n",
        "[1 3]\n",
        "[2 4]\n",
        "```\n",
        "\n",
        "ในโค้ด เราสามารถใช้ฟังก์ชัน `transpose()` เพื่อหาเมทริกซ์ผกผันของเมทริกซ์ใด ๆ ได้โดยการเปลี่ยนตำแหน่งของแถวและคอลัมน์\"\n",
        "\n",
        "หวังว่าจะช่วยให้เข้าใจได้ง่ายขึ้นนะคะ"
      ],
      "metadata": {
        "id": "4Tzaf8ouTitL"
      }
    },
    {
      "cell_type": "code",
      "source": [
        "A"
      ],
      "metadata": {
        "colab": {
          "base_uri": "https://localhost:8080/"
        },
        "id": "U2_CGAtVT79Z",
        "outputId": "38033f2a-37f3-4d81-93e9-22b7635785ad"
      },
      "execution_count": null,
      "outputs": [
        {
          "output_type": "execute_result",
          "data": {
            "text/plain": [
              "tensor([[0, 1],\n",
              "        [2, 3],\n",
              "        [4, 5]])"
            ]
          },
          "metadata": {},
          "execution_count": 70
        }
      ]
    },
    {
      "cell_type": "code",
      "source": [
        "A.T #A transpose"
      ],
      "metadata": {
        "colab": {
          "base_uri": "https://localhost:8080/"
        },
        "id": "dsre4hsLSt9w",
        "outputId": "f5866c35-a4d8-4d54-c0dc-b16c85299ad6"
      },
      "execution_count": null,
      "outputs": [
        {
          "output_type": "execute_result",
          "data": {
            "text/plain": [
              "tensor([[0, 2, 4],\n",
              "        [1, 3, 5]])"
            ]
          },
          "metadata": {},
          "execution_count": 71
        }
      ]
    },
    {
      "cell_type": "markdown",
      "source": [
        "Symmetric matrices are the subset of square matrices that are equal to their own transposes:\n",
        "A = A>. The following matrix is symmetric:"
      ],
      "metadata": {
        "id": "8VUFWV7mUHEP"
      }
    },
    {
      "cell_type": "code",
      "source": [
        "A = torch.tensor([[1, 2, 3], [2, 0, 4], [3, 4, 5]])\n",
        "A == A.T"
      ],
      "metadata": {
        "colab": {
          "base_uri": "https://localhost:8080/"
        },
        "id": "HhiKC2fZT6rX",
        "outputId": "0c3122c0-2b48-4ae9-e18f-e4ceadfa5c77"
      },
      "execution_count": null,
      "outputs": [
        {
          "output_type": "execute_result",
          "data": {
            "text/plain": [
              "tensor([[True, True, True],\n",
              "        [True, True, True],\n",
              "        [True, True, True]])"
            ]
          },
          "metadata": {},
          "execution_count": 72
        }
      ]
    },
    {
      "cell_type": "code",
      "source": [
        "A"
      ],
      "metadata": {
        "colab": {
          "base_uri": "https://localhost:8080/"
        },
        "id": "eZ2m08GNUTVB",
        "outputId": "b9fe70ba-70c6-4b6c-aabb-bb32ad8d9789"
      },
      "execution_count": null,
      "outputs": [
        {
          "output_type": "execute_result",
          "data": {
            "text/plain": [
              "tensor([[1, 2, 3],\n",
              "        [2, 0, 4],\n",
              "        [3, 4, 5]])"
            ]
          },
          "metadata": {},
          "execution_count": 73
        }
      ]
    },
    {
      "cell_type": "markdown",
      "source": [
        "\n",
        "\n",
        "\"เมทริกซ์เป็นเครื่องมือที่มีประโยชน์ในการแทนข้อมูลชุดข้อมูล โดยปกติแล้ว แถวของเมทริกซ์จะแทนข้อมูลแต่ละรายการ และคอลัมน์ของเมทริกซ์จะแทนคุณสมบัติที่แตกต่างกันของข้อมูลแต่ละรายการ\"\n",
        "\n",
        "การแปลประโยคนี้เป็นภาษาง่าย ๆ ดังนี้:\n",
        "\n",
        "\"เมทริกซ์สามารถใช้ในการแสดงข้อมูลชุดข้อมูล โดยแถวของเมทริกซ์จะแทนข้อมูลแต่ละรายการ เช่น ข้อมูลลูกค้า หรือข้อมูลสินค้า และคอลัมน์ของเมทริกซ์จะแทนคุณสมบัติที่แตกต่างกันของข้อมูลแต่ละรายการ เช่น ชื่อ ที่อยู่ หรือราคา\"\n",
        "\n",
        "ตัวอย่างเช่น เมทริกซ์ที่แสดงข้อมูลลูกค้าอาจมีลักษณะดังนี้:\n",
        "\n",
        "\n",
        "| ชื่อ | ที่อยู่ | เบอร์โทรศัพท์ |\n",
        "|---|---|---|\n",
        "| นาย ก | บ้านเลขที่ 123 ถนนสุขุมวิท แขวงบางกะปิ เขตห้วยขวาง กรุงเทพฯ 10320 | 081-234-5678 |\n",
        "| นาง ข | บ้านเลขที่ 456 ถนนรัชดาภิเษก แขวงดินแดง เขตดินแดง กรุงเทพฯ 10400 | 092-345-6789 |\n",
        "\n",
        "\n",
        "ในเมทริกซ์นี้ แถวที่ 1 แทนข้อมูลลูกค้ารายแรก แถวที่ 2 แทนข้อมูลลูกค้ารายที่สอง และคอลัมน์แรกแทนชื่อ คอลัมน์ที่สองแทนที่อยู่ และคอลัมน์ที่สามแทนเบอร์โทรศัพท์\n",
        "\n",
        "การแทนข้อมูลชุดข้อมูลด้วยเมทริกซ์มีประโยชน์หลายประการ ตัวอย่างเช่น ทำให้สามารถจัดระเบียบข้อมูลได้ง่ายขึ้น ทำให้สามารถเปรียบเทียบข้อมูลชุดข้อมูลที่แตกต่างกันได้ง่ายขึ้น และทำให้สามารถวิเคราะห์ข้อมูลชุดข้อมูลได้ง่ายขึ้น"
      ],
      "metadata": {
        "id": "0aG3S6TrUr36"
      }
    },
    {
      "cell_type": "markdown",
      "source": [
        "##2.3.4 Tensors:"
      ],
      "metadata": {
        "id": "2L_hEA_4GdIn"
      }
    },
    {
      "cell_type": "markdown",
      "source": [],
      "metadata": {
        "id": "E5tUNy2IJabe"
      }
    },
    {
      "cell_type": "markdown",
      "source": [
        "\n",
        "\n",
        " เทนเซอร์\n",
        "\n",
        "แม้ว่าคุณจะสามารถไปได้ไกลในการเดินทางด้านการเรียนรู้ของเครื่องด้วยสเกลาร์ เวกเตอร์ และเมทริกซ์เท่านั้น แต่ในที่สุดคุณอาจต้องทำงานกับเทนเซอร์ลำดับที่สูงกว่า เทนเซอร์เป็นวิธีการทั่วไปในการอธิบายส่วนขยายของอาร์เรย์ลำดับที่ n เทนเซอร์ยังเป็นชื่อของวัตถุซอฟต์แวร์ของคลาสเทนเซอร์ เนื่องจากเทนเซอร์เหล่านี้สามารถมีแกนได้ตามจำนวนที่ต้องการ ในขณะที่อาจสับสนที่จะใช้คำว่าเทนเซอร์สำหรับทั้งวัตถุทางคณิตศาสตร์และการนำเสนอในโค้ด แต่ความหมายของเราโดยปกติจะชัดเจนจากบริบท เราแสดงเทนเซอร์ทั่วไปด้วยตัวพิมพ์ใหญ่ที่มีรูปแบบฟอนต์พิเศษ (เช่น $\\mathsf{X}$, $\\mathsf{Y}$ และ $\\mathsf{Z}$) และกลไกการจัดทำดัชนีของเทนเซอร์ (เช่น $x_{ijk}$ และ $[\\mathsf{X}]_{1, 2i-1, 3}$) จะตามมาอย่างเป็นธรรมชาติจากกลไกการจัดทำดัชนีของเมทริกซ์\n",
        "\n",
        "เทนเซอร์จะกลายเป็นสิ่งสำคัญมากขึ้นเมื่อเราเริ่มทำงานกับรูปภาพ แต่ละภาพจะมาถึงในรูปแบบเทนเซอร์ลำดับที่ 3 ที่มีแกนสอดคล้องกับความสูง ความกว้าง และช่องสัญญาณ ที่ตำแหน่งเชิงพื้นที่แต่ละตำแหน่ง ความเข้มของแต่ละสี (แดง เขียว และน้ำเงิน) จะถูกจัดเรียงตามช่องสัญญาณ นอกจากนี้ ชุดรูปภาพจะถูกแสดงในโค้ดโดยเทนเซอร์ลำดับที่ 4 โดยรูปภาพที่แตกต่างกันจะถูกจัดทำดัชนีตามแกนแรก เทนเซอร์ลำดับที่สูงกว่าจะถูกสร้างขึ้นเช่นเดียวกับเวกเตอร์และเมทริกซ์ โดยการเพิ่มจำนวนส่วนประกอบรูปร่าง\n",
        "\n",
        "สรุป:\n",
        "\n",
        "เทนเซอร์เป็นวัตถุทางคณิตศาสตร์ที่สามารถใช้ในการแทนข้อมูลที่มีหลายมิติ เช่น รูปภาพและวิดีโอ เทนเซอร์สามารถมีแกนได้ตามจำนวนที่ต้องการ ซึ่งหมายความว่าสามารถใช้ในการแทนข้อมูลที่ซับซ้อนได้\n",
        "\n",
        "เทนเซอร์จะกลายเป็นสิ่งสำคัญมากขึ้นเมื่อเราเริ่มทำงานกับรูปภาพ แต่ละภาพสามารถแสดงเป็นเทนเซอร์ลำดับที่ 3 ได้ โดยมีแกนสอดคล้องกับความสูง ความกว้าง และช่องสัญญาณ ช่องสัญญาณคือข้อมูลที่แสดงถึงสีของพิกเซล\n",
        "\n",
        "ชุดรูปภาพสามารถแสดงเป็นเทนเซอร์ลำดับที่ 4 ได้ โดยมีแกนแรกแสดงถึงรูปภาพแต่ละรูป และแกนที่เหลือแสดงถึงความสูง ความกว้าง และช่องสัญญาณของรูปภาพ\n",
        "\n",
        "เทนเซอร์ลำดับที่สูงกว่าสามารถใช้ในการแทนข้อมูลที่มีหลายมิติมากขึ้น เช่น วิดีโอและข้อมูลเซ็นเซอร์"
      ],
      "metadata": {
        "id": "D_4ooJtWGen5"
      }
    },
    {
      "cell_type": "code",
      "source": [
        "torch.arange(24).reshape(2, 3, 4)"
      ],
      "metadata": {
        "colab": {
          "base_uri": "https://localhost:8080/"
        },
        "id": "q4lZ0eO7UML7",
        "outputId": "8f07f42c-aefc-4065-90a3-5808e4b3e412"
      },
      "execution_count": null,
      "outputs": [
        {
          "output_type": "execute_result",
          "data": {
            "text/plain": [
              "tensor([[[ 0,  1,  2,  3],\n",
              "         [ 4,  5,  6,  7],\n",
              "         [ 8,  9, 10, 11]],\n",
              "\n",
              "        [[12, 13, 14, 15],\n",
              "         [16, 17, 18, 19],\n",
              "         [20, 21, 22, 23]]])"
            ]
          },
          "metadata": {},
          "execution_count": 74
        }
      ]
    },
    {
      "cell_type": "markdown",
      "source": [
        "## 2.3.5 Basic Properties of Tensor Arithmetic"
      ],
      "metadata": {
        "id": "NDbkJWP8JbYa"
      }
    },
    {
      "cell_type": "markdown",
      "source": [
        "\n",
        "\n",
        "\n",
        "สเกลาร์ เวกเตอร์ เมทริกซ์ และเทนเซอร์ลำดับที่สูงกว่า ล้วนมีคุณสมบัติที่มีประโยชน์บางอย่าง เช่น การดำเนินการแบบองค์ประกอบจะสร้างเอาต์พุตที่มีรูปร่างเหมือนกันกับอินพุต\n",
        "\n",
        "\n"
      ],
      "metadata": {
        "id": "d6_FqwroJg_L"
      }
    },
    {
      "cell_type": "code",
      "source": [
        "A = torch.arange(6, dtype=torch.float32).reshape(2, 3)\n",
        "B = A.clone() # Assign a copy of A to B by allocating new memory\n",
        "A, A + B\n"
      ],
      "metadata": {
        "colab": {
          "base_uri": "https://localhost:8080/"
        },
        "id": "ThG2c5CyKQg4",
        "outputId": "3143c4ff-9e33-411a-9aa2-60740163ac89"
      },
      "execution_count": null,
      "outputs": [
        {
          "output_type": "execute_result",
          "data": {
            "text/plain": [
              "(tensor([[0., 1., 2.],\n",
              "         [3., 4., 5.]]),\n",
              " tensor([[ 0.,  2.,  4.],\n",
              "         [ 6.,  8., 10.]]))"
            ]
          },
          "metadata": {},
          "execution_count": 75
        }
      ]
    },
    {
      "cell_type": "markdown",
      "source": [
        "\n",
        "\n",
        "\n",
        "\"ผลคูณแบบองค์ประกอบของเมทริกซ์สองตัว เรียกว่า ผลคูณแบบ Hadamard (แสดงโดย ⊙ เราสามารถเขียนองค์ประกอบของผลคูณแบบ Hadamard ของเมทริกซ์สองตัว $\\mathbf{A}, \\mathbf{B} \\in \\mathbb{R}^{m \\times n}$:\n",
        "\n",
        "\n",
        "\n",
        "$$\n",
        "\\mathbf{A} \\odot \\mathbf{B} =\n",
        "\\begin{bmatrix}\n",
        "    a_{11}  b_{11} & a_{12}  b_{12} & \\dots  & a_{1n}  b_{1n} \\\\\n",
        "    a_{21}  b_{21} & a_{22}  b_{22} & \\dots  & a_{2n}  b_{2n} \\\\\n",
        "    \\vdots & \\vdots & \\ddots & \\vdots \\\\\n",
        "    a_{m1}  b_{m1} & a_{m2}  b_{m2} & \\dots  & a_{mn}  b_{mn}\n",
        "\\end{bmatrix}.\n",
        "$$\n",
        "\n",
        "โดยที่ a\n",
        "ij\n",
        "​\n",
        "  และ b\n",
        "ij\n",
        "​\n",
        "  คือองค์ประกอบที่แถวที่ i และคอลัมน์ที่ j ของเมทริกซ์ A และ B ตามลำดับ"
      ],
      "metadata": {
        "id": "ALPwpStbKIR4"
      }
    },
    {
      "cell_type": "code",
      "source": [
        "A*B"
      ],
      "metadata": {
        "colab": {
          "base_uri": "https://localhost:8080/"
        },
        "id": "j7Jmq3O4LSzs",
        "outputId": "d0a924e4-d4b7-4d9d-964a-1bf6875a1122"
      },
      "execution_count": null,
      "outputs": [
        {
          "output_type": "execute_result",
          "data": {
            "text/plain": [
              "tensor([[ 0.,  1.,  4.],\n",
              "        [ 9., 16., 25.]])"
            ]
          },
          "metadata": {},
          "execution_count": 76
        }
      ]
    },
    {
      "cell_type": "markdown",
      "source": [
        "การแปลและเรียบเรียงอ่านเรียนรู้ง่ายของประโยค \"[Adding or multiplying a scalar and a tensor] produces a result with the same shape as the original tensor. Here, each element of the tensor is added to (or multiplied by) the scalar.\" มีดังนี้:\n",
        "\n",
        "\"การบวกหรือคูณสเกลาร์และเทนเซอร์ จะได้ผลลัพธ์ที่มีรูปร่างเหมือนกับเทนเซอร์เดิม โดยแต่ละองค์ประกอบของเทนเซอร์จะถูกบวก (หรือคูณ) ด้วยสเกลาร์\"\n",
        "\n",
        "ตัวอย่างเช่น หากเรามีเทนเซอร์ $A$ ที่มีรูปร่าง $(2,3)$ และสเกลาร์ $b$, เราสามารถบวกหรือคูณ $A$ และ $b$ ได้ดังนี้:\n",
        "\n",
        "```\n",
        "A = [[1, 2, 3], [4, 5, 6]]\n",
        "b = 5\n",
        "\n",
        "# การบวกสเกลาร์และเทนเซอร์\n",
        "C = A + b\n",
        "\n",
        "# การคูณสเกลาร์และเทนเซอร์\n",
        "D = A * b\n",
        "\n",
        "# ผลลัพธ์\n",
        "C = [[6, 7, 8], [9, 10, 11]]\n",
        "D = [[5, 10, 15], [20, 25, 30]]\n",
        "```\n",
        "\n",
        "การบวกและการคูณสเกลาร์และเทนเซอร์เป็นการดำเนินการพื้นฐานในการประมวลผลข้อมูล สามารถใช้ในการรวมข้อมูลจากหลายแหล่งเข้าด้วยกัน การเปลี่ยนแปลงรูปร่างของข้อมูล และการคำนวณที่ซับซ้อนอื่นๆ ได้"
      ],
      "metadata": {
        "id": "OoNtLxrKKLtp"
      }
    },
    {
      "cell_type": "code",
      "source": [
        "a = 2\n",
        "X = torch.arange(24).reshape(2, 3, 4)\n",
        "a + X, (a * X).shape"
      ],
      "metadata": {
        "colab": {
          "base_uri": "https://localhost:8080/"
        },
        "id": "dO-KJfLNLsL5",
        "outputId": "f2c052c6-364f-40a9-eaf6-a90e0805c2c6"
      },
      "execution_count": null,
      "outputs": [
        {
          "output_type": "execute_result",
          "data": {
            "text/plain": [
              "(tensor([[[ 2,  3,  4,  5],\n",
              "          [ 6,  7,  8,  9],\n",
              "          [10, 11, 12, 13]],\n",
              " \n",
              "         [[14, 15, 16, 17],\n",
              "          [18, 19, 20, 21],\n",
              "          [22, 23, 24, 25]]]),\n",
              " torch.Size([2, 3, 4]))"
            ]
          },
          "metadata": {},
          "execution_count": 77
        }
      ]
    },
    {
      "cell_type": "markdown",
      "source": [
        "2.3.6 Reduction\n"
      ],
      "metadata": {
        "id": "_wURdnYrL_UO"
      }
    },
    {
      "cell_type": "markdown",
      "source": [
        "การแปลของประโยค \"Often, we wish to calculate the sum of a tensor’s elements. To express the sum of the\n",
        "elements in a vector x of length 𝑛, we write Í𝑛\n",
        "𝑖=1\n",
        "𝑥𝑖\n",
        ". There is a simple function for it:\" คือ\n",
        "\n",
        "\"บ่อยครั้งที่เราต้องการคำนวณผลรวมขององค์ประกอบของเทนเซอร์ เพื่อแสดงผลรวมขององค์ประกอบในเวกเตอร์ $x$ ที่มีความยาว $n$ เราเขียนว่า $\\sum_{i=1}^{n} x_i$ มีฟังก์ชันง่ายๆ สำหรับสิ่งนี้คือ\"\n",
        "\n",
        "ฟังก์ชันที่ง่ายที่สุดสำหรับคำนวณผลรวมขององค์ประกอบของเทนเซอร์คือฟังก์ชัน `sum()` ใน PyTorch ฟังก์ชันนี้สามารถใช้คำนวณผลรวมขององค์ประกอบของเทนเซอร์ที่มีแกนใดก็ได้ ตัวอย่างเช่น หากเรามีเทนเซอร์ $A$ ที่มีรูปร่าง $(2,3)$, เราสามารถคำนวณผลรวมขององค์ประกอบทั้งหมดของเทนเซอร์ได้ดังนี้:\n",
        "\n",
        "```python\n",
        "import torch\n",
        "\n",
        "A = torch.tensor([[1, 2, 3], [4, 5, 6]])\n",
        "\n",
        "# คำนวณผลรวมขององค์ประกอบทั้งหมดของเทนเซอร์\n",
        "sum_of_all_elements = A.sum()\n",
        "\n",
        "# พิมพ์ผลลัพธ์\n",
        "print(sum_of_all_elements)\n",
        "```\n",
        "\n",
        "ผลลัพธ์:\n",
        "\n",
        "```\n",
        "21.0\n",
        "```\n",
        "\n",
        "เรายังสามารถใช้ฟังก์ชัน `sum()` เพื่อคำนวณผลรวมขององค์ประกอบของเทนเซอร์ตามแกนที่เฉพาะเจาะจง ตัวอย่างเช่น หากเราต้องการคำนวณผลรวมขององค์ประกอบของแต่ละแถวของเทนเซอร์ $A$ เราสามารถใช้ฟังก์ชัน `sum()` ได้ดังนี้:\n",
        "\n",
        "```python\n",
        "# คำนวณผลรวมขององค์ประกอบของแต่ละแถวของเทนเซอร์\n",
        "sum_of_rows = A.sum(dim=1)\n",
        "\n",
        "# พิมพ์ผลลัพธ์\n",
        "print(sum_of_rows)\n",
        "```\n",
        "\n",
        "ผลลัพธ์:\n",
        "\n",
        "```\n",
        "tensor([6., 15.])\n",
        "```\n",
        "\n",
        "ฟังก์ชัน `sum()` เป็นฟังก์ชันที่มีประโยชน์ในการประมวลผลข้อมูล สามารถใช้คำนวณผลรวมขององค์ประกอบของเทนเซอร์ที่มีขนาดและรูปร่างใดก็ได้"
      ],
      "metadata": {
        "id": "23FEG-75MNun"
      }
    },
    {
      "cell_type": "code",
      "source": [
        "import torch\n",
        "\n",
        "A = torch.arange(30).reshape(5,3,2)\n",
        "print(A)\n",
        "# คำนวณผลรวมขององค์ประกอบทั้งหมดของเทนเซอร์\n",
        "sum_of_all_elements = A.sum()\n",
        "\n",
        "# พิมพ์ผลลัพธ์\n",
        "print(sum_of_all_elements)"
      ],
      "metadata": {
        "colab": {
          "base_uri": "https://localhost:8080/"
        },
        "id": "8D78NwJDMTw2",
        "outputId": "f0ff16fe-67ab-42d1-c94f-269f22c13d00"
      },
      "execution_count": null,
      "outputs": [
        {
          "output_type": "stream",
          "name": "stdout",
          "text": [
            "tensor([[[ 0,  1],\n",
            "         [ 2,  3],\n",
            "         [ 4,  5]],\n",
            "\n",
            "        [[ 6,  7],\n",
            "         [ 8,  9],\n",
            "         [10, 11]],\n",
            "\n",
            "        [[12, 13],\n",
            "         [14, 15],\n",
            "         [16, 17]],\n",
            "\n",
            "        [[18, 19],\n",
            "         [20, 21],\n",
            "         [22, 23]],\n",
            "\n",
            "        [[24, 25],\n",
            "         [26, 27],\n",
            "         [28, 29]]])\n",
            "tensor(435)\n"
          ]
        }
      ]
    },
    {
      "cell_type": "markdown",
      "source": [
        "\n",
        "\n",
        "เพื่อแสดงผลรวมขององค์ประกอบของเทนเซอร์ที่มีรูปร่างใดก็ได้ เราเพียงแค่บวกเหนือแกนทั้งหมดของเทนเซอร์ ตัวอย่างเช่น ผลรวมขององค์ประกอบของเมทริกซ์ $m \\times n$ $\\mathbf{A}$ สามารถเขียนเป็น $\\sum_{i=1}^{m} \\sum_{j=1}^{n} a_{ij}$\n",
        "\n",
        "ในที่นี้ สัญลักษณ์ $\\sum$ หมายถึงการบวก และ $i$ และ $j$ เป็นดัชนีที่วิ่งจาก $1$ ถึง $m$ และ $n$ ตามลำดับ ดังนั้น ผลรวมขององค์ประกอบทั้งหมดของเมทริกซ์ $\\mathbf{A}$ คือการบวกองค์ประกอบทั้งหมดของเมทริกซ์เข้าด้วยกัน\n",
        "\n",
        "แนวคิดนี้สามารถใช้กับเทนเซอร์ที่มีรูปร่างใดก็ได้ ตัวอย่างเช่น ผลรวมขององค์ประกอบทั้งหมดของเทนเซอร์ $3 \\times 4 \\times 5$ $\\mathbf{B}$ สามารถเขียนเป็น $\\sum_{i=1}^{3} \\sum_{j=1}^{4} \\sum_{k=1}^{5} b_{ijk}$\n",
        "\n",
        "การคำนวณผลรวมขององค์ประกอบของเทนเซอร์เป็นการดำเนินการพื้นฐานในการประมวลผลข้อมูล สามารถใช้ในงานต่างๆ เช่น การคำนวณค่าเฉลี่ย การคำนวณความแปรปรวน และการคำนวณความสัมพันธ์ระหว่างตัวแปรต่างๆ"
      ],
      "metadata": {
        "id": "s9Qel6TyNLfv"
      }
    },
    {
      "cell_type": "code",
      "source": [
        "A.shape, A.sum()"
      ],
      "metadata": {
        "colab": {
          "base_uri": "https://localhost:8080/"
        },
        "id": "vBihqxgtL_3w",
        "outputId": "91c2d1e0-b043-437c-d8e1-017545430df9"
      },
      "execution_count": null,
      "outputs": [
        {
          "output_type": "execute_result",
          "data": {
            "text/plain": [
              "(torch.Size([5, 3, 2]), tensor(435))"
            ]
          },
          "metadata": {},
          "execution_count": 81
        }
      ]
    },
    {
      "cell_type": "markdown",
      "source": [
        "\n",
        "\n",
        "ตามค่าเริ่มต้น การเรียกใช้ฟังก์ชัน `sum` จะ*ลด*เทนเซอร์ตามแกนทั้งหมดของเทนเซอร์ จนกระทั่งได้สเกลาร์ ไลบรารีของเรายังอนุญาตให้เรา[**ระบุแกนที่จะลดเทนเซอร์**] เพื่อบวกองค์ประกอบทั้งหมดตามแถว (แกน 0) เราระบุ `axis=0` ใน `sum` เนื่องจากเมทริกซ์อินพุตจะลดลงตามแกน 0 เพื่อสร้างเวกเตอร์เอาต์พุต จึงไม่มีแกนนี้ในรูปร่างของเอาต์พุต\n",
        "\n",
        "ประโยคนี้หมายความว่าฟังก์ชัน `sum()` จะลดเทนเซอร์ตามแกนทั้งหมดของเทนเซอร์โดยค่าเริ่มต้น ซึ่งจะส่งผลให้ได้สเกลาร์ อย่างไรก็ตาม เราสามารถระบุแกนที่ต้องการลดเทนเซอร์ได้โดยใช้พารามิเตอร์ `axis` ตัวอย่างเช่น หากเราต้องการบวกองค์ประกอบทั้งหมดตามแถวของเมทริกซ์ เราสามารถใช้ฟังก์ชัน `sum()` ได้ดังนี้:\n",
        "\n",
        "```python\n",
        "import torch\n",
        "\n",
        "A = torch.tensor([[1, 2, 3], [4, 5, 6]])\n",
        "\n",
        "# บวกองค์ประกอบทั้งหมดตามแถวของเมทริกซ์\n",
        "sum_of_rows = A.sum(dim=0)\n",
        "\n",
        "# พิมพ์ผลลัพธ์\n",
        "print(sum_of_rows)\n",
        "```\n",
        "\n",
        "ผลลัพธ์:\n",
        "\n",
        "```\n",
        "tensor([5., 7., 9.])\n",
        "```\n",
        "\n",
        "ดังที่คุณเห็น แกน 0 จะหายไปจากรูปร่างของเอาต์พุต เนื่องจากเมทริกซ์อินพุตจะลดลงตามแกน 0 เพื่อสร้างเวกเตอร์เอาต์พุต\n",
        "\n",
        "การระบุแกนที่ต้องการลดเทนเซอร์เป็นคุณสมบัติที่มีประโยชน์ของฟังก์ชัน `sum()` ซึ่งช่วยให้เราสามารถคำนวณผลรวมขององค์ประกอบของเทนเซอร์ที่มีรูปร่างและขนาดใดก็ได้"
      ],
      "metadata": {
        "id": "Y_5vYPQUNqto"
      }
    },
    {
      "cell_type": "code",
      "source": [
        "A = torch.tensor([[1, 2, 3], [4, 5, 6]])\n",
        "print(A)\n",
        "# บวกองค์ประกอบทั้งหมดตามแถวของเมทริกซ์\n",
        "sum_of_rows = A.sum(dim=0)\n",
        "\n",
        "# พิมพ์ผลลัพธ์\n",
        "print(sum_of_rows)"
      ],
      "metadata": {
        "colab": {
          "base_uri": "https://localhost:8080/"
        },
        "id": "KORI67y9N4xG",
        "outputId": "513fc76e-2354-476d-aef0-f7db8747253c"
      },
      "execution_count": null,
      "outputs": [
        {
          "output_type": "stream",
          "name": "stdout",
          "text": [
            "tensor([[1, 2, 3],\n",
            "        [4, 5, 6]])\n",
            "tensor([5, 7, 9])\n"
          ]
        }
      ]
    },
    {
      "cell_type": "markdown",
      "source": [],
      "metadata": {
        "id": "GbNJbxkhOIbN"
      }
    },
    {
      "cell_type": "code",
      "source": [],
      "metadata": {
        "id": "_8sjZJi0N3ip"
      },
      "execution_count": null,
      "outputs": []
    }
  ]
}